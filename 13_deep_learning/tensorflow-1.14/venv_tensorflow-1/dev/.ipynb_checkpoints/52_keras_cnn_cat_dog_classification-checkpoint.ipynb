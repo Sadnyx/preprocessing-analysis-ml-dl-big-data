{
 "cells": [
  {
   "cell_type": "markdown",
   "metadata": {},
   "source": [
    "veri seti: https://sds-platform-private.s3-us-east-2.amazonaws.com/uploads/P16-Convolutional-Neural-Networks.zip"
   ]
  },
  {
   "cell_type": "markdown",
   "metadata": {},
   "source": [
    "köpek ve kedi fotoğrafları var"
   ]
  },
  {
   "cell_type": "markdown",
   "metadata": {},
   "source": [
    "## 1. Kütüphaneler"
   ]
  },
  {
   "cell_type": "code",
   "execution_count": 1,
   "metadata": {},
   "outputs": [
    {
     "name": "stderr",
     "output_type": "stream",
     "text": [
      "Using TensorFlow backend.\n"
     ]
    }
   ],
   "source": [
    "from keras.models import Sequential\n",
    "from keras.layers import Convolution2D, MaxPooling2D, Flatten, Dense"
   ]
  },
  {
   "cell_type": "code",
   "execution_count": 2,
   "metadata": {},
   "outputs": [],
   "source": [
    "# Sequential: yapay sinir ağı oluşturmak için\n",
    "# Convolution2D: ANN öncesi convolutional aşamasında ilk katman. 2D foto olduğu\n",
    "#                için videoda zaman boyutu da var\n",
    "# MaxPooling2D: CNN aşamasında pooling aşaması için\n",
    "# Flatten: CNN aşaması sonunda ANN'e hazırlık için. Fully connecter layer'a \n",
    "#           input olabilmesi için\n",
    "# Dense: ANN katmanları eklemek için"
   ]
  },
  {
   "cell_type": "markdown",
   "metadata": {},
   "source": [
    "![image.png](cnn_phases.png)\n",
    "Görsel: https://www.udemy.com/deeplearning"
   ]
  },
  {
   "cell_type": "markdown",
   "metadata": {},
   "source": [
    "![image.png](cnn_architecture.png)\n",
    "\n",
    "Görsel: Peng, Min, et al. Nirfacenet: A convolutional neural network for near-infrared face identification. Information 7.4 (2016): 61."
   ]
  },
  {
   "cell_type": "markdown",
   "metadata": {},
   "source": [
    "## 2. YAPAY SİNİR AĞI NESNESİ OLUŞTURMA\n",
    "    Yapay sinir ağı iki farklı şekilde başlatılabilir: \n",
    "    1. Katmanlar dizilimi (Sequantial layers) olarak. \n",
    "    2. Graph olarak.\n",
    "    Birinci yolda sadece yukarıda indirilen Sequantial sınıfından nesne yaratılır. \n",
    "    Bu da Karar ağacı, SVM gibi bir sınıflandırıcı olacak."
   ]
  },
  {
   "cell_type": "code",
   "execution_count": 3,
   "metadata": {},
   "outputs": [
    {
     "name": "stderr",
     "output_type": "stream",
     "text": [
      "WARNING: Logging before flag parsing goes to stderr.\n",
      "W0717 16:41:15.151397  8816 deprecation_wrapper.py:119] From c:\\users\\user\\envs\\tensorflow-1\\lib\\site-packages\\keras\\backend\\tensorflow_backend.py:74: The name tf.get_default_graph is deprecated. Please use tf.compat.v1.get_default_graph instead.\n",
      "\n"
     ]
    }
   ],
   "source": [
    "classifier = Sequential()"
   ]
  },
  {
   "cell_type": "markdown",
   "metadata": {},
   "source": [
    "## 3. CONVOLUTION LAYER"
   ]
  },
  {
   "cell_type": "markdown",
   "metadata": {},
   "source": [
    "![image.gif](cnn_animation.gif)\n",
    "\n",
    "Görsel: https://hackernoon.com/visualizing-parts-of-convolutional-neural-networks-using-keras-and-cats-5cc01b214e59"
   ]
  },
  {
   "cell_type": "code",
   "execution_count": 4,
   "metadata": {},
   "outputs": [
    {
     "name": "stderr",
     "output_type": "stream",
     "text": [
      "W0717 16:41:15.168380  8816 deprecation_wrapper.py:119] From c:\\users\\user\\envs\\tensorflow-1\\lib\\site-packages\\keras\\backend\\tensorflow_backend.py:517: The name tf.placeholder is deprecated. Please use tf.compat.v1.placeholder instead.\n",
      "\n",
      "W0717 16:41:15.170350  8816 deprecation_wrapper.py:119] From c:\\users\\user\\envs\\tensorflow-1\\lib\\site-packages\\keras\\backend\\tensorflow_backend.py:4138: The name tf.random_uniform is deprecated. Please use tf.random.uniform instead.\n",
      "\n"
     ]
    }
   ],
   "source": [
    "classifier.add(\n",
    "    Convolution2D(filters=32, \n",
    "                  kernel_size=(3,3), \n",
    "                  input_shape=(64,64,3),\n",
    "                  activation='relu')\n",
    "              )"
   ]
  },
  {
   "cell_type": "markdown",
   "metadata": {},
   "source": [
    "## 4. POOLING STEP"
   ]
  },
  {
   "cell_type": "markdown",
   "metadata": {},
   "source": [
    "![image.gif](cnn_max_pooling.gif)\n",
    "\n",
    "Görsel: https://www.oreilly.com/ideas/visualizing-convolutional-neural-networks"
   ]
  },
  {
   "cell_type": "code",
   "execution_count": 5,
   "metadata": {},
   "outputs": [],
   "source": [
    "# temel işlevi ann'e girecek vektör boyutunu indirmektir. Bununla birlikte bilgikaybı \n",
    "# yaşatmamaya çalışır."
   ]
  },
  {
   "cell_type": "code",
   "execution_count": 6,
   "metadata": {},
   "outputs": [
    {
     "name": "stderr",
     "output_type": "stream",
     "text": [
      "W0717 16:41:15.195317  8816 deprecation_wrapper.py:119] From c:\\users\\user\\envs\\tensorflow-1\\lib\\site-packages\\keras\\backend\\tensorflow_backend.py:3976: The name tf.nn.max_pool is deprecated. Please use tf.nn.max_pool2d instead.\n",
      "\n"
     ]
    }
   ],
   "source": [
    "classifier.add(MaxPooling2D(pool_size= (2, 2) ))"
   ]
  },
  {
   "cell_type": "markdown",
   "metadata": {},
   "source": [
    "## 5. FLATTENING STEP"
   ]
  },
  {
   "cell_type": "code",
   "execution_count": 7,
   "metadata": {},
   "outputs": [],
   "source": [
    "classifier.add(Flatten())"
   ]
  },
  {
   "cell_type": "markdown",
   "metadata": {},
   "source": [
    "## 6. FULL CONNECTION STEP"
   ]
  },
  {
   "cell_type": "code",
   "execution_count": 8,
   "metadata": {},
   "outputs": [],
   "source": [
    "# Bu aşamadan sonra klasik bir ann"
   ]
  },
  {
   "cell_type": "code",
   "execution_count": 9,
   "metadata": {},
   "outputs": [],
   "source": [
    "# Input layer cnn tarafından geldiği için koymuyoruz. \n",
    "# output (hidden layer) boyutu konusunda belli bir kural yok\n",
    "# output: Zayıf öğrenme olmayacak kadar büyük, hesaplamayı orlaştırmayacak kadar küçük\n",
    "classifier.add(Dense(units = 128, activation = 'relu'))"
   ]
  },
  {
   "cell_type": "markdown",
   "metadata": {},
   "source": [
    "## 7. OUTPUT LAYER"
   ]
  },
  {
   "cell_type": "code",
   "execution_count": 10,
   "metadata": {},
   "outputs": [],
   "source": [
    "classifier.add(Dense(units = 1, activation = 'sigmoid'))"
   ]
  },
  {
   "cell_type": "markdown",
   "metadata": {},
   "source": [
    "## 8. COMPILING"
   ]
  },
  {
   "cell_type": "code",
   "execution_count": 11,
   "metadata": {},
   "outputs": [],
   "source": [
    "# optimizer: Stochastic Gradient Descent'i temsilen adam\n",
    "# loss: SGD'ni optimizasyonu için kullanılacak loss function. \n",
    "#       Tahmin y ile gerçek ye değeri arasını hesaplayıp en optimal değeri\n",
    "#        SGD'ye buldurur. Logaritmik loss function. Binary olduğu için \n",
    "#       binary_crossentropy kullanıyoruz.\n",
    "# metrics: İlave olarak burada model değerlendirme kriterleri belirlenir. Bir liste halinde verilir. \n",
    "#          Biz şimdilik sadece accuracy veriyoruz."
   ]
  },
  {
   "cell_type": "code",
   "execution_count": 12,
   "metadata": {},
   "outputs": [
    {
     "name": "stderr",
     "output_type": "stream",
     "text": [
      "W0717 16:41:15.258113  8816 deprecation_wrapper.py:119] From c:\\users\\user\\envs\\tensorflow-1\\lib\\site-packages\\keras\\optimizers.py:790: The name tf.train.Optimizer is deprecated. Please use tf.compat.v1.train.Optimizer instead.\n",
      "\n",
      "W0717 16:41:15.273107  8816 deprecation_wrapper.py:119] From c:\\users\\user\\envs\\tensorflow-1\\lib\\site-packages\\keras\\backend\\tensorflow_backend.py:3376: The name tf.log is deprecated. Please use tf.math.log instead.\n",
      "\n",
      "W0717 16:41:15.276067  8816 deprecation.py:323] From c:\\users\\user\\envs\\tensorflow-1\\lib\\site-packages\\tensorflow\\python\\ops\\nn_impl.py:180: add_dispatch_support.<locals>.wrapper (from tensorflow.python.ops.array_ops) is deprecated and will be removed in a future version.\n",
      "Instructions for updating:\n",
      "Use tf.where in 2.0, which has the same broadcast rule as np.where\n"
     ]
    }
   ],
   "source": [
    "classifier.compile(optimizer= 'adam', loss= 'binary_crossentropy',\n",
    "                  metrics=['accuracy'])"
   ]
  },
  {
   "cell_type": "markdown",
   "metadata": {},
   "source": [
    "## 9. CNN MODELİNİ EĞİTME"
   ]
  },
  {
   "cell_type": "code",
   "execution_count": 13,
   "metadata": {},
   "outputs": [],
   "source": [
    "# Keras ImagePreprocessing\n",
    "# Augmentation overfitting'i azaltır.\n",
    "# flow from directory"
   ]
  },
  {
   "cell_type": "code",
   "execution_count": 14,
   "metadata": {},
   "outputs": [
    {
     "name": "stdout",
     "output_type": "stream",
     "text": [
      "Found 8000 images belonging to 2 classes.\n",
      "Found 2000 images belonging to 2 classes.\n"
     ]
    },
    {
     "name": "stderr",
     "output_type": "stream",
     "text": [
      "W0717 16:41:15.851315  8816 deprecation_wrapper.py:119] From c:\\users\\user\\envs\\tensorflow-1\\lib\\site-packages\\keras\\backend\\tensorflow_backend.py:986: The name tf.assign_add is deprecated. Please use tf.compat.v1.assign_add instead.\n",
      "\n"
     ]
    },
    {
     "name": "stdout",
     "output_type": "stream",
     "text": [
      "Epoch 1/1\n",
      "8000/8000 [==============================] - 760s 95ms/step - loss: 0.3698 - acc: 0.8268 - val_loss: 0.8211 - val_acc: 0.7635\n"
     ]
    },
    {
     "data": {
      "text/plain": [
       "<keras.callbacks.History at 0x1b8b4a7a1d0>"
      ]
     },
     "execution_count": 14,
     "metadata": {},
     "output_type": "execute_result"
    }
   ],
   "source": [
    "from keras.preprocessing.image import ImageDataGenerator\n",
    "\n",
    "train_datagen = ImageDataGenerator(\n",
    "        rescale=1./255,\n",
    "        shear_range=0.2,\n",
    "        zoom_range=0.2,\n",
    "        horizontal_flip=True)\n",
    "\n",
    "test_datagen = ImageDataGenerator(rescale=1./255)\n",
    "\n",
    "training_set = train_datagen.flow_from_directory(\n",
    "        'D:/Datasets/ignored_data/cnn_cats_dogs/dataset/training_set',\n",
    "        target_size=(64, 64),\n",
    "        batch_size=32,\n",
    "        class_mode='binary')\n",
    "\n",
    "test_set = test_datagen.flow_from_directory(\n",
    "        'D:/Datasets/ignored_data/cnn_cats_dogs/dataset/test_set',\n",
    "        target_size=(64, 64),\n",
    "        batch_size=32,\n",
    "        class_mode='binary')\n",
    "\n",
    "classifier.fit_generator(\n",
    "        training_set,\n",
    "        steps_per_epoch=8000,\n",
    "        epochs=1,\n",
    "        validation_data=test_set,\n",
    "        validation_steps=2000)"
   ]
  },
  {
   "cell_type": "code",
   "execution_count": null,
   "metadata": {},
   "outputs": [],
   "source": []
  }
 ],
 "metadata": {
  "kernelspec": {
   "display_name": "tensorflow-1",
   "language": "python",
   "name": "tensorflow-1"
  },
  "language_info": {
   "codemirror_mode": {
    "name": "ipython",
    "version": 3
   },
   "file_extension": ".py",
   "mimetype": "text/x-python",
   "name": "python",
   "nbconvert_exporter": "python",
   "pygments_lexer": "ipython3",
   "version": "3.6.5"
  }
 },
 "nbformat": 4,
 "nbformat_minor": 2
}
