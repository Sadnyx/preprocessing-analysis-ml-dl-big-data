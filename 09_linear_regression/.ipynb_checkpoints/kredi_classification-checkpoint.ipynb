{
 "cells": [
  {
   "cell_type": "markdown",
   "metadata": {},
   "source": [
    "## https://scikit-learn.org/stable/user_guide.html"
   ]
  },
  {
   "cell_type": "code",
   "execution_count": 37,
   "metadata": {},
   "outputs": [],
   "source": [
    "import pandas as pd\n",
    "import numpy as np"
   ]
  },
  {
   "cell_type": "code",
   "execution_count": 38,
   "metadata": {},
   "outputs": [],
   "source": [
    "df = pd.read_csv(\"D:/File_Name.csv\")"
   ]
  },
  {
   "cell_type": "markdown",
   "metadata": {},
   "source": [
    "# Veri Keşfi"
   ]
  },
  {
   "cell_type": "code",
   "execution_count": 39,
   "metadata": {
    "scrolled": false
   },
   "outputs": [
    {
     "data": {
      "text/html": [
       "<div>\n",
       "<style scoped>\n",
       "    .dataframe tbody tr th:only-of-type {\n",
       "        vertical-align: middle;\n",
       "    }\n",
       "\n",
       "    .dataframe tbody tr th {\n",
       "        vertical-align: top;\n",
       "    }\n",
       "\n",
       "    .dataframe thead th {\n",
       "        text-align: right;\n",
       "    }\n",
       "</style>\n",
       "<table border=\"1\" class=\"dataframe\">\n",
       "  <thead>\n",
       "    <tr style=\"text-align: right;\">\n",
       "      <th></th>\n",
       "      <th>Unnamed: 0</th>\n",
       "      <th>ORTAK_ID</th>\n",
       "      <th>KURUM_ID</th>\n",
       "      <th>UST_KURUM_NO</th>\n",
       "      <th>YIL</th>\n",
       "      <th>IL_ADI</th>\n",
       "      <th>COGRAFI_BOLGE</th>\n",
       "      <th>SERMAYE</th>\n",
       "      <th>VADESI_GECEN_BORC</th>\n",
       "      <th>TOPLAM_BORC</th>\n",
       "      <th>YILLIK_MIN_GELIR</th>\n",
       "      <th>BAK_YUK_OLDUGU_KISI_SAYISI</th>\n",
       "      <th>CINSIYET</th>\n",
       "      <th>ASKERLIK_DURUMU</th>\n",
       "      <th>OGRENIM_DURUMU</th>\n",
       "      <th>MEDENI_DURUMU</th>\n",
       "      <th>ID</th>\n",
       "    </tr>\n",
       "  </thead>\n",
       "  <tbody>\n",
       "    <tr>\n",
       "      <th>0</th>\n",
       "      <td>0</td>\n",
       "      <td>3101345</td>\n",
       "      <td>1800</td>\n",
       "      <td>B020000</td>\n",
       "      <td>2019</td>\n",
       "      <td>ÇANAKKALE</td>\n",
       "      <td>M</td>\n",
       "      <td>1600.0</td>\n",
       "      <td>NaN</td>\n",
       "      <td>48895.32</td>\n",
       "      <td>29808.0</td>\n",
       "      <td>2.0</td>\n",
       "      <td>E</td>\n",
       "      <td>Y</td>\n",
       "      <td>I</td>\n",
       "      <td>E</td>\n",
       "      <td>898B5BE6802A3D1CE053F20BA8C02872</td>\n",
       "    </tr>\n",
       "    <tr>\n",
       "      <th>1</th>\n",
       "      <td>1</td>\n",
       "      <td>3101345</td>\n",
       "      <td>1800</td>\n",
       "      <td>B020000</td>\n",
       "      <td>2019</td>\n",
       "      <td>ÇANAKKALE</td>\n",
       "      <td>M</td>\n",
       "      <td>1600.0</td>\n",
       "      <td>NaN</td>\n",
       "      <td>48895.32</td>\n",
       "      <td>56432.0</td>\n",
       "      <td>2.0</td>\n",
       "      <td>E</td>\n",
       "      <td>Y</td>\n",
       "      <td>I</td>\n",
       "      <td>E</td>\n",
       "      <td>898B5BE6802C3D1CE053F20BA8C02872</td>\n",
       "    </tr>\n",
       "    <tr>\n",
       "      <th>2</th>\n",
       "      <td>2</td>\n",
       "      <td>3101345</td>\n",
       "      <td>1800</td>\n",
       "      <td>B020000</td>\n",
       "      <td>2019</td>\n",
       "      <td>ÇANAKKALE</td>\n",
       "      <td>M</td>\n",
       "      <td>1600.0</td>\n",
       "      <td>NaN</td>\n",
       "      <td>48895.32</td>\n",
       "      <td>6750.0</td>\n",
       "      <td>2.0</td>\n",
       "      <td>E</td>\n",
       "      <td>Y</td>\n",
       "      <td>I</td>\n",
       "      <td>E</td>\n",
       "      <td>898B5BE6802D3D1CE053F20BA8C02872</td>\n",
       "    </tr>\n",
       "    <tr>\n",
       "      <th>3</th>\n",
       "      <td>3</td>\n",
       "      <td>1414089</td>\n",
       "      <td>516</td>\n",
       "      <td>B070000</td>\n",
       "      <td>2019</td>\n",
       "      <td>AKSARAY</td>\n",
       "      <td>I</td>\n",
       "      <td>1000.0</td>\n",
       "      <td>0.00</td>\n",
       "      <td>23852.07</td>\n",
       "      <td>27000.0</td>\n",
       "      <td>5.0</td>\n",
       "      <td>E</td>\n",
       "      <td>Y</td>\n",
       "      <td>I</td>\n",
       "      <td>E</td>\n",
       "      <td>898B5BE6802F3D1CE053F20BA8C02872</td>\n",
       "    </tr>\n",
       "    <tr>\n",
       "      <th>4</th>\n",
       "      <td>4</td>\n",
       "      <td>3285870</td>\n",
       "      <td>2101</td>\n",
       "      <td>B020000</td>\n",
       "      <td>2019</td>\n",
       "      <td>ÇANAKKALE</td>\n",
       "      <td>M</td>\n",
       "      <td>1300.0</td>\n",
       "      <td>1054.16</td>\n",
       "      <td>69818.71</td>\n",
       "      <td>81552.0</td>\n",
       "      <td>3.0</td>\n",
       "      <td>E</td>\n",
       "      <td>Y</td>\n",
       "      <td>O</td>\n",
       "      <td>E</td>\n",
       "      <td>898B5BE680313D1CE053F20BA8C02872</td>\n",
       "    </tr>\n",
       "  </tbody>\n",
       "</table>\n",
       "</div>"
      ],
      "text/plain": [
       "   Unnamed: 0  ORTAK_ID  KURUM_ID UST_KURUM_NO   YIL     IL_ADI COGRAFI_BOLGE  \\\n",
       "0           0   3101345      1800      B020000  2019  ÇANAKKALE             M   \n",
       "1           1   3101345      1800      B020000  2019  ÇANAKKALE             M   \n",
       "2           2   3101345      1800      B020000  2019  ÇANAKKALE             M   \n",
       "3           3   1414089       516      B070000  2019    AKSARAY             I   \n",
       "4           4   3285870      2101      B020000  2019  ÇANAKKALE             M   \n",
       "\n",
       "   SERMAYE  VADESI_GECEN_BORC  TOPLAM_BORC  YILLIK_MIN_GELIR  \\\n",
       "0   1600.0                NaN     48895.32           29808.0   \n",
       "1   1600.0                NaN     48895.32           56432.0   \n",
       "2   1600.0                NaN     48895.32            6750.0   \n",
       "3   1000.0               0.00     23852.07           27000.0   \n",
       "4   1300.0            1054.16     69818.71           81552.0   \n",
       "\n",
       "   BAK_YUK_OLDUGU_KISI_SAYISI CINSIYET ASKERLIK_DURUMU OGRENIM_DURUMU  \\\n",
       "0                         2.0        E               Y              I   \n",
       "1                         2.0        E               Y              I   \n",
       "2                         2.0        E               Y              I   \n",
       "3                         5.0        E               Y              I   \n",
       "4                         3.0        E               Y              O   \n",
       "\n",
       "  MEDENI_DURUMU                                ID  \n",
       "0             E  898B5BE6802A3D1CE053F20BA8C02872  \n",
       "1             E  898B5BE6802C3D1CE053F20BA8C02872  \n",
       "2             E  898B5BE6802D3D1CE053F20BA8C02872  \n",
       "3             E  898B5BE6802F3D1CE053F20BA8C02872  \n",
       "4             E  898B5BE680313D1CE053F20BA8C02872  "
      ]
     },
     "execution_count": 39,
     "metadata": {},
     "output_type": "execute_result"
    }
   ],
   "source": [
    "df.head()"
   ]
  },
  {
   "cell_type": "code",
   "execution_count": 40,
   "metadata": {},
   "outputs": [
    {
     "data": {
      "text/plain": [
       "1082934"
      ]
     },
     "execution_count": 40,
     "metadata": {},
     "output_type": "execute_result"
    }
   ],
   "source": [
    "len(df)"
   ]
  },
  {
   "cell_type": "code",
   "execution_count": 41,
   "metadata": {},
   "outputs": [
    {
     "name": "stdout",
     "output_type": "stream",
     "text": [
      "<class 'pandas.core.frame.DataFrame'>\n",
      "RangeIndex: 1082934 entries, 0 to 1082933\n",
      "Data columns (total 17 columns):\n",
      "Unnamed: 0                    1082934 non-null int64\n",
      "ORTAK_ID                      1082934 non-null int64\n",
      "KURUM_ID                      1082934 non-null int64\n",
      "UST_KURUM_NO                  1082934 non-null object\n",
      "YIL                           1082934 non-null int64\n",
      "IL_ADI                        1082934 non-null object\n",
      "COGRAFI_BOLGE                 1082934 non-null object\n",
      "SERMAYE                       1082934 non-null float64\n",
      "VADESI_GECEN_BORC             472941 non-null float64\n",
      "TOPLAM_BORC                   1076692 non-null float64\n",
      "YILLIK_MIN_GELIR              1082159 non-null float64\n",
      "BAK_YUK_OLDUGU_KISI_SAYISI    525914 non-null float64\n",
      "CINSIYET                      1082934 non-null object\n",
      "ASKERLIK_DURUMU               1042204 non-null object\n",
      "OGRENIM_DURUMU                1082934 non-null object\n",
      "MEDENI_DURUMU                 1082934 non-null object\n",
      "ID                            1082934 non-null object\n",
      "dtypes: float64(5), int64(4), object(8)\n",
      "memory usage: 140.5+ MB\n"
     ]
    }
   ],
   "source": [
    "df.info()"
   ]
  },
  {
   "cell_type": "code",
   "execution_count": 42,
   "metadata": {},
   "outputs": [],
   "source": [
    "# VADESI_GECEN_BORC boş ( NaN olanlara 0 atadık)\n",
    "# TOPLAM_BORC boş\n",
    "# YILLIK_MIN_GELIR boş\n",
    "# BAK_YUK_OLDUGU_KISI_SAYISI boş\n",
    "# ASKERLIK_DURUMU boş\n",
    "# "
   ]
  },
  {
   "cell_type": "code",
   "execution_count": 43,
   "metadata": {},
   "outputs": [
    {
     "data": {
      "text/html": [
       "<div>\n",
       "<style scoped>\n",
       "    .dataframe tbody tr th:only-of-type {\n",
       "        vertical-align: middle;\n",
       "    }\n",
       "\n",
       "    .dataframe tbody tr th {\n",
       "        vertical-align: top;\n",
       "    }\n",
       "\n",
       "    .dataframe thead th {\n",
       "        text-align: right;\n",
       "    }\n",
       "</style>\n",
       "<table border=\"1\" class=\"dataframe\">\n",
       "  <thead>\n",
       "    <tr style=\"text-align: right;\">\n",
       "      <th></th>\n",
       "      <th>Unnamed: 0</th>\n",
       "      <th>ORTAK_ID</th>\n",
       "      <th>KURUM_ID</th>\n",
       "      <th>YIL</th>\n",
       "      <th>SERMAYE</th>\n",
       "      <th>VADESI_GECEN_BORC</th>\n",
       "      <th>TOPLAM_BORC</th>\n",
       "      <th>YILLIK_MIN_GELIR</th>\n",
       "      <th>BAK_YUK_OLDUGU_KISI_SAYISI</th>\n",
       "    </tr>\n",
       "  </thead>\n",
       "  <tbody>\n",
       "    <tr>\n",
       "      <th>count</th>\n",
       "      <td>1.082934e+06</td>\n",
       "      <td>1.082934e+06</td>\n",
       "      <td>1.082934e+06</td>\n",
       "      <td>1082934.0</td>\n",
       "      <td>1.082934e+06</td>\n",
       "      <td>4.729410e+05</td>\n",
       "      <td>1.076692e+06</td>\n",
       "      <td>1.082159e+06</td>\n",
       "      <td>525914.000000</td>\n",
       "    </tr>\n",
       "    <tr>\n",
       "      <th>mean</th>\n",
       "      <td>5.414665e+05</td>\n",
       "      <td>1.845919e+06</td>\n",
       "      <td>1.306648e+03</td>\n",
       "      <td>2019.0</td>\n",
       "      <td>1.463034e+03</td>\n",
       "      <td>2.474163e+04</td>\n",
       "      <td>1.001674e+05</td>\n",
       "      <td>1.099001e+06</td>\n",
       "      <td>4.257074</td>\n",
       "    </tr>\n",
       "    <tr>\n",
       "      <th>std</th>\n",
       "      <td>3.126163e+05</td>\n",
       "      <td>1.209642e+06</td>\n",
       "      <td>7.713731e+02</td>\n",
       "      <td>0.0</td>\n",
       "      <td>1.239292e+03</td>\n",
       "      <td>8.709293e+04</td>\n",
       "      <td>1.381021e+05</td>\n",
       "      <td>6.138446e+08</td>\n",
       "      <td>1.800734</td>\n",
       "    </tr>\n",
       "    <tr>\n",
       "      <th>min</th>\n",
       "      <td>0.000000e+00</td>\n",
       "      <td>3.879000e+03</td>\n",
       "      <td>1.000000e+00</td>\n",
       "      <td>2019.0</td>\n",
       "      <td>0.000000e+00</td>\n",
       "      <td>-2.097000e+03</td>\n",
       "      <td>-2.097000e+03</td>\n",
       "      <td>0.000000e+00</td>\n",
       "      <td>0.000000</td>\n",
       "    </tr>\n",
       "    <tr>\n",
       "      <th>25%</th>\n",
       "      <td>2.707332e+05</td>\n",
       "      <td>7.595440e+05</td>\n",
       "      <td>6.250000e+02</td>\n",
       "      <td>2019.0</td>\n",
       "      <td>8.000000e+02</td>\n",
       "      <td>0.000000e+00</td>\n",
       "      <td>2.743972e+04</td>\n",
       "      <td>1.579500e+04</td>\n",
       "      <td>3.000000</td>\n",
       "    </tr>\n",
       "    <tr>\n",
       "      <th>50%</th>\n",
       "      <td>5.414665e+05</td>\n",
       "      <td>1.573023e+06</td>\n",
       "      <td>1.362000e+03</td>\n",
       "      <td>2019.0</td>\n",
       "      <td>1.000000e+03</td>\n",
       "      <td>0.000000e+00</td>\n",
       "      <td>5.888711e+04</td>\n",
       "      <td>3.210000e+04</td>\n",
       "      <td>4.000000</td>\n",
       "    </tr>\n",
       "    <tr>\n",
       "      <th>75%</th>\n",
       "      <td>8.121998e+05</td>\n",
       "      <td>3.128753e+06</td>\n",
       "      <td>1.961000e+03</td>\n",
       "      <td>2019.0</td>\n",
       "      <td>1.800000e+03</td>\n",
       "      <td>9.379890e+03</td>\n",
       "      <td>1.198723e+05</td>\n",
       "      <td>6.713600e+04</td>\n",
       "      <td>5.000000</td>\n",
       "    </tr>\n",
       "    <tr>\n",
       "      <th>max</th>\n",
       "      <td>1.082933e+06</td>\n",
       "      <td>3.707331e+06</td>\n",
       "      <td>5.442000e+03</td>\n",
       "      <td>2019.0</td>\n",
       "      <td>5.000000e+04</td>\n",
       "      <td>6.748045e+06</td>\n",
       "      <td>7.607561e+06</td>\n",
       "      <td>6.000001e+11</td>\n",
       "      <td>85.000000</td>\n",
       "    </tr>\n",
       "  </tbody>\n",
       "</table>\n",
       "</div>"
      ],
      "text/plain": [
       "         Unnamed: 0      ORTAK_ID      KURUM_ID        YIL       SERMAYE  \\\n",
       "count  1.082934e+06  1.082934e+06  1.082934e+06  1082934.0  1.082934e+06   \n",
       "mean   5.414665e+05  1.845919e+06  1.306648e+03     2019.0  1.463034e+03   \n",
       "std    3.126163e+05  1.209642e+06  7.713731e+02        0.0  1.239292e+03   \n",
       "min    0.000000e+00  3.879000e+03  1.000000e+00     2019.0  0.000000e+00   \n",
       "25%    2.707332e+05  7.595440e+05  6.250000e+02     2019.0  8.000000e+02   \n",
       "50%    5.414665e+05  1.573023e+06  1.362000e+03     2019.0  1.000000e+03   \n",
       "75%    8.121998e+05  3.128753e+06  1.961000e+03     2019.0  1.800000e+03   \n",
       "max    1.082933e+06  3.707331e+06  5.442000e+03     2019.0  5.000000e+04   \n",
       "\n",
       "       VADESI_GECEN_BORC   TOPLAM_BORC  YILLIK_MIN_GELIR  \\\n",
       "count       4.729410e+05  1.076692e+06      1.082159e+06   \n",
       "mean        2.474163e+04  1.001674e+05      1.099001e+06   \n",
       "std         8.709293e+04  1.381021e+05      6.138446e+08   \n",
       "min        -2.097000e+03 -2.097000e+03      0.000000e+00   \n",
       "25%         0.000000e+00  2.743972e+04      1.579500e+04   \n",
       "50%         0.000000e+00  5.888711e+04      3.210000e+04   \n",
       "75%         9.379890e+03  1.198723e+05      6.713600e+04   \n",
       "max         6.748045e+06  7.607561e+06      6.000001e+11   \n",
       "\n",
       "       BAK_YUK_OLDUGU_KISI_SAYISI  \n",
       "count               525914.000000  \n",
       "mean                     4.257074  \n",
       "std                      1.800734  \n",
       "min                      0.000000  \n",
       "25%                      3.000000  \n",
       "50%                      4.000000  \n",
       "75%                      5.000000  \n",
       "max                     85.000000  "
      ]
     },
     "execution_count": 43,
     "metadata": {},
     "output_type": "execute_result"
    }
   ],
   "source": [
    "df.describe()"
   ]
  },
  {
   "cell_type": "code",
   "execution_count": 44,
   "metadata": {},
   "outputs": [],
   "source": [
    "# TOPLAM_BORC, VADESI_GECEN_BORC içinde eksi değer gördük. İş bilgisine göre bunun olmaması gerekir.\n",
    "# Bu bir satır olduğu için silme kararı aldık."
   ]
  },
  {
   "cell_type": "code",
   "execution_count": 45,
   "metadata": {},
   "outputs": [
    {
     "data": {
      "text/html": [
       "<div>\n",
       "<style scoped>\n",
       "    .dataframe tbody tr th:only-of-type {\n",
       "        vertical-align: middle;\n",
       "    }\n",
       "\n",
       "    .dataframe tbody tr th {\n",
       "        vertical-align: top;\n",
       "    }\n",
       "\n",
       "    .dataframe thead th {\n",
       "        text-align: right;\n",
       "    }\n",
       "</style>\n",
       "<table border=\"1\" class=\"dataframe\">\n",
       "  <thead>\n",
       "    <tr style=\"text-align: right;\">\n",
       "      <th></th>\n",
       "      <th>Unnamed: 0</th>\n",
       "      <th>ORTAK_ID</th>\n",
       "      <th>KURUM_ID</th>\n",
       "      <th>UST_KURUM_NO</th>\n",
       "      <th>YIL</th>\n",
       "      <th>IL_ADI</th>\n",
       "      <th>COGRAFI_BOLGE</th>\n",
       "      <th>SERMAYE</th>\n",
       "      <th>VADESI_GECEN_BORC</th>\n",
       "      <th>TOPLAM_BORC</th>\n",
       "      <th>YILLIK_MIN_GELIR</th>\n",
       "      <th>BAK_YUK_OLDUGU_KISI_SAYISI</th>\n",
       "      <th>CINSIYET</th>\n",
       "      <th>ASKERLIK_DURUMU</th>\n",
       "      <th>OGRENIM_DURUMU</th>\n",
       "      <th>MEDENI_DURUMU</th>\n",
       "      <th>ID</th>\n",
       "    </tr>\n",
       "  </thead>\n",
       "  <tbody>\n",
       "    <tr>\n",
       "      <th>1044672</th>\n",
       "      <td>1044672</td>\n",
       "      <td>1656872</td>\n",
       "      <td>748</td>\n",
       "      <td>B130000</td>\n",
       "      <td>2019</td>\n",
       "      <td>ERZURUM</td>\n",
       "      <td>D</td>\n",
       "      <td>0.0</td>\n",
       "      <td>-2097.0</td>\n",
       "      <td>-2097.0</td>\n",
       "      <td>0.0</td>\n",
       "      <td>NaN</td>\n",
       "      <td>E</td>\n",
       "      <td>M</td>\n",
       "      <td>I</td>\n",
       "      <td>E</td>\n",
       "      <td>898B5C8E8CB73D1CE053F20BA8C02872</td>\n",
       "    </tr>\n",
       "  </tbody>\n",
       "</table>\n",
       "</div>"
      ],
      "text/plain": [
       "         Unnamed: 0  ORTAK_ID  KURUM_ID UST_KURUM_NO   YIL   IL_ADI  \\\n",
       "1044672     1044672   1656872       748      B130000  2019  ERZURUM   \n",
       "\n",
       "        COGRAFI_BOLGE  SERMAYE  VADESI_GECEN_BORC  TOPLAM_BORC  \\\n",
       "1044672             D      0.0            -2097.0      -2097.0   \n",
       "\n",
       "         YILLIK_MIN_GELIR  BAK_YUK_OLDUGU_KISI_SAYISI CINSIYET  \\\n",
       "1044672               0.0                         NaN        E   \n",
       "\n",
       "        ASKERLIK_DURUMU OGRENIM_DURUMU MEDENI_DURUMU  \\\n",
       "1044672               M              I             E   \n",
       "\n",
       "                                       ID  \n",
       "1044672  898B5C8E8CB73D1CE053F20BA8C02872  "
      ]
     },
     "execution_count": 45,
     "metadata": {},
     "output_type": "execute_result"
    }
   ],
   "source": [
    "df[ df['TOPLAM_BORC'] < 0.0 ].head()"
   ]
  },
  {
   "cell_type": "code",
   "execution_count": 46,
   "metadata": {},
   "outputs": [],
   "source": [
    "# 1044672 satır indeksli kaydı silme\n",
    "df.drop([1044672], axis=0, inplace=True)"
   ]
  },
  {
   "cell_type": "code",
   "execution_count": 47,
   "metadata": {},
   "outputs": [
    {
     "data": {
      "text/html": [
       "<div>\n",
       "<style scoped>\n",
       "    .dataframe tbody tr th:only-of-type {\n",
       "        vertical-align: middle;\n",
       "    }\n",
       "\n",
       "    .dataframe tbody tr th {\n",
       "        vertical-align: top;\n",
       "    }\n",
       "\n",
       "    .dataframe thead th {\n",
       "        text-align: right;\n",
       "    }\n",
       "</style>\n",
       "<table border=\"1\" class=\"dataframe\">\n",
       "  <thead>\n",
       "    <tr style=\"text-align: right;\">\n",
       "      <th></th>\n",
       "      <th>Unnamed: 0</th>\n",
       "      <th>ORTAK_ID</th>\n",
       "      <th>KURUM_ID</th>\n",
       "      <th>UST_KURUM_NO</th>\n",
       "      <th>YIL</th>\n",
       "      <th>IL_ADI</th>\n",
       "      <th>COGRAFI_BOLGE</th>\n",
       "      <th>SERMAYE</th>\n",
       "      <th>VADESI_GECEN_BORC</th>\n",
       "      <th>TOPLAM_BORC</th>\n",
       "      <th>YILLIK_MIN_GELIR</th>\n",
       "      <th>BAK_YUK_OLDUGU_KISI_SAYISI</th>\n",
       "      <th>CINSIYET</th>\n",
       "      <th>ASKERLIK_DURUMU</th>\n",
       "      <th>OGRENIM_DURUMU</th>\n",
       "      <th>MEDENI_DURUMU</th>\n",
       "      <th>ID</th>\n",
       "    </tr>\n",
       "  </thead>\n",
       "  <tbody>\n",
       "  </tbody>\n",
       "</table>\n",
       "</div>"
      ],
      "text/plain": [
       "Empty DataFrame\n",
       "Columns: [Unnamed: 0, ORTAK_ID, KURUM_ID, UST_KURUM_NO, YIL, IL_ADI, COGRAFI_BOLGE, SERMAYE, VADESI_GECEN_BORC, TOPLAM_BORC, YILLIK_MIN_GELIR, BAK_YUK_OLDUGU_KISI_SAYISI, CINSIYET, ASKERLIK_DURUMU, OGRENIM_DURUMU, MEDENI_DURUMU, ID]\n",
       "Index: []"
      ]
     },
     "execution_count": 47,
     "metadata": {},
     "output_type": "execute_result"
    }
   ],
   "source": [
    "df[ df['TOPLAM_BORC'] < 0.0 ].head()"
   ]
  },
  {
   "cell_type": "markdown",
   "metadata": {},
   "source": [
    "# 1.VADESI_GECEN_BORC"
   ]
  },
  {
   "cell_type": "code",
   "execution_count": 48,
   "metadata": {},
   "outputs": [],
   "source": [
    "# VADESI_GECEN_BORC NaN  ise bunlara 0 değeri atayalım. "
   ]
  },
  {
   "cell_type": "code",
   "execution_count": 49,
   "metadata": {},
   "outputs": [
    {
     "data": {
      "text/plain": [
       "609993"
      ]
     },
     "execution_count": 49,
     "metadata": {},
     "output_type": "execute_result"
    }
   ],
   "source": [
    "# Acaba ne kadar boş NaN değer var\n",
    "len(df[df['VADESI_GECEN_BORC'].isnull() ])"
   ]
  },
  {
   "cell_type": "code",
   "execution_count": 50,
   "metadata": {},
   "outputs": [],
   "source": [
    "# NaN olanları 0 yapalım (güncelleyelim)\n",
    "df.loc[df['VADESI_GECEN_BORC'].isnull(), 'VADESI_GECEN_BORC'] = 0.0"
   ]
  },
  {
   "cell_type": "code",
   "execution_count": 51,
   "metadata": {},
   "outputs": [
    {
     "data": {
      "text/plain": [
       "0"
      ]
     },
     "execution_count": 51,
     "metadata": {},
     "output_type": "execute_result"
    }
   ],
   "source": [
    "len(df[df['VADESI_GECEN_BORC'].isnull() ])"
   ]
  },
  {
   "cell_type": "code",
   "execution_count": 52,
   "metadata": {},
   "outputs": [
    {
     "data": {
      "text/plain": [
       "870525"
      ]
     },
     "execution_count": 52,
     "metadata": {},
     "output_type": "execute_result"
    }
   ],
   "source": [
    "# Acaba kaç kişi borç takmamış \n",
    "len(df[df['VADESI_GECEN_BORC'] == 0.0 ])"
   ]
  },
  {
   "cell_type": "code",
   "execution_count": 53,
   "metadata": {},
   "outputs": [
    {
     "name": "stdout",
     "output_type": "stream",
     "text": [
      "<class 'pandas.core.frame.DataFrame'>\n",
      "Int64Index: 1082933 entries, 0 to 1082933\n",
      "Data columns (total 17 columns):\n",
      "Unnamed: 0                    1082933 non-null int64\n",
      "ORTAK_ID                      1082933 non-null int64\n",
      "KURUM_ID                      1082933 non-null int64\n",
      "UST_KURUM_NO                  1082933 non-null object\n",
      "YIL                           1082933 non-null int64\n",
      "IL_ADI                        1082933 non-null object\n",
      "COGRAFI_BOLGE                 1082933 non-null object\n",
      "SERMAYE                       1082933 non-null float64\n",
      "VADESI_GECEN_BORC             1082933 non-null float64\n",
      "TOPLAM_BORC                   1076691 non-null float64\n",
      "YILLIK_MIN_GELIR              1082158 non-null float64\n",
      "BAK_YUK_OLDUGU_KISI_SAYISI    525914 non-null float64\n",
      "CINSIYET                      1082933 non-null object\n",
      "ASKERLIK_DURUMU               1042203 non-null object\n",
      "OGRENIM_DURUMU                1082933 non-null object\n",
      "MEDENI_DURUMU                 1082933 non-null object\n",
      "ID                            1082933 non-null object\n",
      "dtypes: float64(5), int64(4), object(8)\n",
      "memory usage: 148.7+ MB\n"
     ]
    }
   ],
   "source": [
    "df.info()"
   ]
  },
  {
   "cell_type": "markdown",
   "metadata": {},
   "source": [
    "# 2. TOPLAM_BORC"
   ]
  },
  {
   "cell_type": "code",
   "execution_count": 54,
   "metadata": {},
   "outputs": [],
   "source": [
    "# NaN olanları 0 yapalım (güncelleyelim)\n",
    "df.loc[df['TOPLAM_BORC'].isnull(), 'TOPLAM_BORC'] = 0.0"
   ]
  },
  {
   "cell_type": "code",
   "execution_count": 55,
   "metadata": {},
   "outputs": [
    {
     "data": {
      "text/plain": [
       "0"
      ]
     },
     "execution_count": 55,
     "metadata": {},
     "output_type": "execute_result"
    }
   ],
   "source": [
    "len(df[df['TOPLAM_BORC'].isnull() ])"
   ]
  },
  {
   "cell_type": "markdown",
   "metadata": {},
   "source": [
    "# 3. YILLIK_MIN_GELIR"
   ]
  },
  {
   "cell_type": "code",
   "execution_count": 56,
   "metadata": {},
   "outputs": [
    {
     "data": {
      "text/plain": [
       "775"
      ]
     },
     "execution_count": 56,
     "metadata": {},
     "output_type": "execute_result"
    }
   ],
   "source": [
    "len(df[df['YILLIK_MIN_GELIR'].isnull() ])"
   ]
  },
  {
   "cell_type": "code",
   "execution_count": 57,
   "metadata": {},
   "outputs": [
    {
     "data": {
      "text/plain": [
       "1703"
      ]
     },
     "execution_count": 57,
     "metadata": {},
     "output_type": "execute_result"
    }
   ],
   "source": [
    "len(df[df['YILLIK_MIN_GELIR'] == 0.0 ])"
   ]
  },
  {
   "cell_type": "code",
   "execution_count": 58,
   "metadata": {},
   "outputs": [],
   "source": [
    "# null ve 0 olanları tamamen silmek gerekir. İş bilgisi bunu söylüyor."
   ]
  },
  {
   "cell_type": "code",
   "execution_count": 59,
   "metadata": {},
   "outputs": [],
   "source": [
    "df = df.loc[ (df['YILLIK_MIN_GELIR'] != 0.0) & (df['YILLIK_MIN_GELIR'].notnull()) ]"
   ]
  },
  {
   "cell_type": "code",
   "execution_count": 60,
   "metadata": {},
   "outputs": [
    {
     "data": {
      "text/plain": [
       "1080455"
      ]
     },
     "execution_count": 60,
     "metadata": {},
     "output_type": "execute_result"
    }
   ],
   "source": [
    "len(df)"
   ]
  },
  {
   "cell_type": "markdown",
   "metadata": {},
   "source": [
    "# 4. BAK_YUK_OLDUGU_KISI_SAYISI"
   ]
  },
  {
   "cell_type": "code",
   "execution_count": 61,
   "metadata": {},
   "outputs": [
    {
     "data": {
      "text/plain": [
       "554926"
      ]
     },
     "execution_count": 61,
     "metadata": {},
     "output_type": "execute_result"
    }
   ],
   "source": [
    "len(df[df['BAK_YUK_OLDUGU_KISI_SAYISI'].isnull() ])"
   ]
  },
  {
   "cell_type": "code",
   "execution_count": 62,
   "metadata": {},
   "outputs": [],
   "source": [
    "# NaN olanları 0 yapalım (güncelleyelim)\n",
    "df.loc[df['BAK_YUK_OLDUGU_KISI_SAYISI'].isnull(), 'BAK_YUK_OLDUGU_KISI_SAYISI'] = 0.0"
   ]
  },
  {
   "cell_type": "markdown",
   "metadata": {},
   "source": [
    "# 5. ASKERLIK_DURUMU"
   ]
  },
  {
   "cell_type": "code",
   "execution_count": 63,
   "metadata": {},
   "outputs": [
    {
     "data": {
      "text/html": [
       "<div>\n",
       "<style scoped>\n",
       "    .dataframe tbody tr th:only-of-type {\n",
       "        vertical-align: middle;\n",
       "    }\n",
       "\n",
       "    .dataframe tbody tr th {\n",
       "        vertical-align: top;\n",
       "    }\n",
       "\n",
       "    .dataframe thead th {\n",
       "        text-align: right;\n",
       "    }\n",
       "</style>\n",
       "<table border=\"1\" class=\"dataframe\">\n",
       "  <thead>\n",
       "    <tr style=\"text-align: right;\">\n",
       "      <th></th>\n",
       "      <th>count</th>\n",
       "    </tr>\n",
       "    <tr>\n",
       "      <th>ASKERLIK_DURUMU</th>\n",
       "      <th></th>\n",
       "    </tr>\n",
       "  </thead>\n",
       "  <tbody>\n",
       "    <tr>\n",
       "      <th>M</th>\n",
       "      <td>39092</td>\n",
       "    </tr>\n",
       "    <tr>\n",
       "      <th>P</th>\n",
       "      <td>6812</td>\n",
       "    </tr>\n",
       "    <tr>\n",
       "      <th>R</th>\n",
       "      <td>60</td>\n",
       "    </tr>\n",
       "    <tr>\n",
       "      <th>T</th>\n",
       "      <td>1268</td>\n",
       "    </tr>\n",
       "    <tr>\n",
       "      <th>Y</th>\n",
       "      <td>992670</td>\n",
       "    </tr>\n",
       "  </tbody>\n",
       "</table>\n",
       "</div>"
      ],
      "text/plain": [
       "                  count\n",
       "ASKERLIK_DURUMU        \n",
       "M                 39092\n",
       "P                  6812\n",
       "R                    60\n",
       "T                  1268\n",
       "Y                992670"
      ]
     },
     "execution_count": 63,
     "metadata": {},
     "output_type": "execute_result"
    }
   ],
   "source": [
    "df.groupby(['ASKERLIK_DURUMU']).ID \\\n",
    ".agg(['count']) \\\n",
    ".head(10)"
   ]
  },
  {
   "cell_type": "code",
   "execution_count": 64,
   "metadata": {},
   "outputs": [
    {
     "data": {
      "text/plain": [
       "40553"
      ]
     },
     "execution_count": 64,
     "metadata": {},
     "output_type": "execute_result"
    }
   ],
   "source": [
    "len(df[df['ASKERLIK_DURUMU'].isnull() ])"
   ]
  },
  {
   "cell_type": "code",
   "execution_count": 65,
   "metadata": {},
   "outputs": [],
   "source": [
    "# NaN olanları Bilinmiyor anlamında 'B' yapalım (güncelleyelim)\n",
    "df.loc[ df['ASKERLIK_DURUMU'].isnull(), 'ASKERLIK_DURUMU' ] = 'B'"
   ]
  },
  {
   "cell_type": "markdown",
   "metadata": {},
   "source": [
    "# Analize dahil edilmeyecek nitelikleri çıkaralım"
   ]
  },
  {
   "cell_type": "code",
   "execution_count": 66,
   "metadata": {},
   "outputs": [
    {
     "data": {
      "text/plain": [
       "Index(['Unnamed: 0', 'ORTAK_ID', 'KURUM_ID', 'UST_KURUM_NO', 'YIL', 'IL_ADI',\n",
       "       'COGRAFI_BOLGE', 'SERMAYE', 'VADESI_GECEN_BORC', 'TOPLAM_BORC',\n",
       "       'YILLIK_MIN_GELIR', 'BAK_YUK_OLDUGU_KISI_SAYISI', 'CINSIYET',\n",
       "       'ASKERLIK_DURUMU', 'OGRENIM_DURUMU', 'MEDENI_DURUMU', 'ID'],\n",
       "      dtype='object')"
      ]
     },
     "execution_count": 66,
     "metadata": {},
     "output_type": "execute_result"
    }
   ],
   "source": [
    "df.columns"
   ]
  },
  {
   "cell_type": "code",
   "execution_count": 67,
   "metadata": {},
   "outputs": [
    {
     "data": {
      "text/plain": [
       "['SERMAYE',\n",
       " 'ASKERLIK_DURUMU',\n",
       " 'BAK_YUK_OLDUGU_KISI_SAYISI',\n",
       " 'TOPLAM_BORC',\n",
       " 'COGRAFI_BOLGE',\n",
       " 'VADESI_GECEN_BORC',\n",
       " 'OGRENIM_DURUMU',\n",
       " 'MEDENI_DURUMU',\n",
       " 'CINSIYET',\n",
       " 'UST_KURUM_NO',\n",
       " 'YILLIK_MIN_GELIR']"
      ]
     },
     "execution_count": 67,
     "metadata": {},
     "output_type": "execute_result"
    }
   ],
   "source": [
    "analize_girmeyecekler = ['Unnamed: 0', 'ORTAK_ID', 'KURUM_ID', 'YIL', 'IL_ADI', 'ID']\n",
    "analize_girecekler = list(  set(df.columns).difference(set(analize_girmeyecekler))   )\n",
    "analize_girecekler"
   ]
  },
  {
   "cell_type": "code",
   "execution_count": 68,
   "metadata": {},
   "outputs": [
    {
     "data": {
      "text/html": [
       "<div>\n",
       "<style scoped>\n",
       "    .dataframe tbody tr th:only-of-type {\n",
       "        vertical-align: middle;\n",
       "    }\n",
       "\n",
       "    .dataframe tbody tr th {\n",
       "        vertical-align: top;\n",
       "    }\n",
       "\n",
       "    .dataframe thead th {\n",
       "        text-align: right;\n",
       "    }\n",
       "</style>\n",
       "<table border=\"1\" class=\"dataframe\">\n",
       "  <thead>\n",
       "    <tr style=\"text-align: right;\">\n",
       "      <th></th>\n",
       "      <th>SERMAYE</th>\n",
       "      <th>ASKERLIK_DURUMU</th>\n",
       "      <th>BAK_YUK_OLDUGU_KISI_SAYISI</th>\n",
       "      <th>TOPLAM_BORC</th>\n",
       "      <th>COGRAFI_BOLGE</th>\n",
       "      <th>VADESI_GECEN_BORC</th>\n",
       "      <th>OGRENIM_DURUMU</th>\n",
       "      <th>MEDENI_DURUMU</th>\n",
       "      <th>CINSIYET</th>\n",
       "      <th>UST_KURUM_NO</th>\n",
       "      <th>YILLIK_MIN_GELIR</th>\n",
       "    </tr>\n",
       "  </thead>\n",
       "  <tbody>\n",
       "    <tr>\n",
       "      <th>0</th>\n",
       "      <td>1600.0</td>\n",
       "      <td>Y</td>\n",
       "      <td>2.0</td>\n",
       "      <td>48895.32</td>\n",
       "      <td>M</td>\n",
       "      <td>0.00</td>\n",
       "      <td>I</td>\n",
       "      <td>E</td>\n",
       "      <td>E</td>\n",
       "      <td>B020000</td>\n",
       "      <td>29808.0</td>\n",
       "    </tr>\n",
       "    <tr>\n",
       "      <th>1</th>\n",
       "      <td>1600.0</td>\n",
       "      <td>Y</td>\n",
       "      <td>2.0</td>\n",
       "      <td>48895.32</td>\n",
       "      <td>M</td>\n",
       "      <td>0.00</td>\n",
       "      <td>I</td>\n",
       "      <td>E</td>\n",
       "      <td>E</td>\n",
       "      <td>B020000</td>\n",
       "      <td>56432.0</td>\n",
       "    </tr>\n",
       "    <tr>\n",
       "      <th>2</th>\n",
       "      <td>1600.0</td>\n",
       "      <td>Y</td>\n",
       "      <td>2.0</td>\n",
       "      <td>48895.32</td>\n",
       "      <td>M</td>\n",
       "      <td>0.00</td>\n",
       "      <td>I</td>\n",
       "      <td>E</td>\n",
       "      <td>E</td>\n",
       "      <td>B020000</td>\n",
       "      <td>6750.0</td>\n",
       "    </tr>\n",
       "    <tr>\n",
       "      <th>3</th>\n",
       "      <td>1000.0</td>\n",
       "      <td>Y</td>\n",
       "      <td>5.0</td>\n",
       "      <td>23852.07</td>\n",
       "      <td>I</td>\n",
       "      <td>0.00</td>\n",
       "      <td>I</td>\n",
       "      <td>E</td>\n",
       "      <td>E</td>\n",
       "      <td>B070000</td>\n",
       "      <td>27000.0</td>\n",
       "    </tr>\n",
       "    <tr>\n",
       "      <th>4</th>\n",
       "      <td>1300.0</td>\n",
       "      <td>Y</td>\n",
       "      <td>3.0</td>\n",
       "      <td>69818.71</td>\n",
       "      <td>M</td>\n",
       "      <td>1054.16</td>\n",
       "      <td>O</td>\n",
       "      <td>E</td>\n",
       "      <td>E</td>\n",
       "      <td>B020000</td>\n",
       "      <td>81552.0</td>\n",
       "    </tr>\n",
       "  </tbody>\n",
       "</table>\n",
       "</div>"
      ],
      "text/plain": [
       "   SERMAYE ASKERLIK_DURUMU  BAK_YUK_OLDUGU_KISI_SAYISI  TOPLAM_BORC  \\\n",
       "0   1600.0               Y                         2.0     48895.32   \n",
       "1   1600.0               Y                         2.0     48895.32   \n",
       "2   1600.0               Y                         2.0     48895.32   \n",
       "3   1000.0               Y                         5.0     23852.07   \n",
       "4   1300.0               Y                         3.0     69818.71   \n",
       "\n",
       "  COGRAFI_BOLGE  VADESI_GECEN_BORC OGRENIM_DURUMU MEDENI_DURUMU CINSIYET  \\\n",
       "0             M               0.00              I             E        E   \n",
       "1             M               0.00              I             E        E   \n",
       "2             M               0.00              I             E        E   \n",
       "3             I               0.00              I             E        E   \n",
       "4             M            1054.16              O             E        E   \n",
       "\n",
       "  UST_KURUM_NO  YILLIK_MIN_GELIR  \n",
       "0      B020000           29808.0  \n",
       "1      B020000           56432.0  \n",
       "2      B020000            6750.0  \n",
       "3      B070000           27000.0  \n",
       "4      B020000           81552.0  "
      ]
     },
     "execution_count": 68,
     "metadata": {},
     "output_type": "execute_result"
    }
   ],
   "source": [
    "df[analize_girecekler].head()"
   ]
  },
  {
   "cell_type": "markdown",
   "metadata": {},
   "source": [
    "# Analize girecek kategorik değişkenlerimiz"
   ]
  },
  {
   "cell_type": "code",
   "execution_count": 69,
   "metadata": {},
   "outputs": [
    {
     "name": "stdout",
     "output_type": "stream",
     "text": [
      "ASKERLIK_DURUMU\n",
      "COGRAFI_BOLGE\n",
      "OGRENIM_DURUMU\n",
      "MEDENI_DURUMU\n",
      "CINSIYET\n",
      "UST_KURUM_NO\n"
     ]
    },
    {
     "data": {
      "text/plain": [
       "['ASKERLIK_DURUMU',\n",
       " 'COGRAFI_BOLGE',\n",
       " 'OGRENIM_DURUMU',\n",
       " 'MEDENI_DURUMU',\n",
       " 'CINSIYET',\n",
       " 'UST_KURUM_NO']"
      ]
     },
     "execution_count": 69,
     "metadata": {},
     "output_type": "execute_result"
    }
   ],
   "source": [
    "analize_girecek_kategorikler = []\n",
    "for i in analize_girecekler:\n",
    "    if (df[i].dtypes == 'object'):\n",
    "        print(i)\n",
    "        analize_girecek_kategorikler.append(i)\n",
    "analize_girecek_kategorikler"
   ]
  },
  {
   "cell_type": "code",
   "execution_count": 70,
   "metadata": {},
   "outputs": [
    {
     "name": "stdout",
     "output_type": "stream",
     "text": [
      "UST_KURUM_NO: 17\n",
      "COGRAFI_BOLGE: 7\n",
      "CINSIYET: 2\n",
      "ASKERLIK_DURUMU: 6\n",
      "OGRENIM_DURUMU: 7\n",
      "MEDENI_DURUMU: 6\n"
     ]
    }
   ],
   "source": [
    "# Her kategorik değişken için kaç farklı tekil kategori var \n",
    "print(\"UST_KURUM_NO:\",len(df['UST_KURUM_NO'].unique()))\n",
    "print(\"COGRAFI_BOLGE:\",len(df['COGRAFI_BOLGE'].unique()))\n",
    "print(\"CINSIYET:\",len(df['CINSIYET'].unique()))\n",
    "print(\"ASKERLIK_DURUMU:\",len(df['ASKERLIK_DURUMU'].unique()))\n",
    "print(\"OGRENIM_DURUMU:\",len(df['OGRENIM_DURUMU'].unique()))\n",
    "print(\"MEDENI_DURUMU:\",len(df['MEDENI_DURUMU'].unique()))\n",
    "# Aşırı kategori istenmez mümkünse her bir kategorik nitelik 10-15 ten fazla "
   ]
  },
  {
   "cell_type": "code",
   "execution_count": 71,
   "metadata": {},
   "outputs": [
    {
     "data": {
      "text/html": [
       "<div>\n",
       "<style scoped>\n",
       "    .dataframe tbody tr th:only-of-type {\n",
       "        vertical-align: middle;\n",
       "    }\n",
       "\n",
       "    .dataframe tbody tr th {\n",
       "        vertical-align: top;\n",
       "    }\n",
       "\n",
       "    .dataframe thead th {\n",
       "        text-align: right;\n",
       "    }\n",
       "</style>\n",
       "<table border=\"1\" class=\"dataframe\">\n",
       "  <thead>\n",
       "    <tr style=\"text-align: right;\">\n",
       "      <th></th>\n",
       "      <th>SERMAYE</th>\n",
       "      <th>ASKERLIK_DURUMU</th>\n",
       "      <th>BAK_YUK_OLDUGU_KISI_SAYISI</th>\n",
       "      <th>TOPLAM_BORC</th>\n",
       "      <th>COGRAFI_BOLGE</th>\n",
       "      <th>VADESI_GECEN_BORC</th>\n",
       "      <th>OGRENIM_DURUMU</th>\n",
       "      <th>MEDENI_DURUMU</th>\n",
       "      <th>CINSIYET</th>\n",
       "      <th>UST_KURUM_NO</th>\n",
       "      <th>YILLIK_MIN_GELIR</th>\n",
       "    </tr>\n",
       "  </thead>\n",
       "  <tbody>\n",
       "    <tr>\n",
       "      <th>0</th>\n",
       "      <td>1600.0</td>\n",
       "      <td>Y</td>\n",
       "      <td>2.0</td>\n",
       "      <td>48895.32</td>\n",
       "      <td>M</td>\n",
       "      <td>0.00</td>\n",
       "      <td>I</td>\n",
       "      <td>E</td>\n",
       "      <td>E</td>\n",
       "      <td>B020000</td>\n",
       "      <td>29808.0</td>\n",
       "    </tr>\n",
       "    <tr>\n",
       "      <th>1</th>\n",
       "      <td>1600.0</td>\n",
       "      <td>Y</td>\n",
       "      <td>2.0</td>\n",
       "      <td>48895.32</td>\n",
       "      <td>M</td>\n",
       "      <td>0.00</td>\n",
       "      <td>I</td>\n",
       "      <td>E</td>\n",
       "      <td>E</td>\n",
       "      <td>B020000</td>\n",
       "      <td>56432.0</td>\n",
       "    </tr>\n",
       "    <tr>\n",
       "      <th>2</th>\n",
       "      <td>1600.0</td>\n",
       "      <td>Y</td>\n",
       "      <td>2.0</td>\n",
       "      <td>48895.32</td>\n",
       "      <td>M</td>\n",
       "      <td>0.00</td>\n",
       "      <td>I</td>\n",
       "      <td>E</td>\n",
       "      <td>E</td>\n",
       "      <td>B020000</td>\n",
       "      <td>6750.0</td>\n",
       "    </tr>\n",
       "    <tr>\n",
       "      <th>3</th>\n",
       "      <td>1000.0</td>\n",
       "      <td>Y</td>\n",
       "      <td>5.0</td>\n",
       "      <td>23852.07</td>\n",
       "      <td>I</td>\n",
       "      <td>0.00</td>\n",
       "      <td>I</td>\n",
       "      <td>E</td>\n",
       "      <td>E</td>\n",
       "      <td>B070000</td>\n",
       "      <td>27000.0</td>\n",
       "    </tr>\n",
       "    <tr>\n",
       "      <th>4</th>\n",
       "      <td>1300.0</td>\n",
       "      <td>Y</td>\n",
       "      <td>3.0</td>\n",
       "      <td>69818.71</td>\n",
       "      <td>M</td>\n",
       "      <td>1054.16</td>\n",
       "      <td>O</td>\n",
       "      <td>E</td>\n",
       "      <td>E</td>\n",
       "      <td>B020000</td>\n",
       "      <td>81552.0</td>\n",
       "    </tr>\n",
       "  </tbody>\n",
       "</table>\n",
       "</div>"
      ],
      "text/plain": [
       "   SERMAYE ASKERLIK_DURUMU  BAK_YUK_OLDUGU_KISI_SAYISI  TOPLAM_BORC  \\\n",
       "0   1600.0               Y                         2.0     48895.32   \n",
       "1   1600.0               Y                         2.0     48895.32   \n",
       "2   1600.0               Y                         2.0     48895.32   \n",
       "3   1000.0               Y                         5.0     23852.07   \n",
       "4   1300.0               Y                         3.0     69818.71   \n",
       "\n",
       "  COGRAFI_BOLGE  VADESI_GECEN_BORC OGRENIM_DURUMU MEDENI_DURUMU CINSIYET  \\\n",
       "0             M               0.00              I             E        E   \n",
       "1             M               0.00              I             E        E   \n",
       "2             M               0.00              I             E        E   \n",
       "3             I               0.00              I             E        E   \n",
       "4             M            1054.16              O             E        E   \n",
       "\n",
       "  UST_KURUM_NO  YILLIK_MIN_GELIR  \n",
       "0      B020000           29808.0  \n",
       "1      B020000           56432.0  \n",
       "2      B020000            6750.0  \n",
       "3      B070000           27000.0  \n",
       "4      B020000           81552.0  "
      ]
     },
     "execution_count": 71,
     "metadata": {},
     "output_type": "execute_result"
    }
   ],
   "source": [
    "df[analize_girecekler].head()"
   ]
  },
  {
   "cell_type": "code",
   "execution_count": null,
   "metadata": {},
   "outputs": [],
   "source": []
  },
  {
   "cell_type": "code",
   "execution_count": 72,
   "metadata": {},
   "outputs": [],
   "source": [
    "# analize girecek dataframe içinden kategorik (string) \n",
    "# drop_first gölge değişkenleri düşür\n",
    "\n",
    "df_dummy = pd.get_dummies(df[analize_girecekler], \n",
    "                          drop_first=True,\n",
    "                          prefix=analize_girecek_kategorikler)"
   ]
  },
  {
   "cell_type": "code",
   "execution_count": 73,
   "metadata": {},
   "outputs": [],
   "source": [
    "df_dummy.drop('ASKERLIK_DURUMU_R', axis=1, inplace=True)"
   ]
  },
  {
   "cell_type": "code",
   "execution_count": 74,
   "metadata": {},
   "outputs": [
    {
     "data": {
      "text/html": [
       "<div>\n",
       "<style scoped>\n",
       "    .dataframe tbody tr th:only-of-type {\n",
       "        vertical-align: middle;\n",
       "    }\n",
       "\n",
       "    .dataframe tbody tr th {\n",
       "        vertical-align: top;\n",
       "    }\n",
       "\n",
       "    .dataframe thead th {\n",
       "        text-align: right;\n",
       "    }\n",
       "</style>\n",
       "<table border=\"1\" class=\"dataframe\">\n",
       "  <thead>\n",
       "    <tr style=\"text-align: right;\">\n",
       "      <th></th>\n",
       "      <th>SERMAYE</th>\n",
       "      <th>BAK_YUK_OLDUGU_KISI_SAYISI</th>\n",
       "      <th>TOPLAM_BORC</th>\n",
       "      <th>VADESI_GECEN_BORC</th>\n",
       "      <th>YILLIK_MIN_GELIR</th>\n",
       "      <th>ASKERLIK_DURUMU_M</th>\n",
       "      <th>ASKERLIK_DURUMU_P</th>\n",
       "      <th>ASKERLIK_DURUMU_T</th>\n",
       "      <th>ASKERLIK_DURUMU_Y</th>\n",
       "      <th>COGRAFI_BOLGE_D</th>\n",
       "      <th>...</th>\n",
       "      <th>UST_KURUM_NO_B080000</th>\n",
       "      <th>UST_KURUM_NO_B090000</th>\n",
       "      <th>UST_KURUM_NO_B100000</th>\n",
       "      <th>UST_KURUM_NO_B110000</th>\n",
       "      <th>UST_KURUM_NO_B120000</th>\n",
       "      <th>UST_KURUM_NO_B130000</th>\n",
       "      <th>UST_KURUM_NO_B140000</th>\n",
       "      <th>UST_KURUM_NO_B150000</th>\n",
       "      <th>UST_KURUM_NO_B160000</th>\n",
       "      <th>UST_KURUM_NO_B170000</th>\n",
       "    </tr>\n",
       "  </thead>\n",
       "  <tbody>\n",
       "    <tr>\n",
       "      <th>0</th>\n",
       "      <td>1600.0</td>\n",
       "      <td>2.0</td>\n",
       "      <td>48895.32</td>\n",
       "      <td>0.00</td>\n",
       "      <td>29808.0</td>\n",
       "      <td>0</td>\n",
       "      <td>0</td>\n",
       "      <td>0</td>\n",
       "      <td>1</td>\n",
       "      <td>0</td>\n",
       "      <td>...</td>\n",
       "      <td>0</td>\n",
       "      <td>0</td>\n",
       "      <td>0</td>\n",
       "      <td>0</td>\n",
       "      <td>0</td>\n",
       "      <td>0</td>\n",
       "      <td>0</td>\n",
       "      <td>0</td>\n",
       "      <td>0</td>\n",
       "      <td>0</td>\n",
       "    </tr>\n",
       "    <tr>\n",
       "      <th>1</th>\n",
       "      <td>1600.0</td>\n",
       "      <td>2.0</td>\n",
       "      <td>48895.32</td>\n",
       "      <td>0.00</td>\n",
       "      <td>56432.0</td>\n",
       "      <td>0</td>\n",
       "      <td>0</td>\n",
       "      <td>0</td>\n",
       "      <td>1</td>\n",
       "      <td>0</td>\n",
       "      <td>...</td>\n",
       "      <td>0</td>\n",
       "      <td>0</td>\n",
       "      <td>0</td>\n",
       "      <td>0</td>\n",
       "      <td>0</td>\n",
       "      <td>0</td>\n",
       "      <td>0</td>\n",
       "      <td>0</td>\n",
       "      <td>0</td>\n",
       "      <td>0</td>\n",
       "    </tr>\n",
       "    <tr>\n",
       "      <th>2</th>\n",
       "      <td>1600.0</td>\n",
       "      <td>2.0</td>\n",
       "      <td>48895.32</td>\n",
       "      <td>0.00</td>\n",
       "      <td>6750.0</td>\n",
       "      <td>0</td>\n",
       "      <td>0</td>\n",
       "      <td>0</td>\n",
       "      <td>1</td>\n",
       "      <td>0</td>\n",
       "      <td>...</td>\n",
       "      <td>0</td>\n",
       "      <td>0</td>\n",
       "      <td>0</td>\n",
       "      <td>0</td>\n",
       "      <td>0</td>\n",
       "      <td>0</td>\n",
       "      <td>0</td>\n",
       "      <td>0</td>\n",
       "      <td>0</td>\n",
       "      <td>0</td>\n",
       "    </tr>\n",
       "    <tr>\n",
       "      <th>3</th>\n",
       "      <td>1000.0</td>\n",
       "      <td>5.0</td>\n",
       "      <td>23852.07</td>\n",
       "      <td>0.00</td>\n",
       "      <td>27000.0</td>\n",
       "      <td>0</td>\n",
       "      <td>0</td>\n",
       "      <td>0</td>\n",
       "      <td>1</td>\n",
       "      <td>0</td>\n",
       "      <td>...</td>\n",
       "      <td>0</td>\n",
       "      <td>0</td>\n",
       "      <td>0</td>\n",
       "      <td>0</td>\n",
       "      <td>0</td>\n",
       "      <td>0</td>\n",
       "      <td>0</td>\n",
       "      <td>0</td>\n",
       "      <td>0</td>\n",
       "      <td>0</td>\n",
       "    </tr>\n",
       "    <tr>\n",
       "      <th>4</th>\n",
       "      <td>1300.0</td>\n",
       "      <td>3.0</td>\n",
       "      <td>69818.71</td>\n",
       "      <td>1054.16</td>\n",
       "      <td>81552.0</td>\n",
       "      <td>0</td>\n",
       "      <td>0</td>\n",
       "      <td>0</td>\n",
       "      <td>1</td>\n",
       "      <td>0</td>\n",
       "      <td>...</td>\n",
       "      <td>0</td>\n",
       "      <td>0</td>\n",
       "      <td>0</td>\n",
       "      <td>0</td>\n",
       "      <td>0</td>\n",
       "      <td>0</td>\n",
       "      <td>0</td>\n",
       "      <td>0</td>\n",
       "      <td>0</td>\n",
       "      <td>0</td>\n",
       "    </tr>\n",
       "  </tbody>\n",
       "</table>\n",
       "<p>5 rows × 43 columns</p>\n",
       "</div>"
      ],
      "text/plain": [
       "   SERMAYE  BAK_YUK_OLDUGU_KISI_SAYISI  TOPLAM_BORC  VADESI_GECEN_BORC  \\\n",
       "0   1600.0                         2.0     48895.32               0.00   \n",
       "1   1600.0                         2.0     48895.32               0.00   \n",
       "2   1600.0                         2.0     48895.32               0.00   \n",
       "3   1000.0                         5.0     23852.07               0.00   \n",
       "4   1300.0                         3.0     69818.71            1054.16   \n",
       "\n",
       "   YILLIK_MIN_GELIR  ASKERLIK_DURUMU_M  ASKERLIK_DURUMU_P  ASKERLIK_DURUMU_T  \\\n",
       "0           29808.0                  0                  0                  0   \n",
       "1           56432.0                  0                  0                  0   \n",
       "2            6750.0                  0                  0                  0   \n",
       "3           27000.0                  0                  0                  0   \n",
       "4           81552.0                  0                  0                  0   \n",
       "\n",
       "   ASKERLIK_DURUMU_Y  COGRAFI_BOLGE_D  ...  UST_KURUM_NO_B080000  \\\n",
       "0                  1                0  ...                     0   \n",
       "1                  1                0  ...                     0   \n",
       "2                  1                0  ...                     0   \n",
       "3                  1                0  ...                     0   \n",
       "4                  1                0  ...                     0   \n",
       "\n",
       "   UST_KURUM_NO_B090000  UST_KURUM_NO_B100000  UST_KURUM_NO_B110000  \\\n",
       "0                     0                     0                     0   \n",
       "1                     0                     0                     0   \n",
       "2                     0                     0                     0   \n",
       "3                     0                     0                     0   \n",
       "4                     0                     0                     0   \n",
       "\n",
       "   UST_KURUM_NO_B120000  UST_KURUM_NO_B130000  UST_KURUM_NO_B140000  \\\n",
       "0                     0                     0                     0   \n",
       "1                     0                     0                     0   \n",
       "2                     0                     0                     0   \n",
       "3                     0                     0                     0   \n",
       "4                     0                     0                     0   \n",
       "\n",
       "   UST_KURUM_NO_B150000  UST_KURUM_NO_B160000  UST_KURUM_NO_B170000  \n",
       "0                     0                     0                     0  \n",
       "1                     0                     0                     0  \n",
       "2                     0                     0                     0  \n",
       "3                     0                     0                     0  \n",
       "4                     0                     0                     0  \n",
       "\n",
       "[5 rows x 43 columns]"
      ]
     },
     "execution_count": 74,
     "metadata": {},
     "output_type": "execute_result"
    }
   ],
   "source": [
    "df_dummy.head()"
   ]
  },
  {
   "cell_type": "code",
   "execution_count": 75,
   "metadata": {
    "scrolled": true
   },
   "outputs": [
    {
     "data": {
      "text/plain": [
       "Index(['SERMAYE', 'BAK_YUK_OLDUGU_KISI_SAYISI', 'TOPLAM_BORC',\n",
       "       'VADESI_GECEN_BORC', 'YILLIK_MIN_GELIR', 'ASKERLIK_DURUMU_M',\n",
       "       'ASKERLIK_DURUMU_P', 'ASKERLIK_DURUMU_T', 'ASKERLIK_DURUMU_Y',\n",
       "       'COGRAFI_BOLGE_D', 'COGRAFI_BOLGE_E', 'COGRAFI_BOLGE_G',\n",
       "       'COGRAFI_BOLGE_I', 'COGRAFI_BOLGE_K', 'COGRAFI_BOLGE_M',\n",
       "       'OGRENIM_DURUMU_L', 'OGRENIM_DURUMU_O', 'OGRENIM_DURUMU_R',\n",
       "       'OGRENIM_DURUMU_T', 'OGRENIM_DURUMU_U', 'OGRENIM_DURUMU_Y',\n",
       "       'MEDENI_DURUMU_Boşanmış', 'MEDENI_DURUMU_Dul', 'MEDENI_DURUMU_E',\n",
       "       'MEDENI_DURUMU_Evliliğin Feshi', 'MEDENI_DURUMU_Evliliğin İptali',\n",
       "       'CINSIYET_K', 'UST_KURUM_NO_B020000', 'UST_KURUM_NO_B030000',\n",
       "       'UST_KURUM_NO_B040000', 'UST_KURUM_NO_B050000', 'UST_KURUM_NO_B060000',\n",
       "       'UST_KURUM_NO_B070000', 'UST_KURUM_NO_B080000', 'UST_KURUM_NO_B090000',\n",
       "       'UST_KURUM_NO_B100000', 'UST_KURUM_NO_B110000', 'UST_KURUM_NO_B120000',\n",
       "       'UST_KURUM_NO_B130000', 'UST_KURUM_NO_B140000', 'UST_KURUM_NO_B150000',\n",
       "       'UST_KURUM_NO_B160000', 'UST_KURUM_NO_B170000'],\n",
       "      dtype='object')"
      ]
     },
     "execution_count": 75,
     "metadata": {},
     "output_type": "execute_result"
    }
   ],
   "source": [
    "df_dummy.columns"
   ]
  },
  {
   "cell_type": "markdown",
   "metadata": {},
   "source": [
    "## Modele borcu olmayanaları dahil etmeyelim"
   ]
  },
  {
   "cell_type": "code",
   "execution_count": 76,
   "metadata": {},
   "outputs": [],
   "source": [
    "# VADESI_GECEN_BORC 0 olanları veriden çıkaralım\n",
    "df_dummy = df_dummy.loc[ df_dummy['VADESI_GECEN_BORC'] != 0.0 ]"
   ]
  },
  {
   "cell_type": "markdown",
   "metadata": {},
   "source": [
    "# Nitelikleri yeniden sırala"
   ]
  },
  {
   "cell_type": "code",
   "execution_count": 112,
   "metadata": {},
   "outputs": [],
   "source": [
    "df = df_dummy[[ 'TOPLAM_BORC', 'SERMAYE', 'COGRAFI_BOLGE_I','COGRAFI_BOLGE_G',\n",
    "               'UST_KURUM_NO_B080000','CINSIYET_K','VADESI_GECEN_BORC']]"
   ]
  },
  {
   "cell_type": "code",
   "execution_count": 113,
   "metadata": {
    "scrolled": true
   },
   "outputs": [
    {
     "data": {
      "text/html": [
       "<div>\n",
       "<style scoped>\n",
       "    .dataframe tbody tr th:only-of-type {\n",
       "        vertical-align: middle;\n",
       "    }\n",
       "\n",
       "    .dataframe tbody tr th {\n",
       "        vertical-align: top;\n",
       "    }\n",
       "\n",
       "    .dataframe thead th {\n",
       "        text-align: right;\n",
       "    }\n",
       "</style>\n",
       "<table border=\"1\" class=\"dataframe\">\n",
       "  <thead>\n",
       "    <tr style=\"text-align: right;\">\n",
       "      <th></th>\n",
       "      <th>TOPLAM_BORC</th>\n",
       "      <th>SERMAYE</th>\n",
       "      <th>COGRAFI_BOLGE_I</th>\n",
       "      <th>COGRAFI_BOLGE_G</th>\n",
       "      <th>UST_KURUM_NO_B080000</th>\n",
       "      <th>CINSIYET_K</th>\n",
       "      <th>VADESI_GECEN_BORC</th>\n",
       "    </tr>\n",
       "  </thead>\n",
       "  <tbody>\n",
       "    <tr>\n",
       "      <th>4</th>\n",
       "      <td>69818.71</td>\n",
       "      <td>1300.0</td>\n",
       "      <td>0</td>\n",
       "      <td>0</td>\n",
       "      <td>0</td>\n",
       "      <td>0</td>\n",
       "      <td>1054.16</td>\n",
       "    </tr>\n",
       "    <tr>\n",
       "      <th>5</th>\n",
       "      <td>69818.71</td>\n",
       "      <td>1300.0</td>\n",
       "      <td>0</td>\n",
       "      <td>0</td>\n",
       "      <td>0</td>\n",
       "      <td>0</td>\n",
       "      <td>1054.16</td>\n",
       "    </tr>\n",
       "    <tr>\n",
       "      <th>15</th>\n",
       "      <td>44077.59</td>\n",
       "      <td>500.0</td>\n",
       "      <td>0</td>\n",
       "      <td>0</td>\n",
       "      <td>0</td>\n",
       "      <td>1</td>\n",
       "      <td>7427.49</td>\n",
       "    </tr>\n",
       "    <tr>\n",
       "      <th>49</th>\n",
       "      <td>74879.71</td>\n",
       "      <td>1300.0</td>\n",
       "      <td>0</td>\n",
       "      <td>0</td>\n",
       "      <td>0</td>\n",
       "      <td>0</td>\n",
       "      <td>5617.95</td>\n",
       "    </tr>\n",
       "    <tr>\n",
       "      <th>50</th>\n",
       "      <td>74879.71</td>\n",
       "      <td>1300.0</td>\n",
       "      <td>0</td>\n",
       "      <td>0</td>\n",
       "      <td>0</td>\n",
       "      <td>0</td>\n",
       "      <td>5617.95</td>\n",
       "    </tr>\n",
       "  </tbody>\n",
       "</table>\n",
       "</div>"
      ],
      "text/plain": [
       "    TOPLAM_BORC  SERMAYE  COGRAFI_BOLGE_I  COGRAFI_BOLGE_G  \\\n",
       "4      69818.71   1300.0                0                0   \n",
       "5      69818.71   1300.0                0                0   \n",
       "15     44077.59    500.0                0                0   \n",
       "49     74879.71   1300.0                0                0   \n",
       "50     74879.71   1300.0                0                0   \n",
       "\n",
       "    UST_KURUM_NO_B080000  CINSIYET_K  VADESI_GECEN_BORC  \n",
       "4                      0           0            1054.16  \n",
       "5                      0           0            1054.16  \n",
       "15                     0           1            7427.49  \n",
       "49                     0           0            5617.95  \n",
       "50                     0           0            5617.95  "
      ]
     },
     "execution_count": 113,
     "metadata": {},
     "output_type": "execute_result"
    }
   ],
   "source": [
    "df.head()"
   ]
  },
  {
   "cell_type": "code",
   "execution_count": 114,
   "metadata": {},
   "outputs": [
    {
     "data": {
      "text/plain": [
       "VADESI_GECEN_BORC       1.000000\n",
       "TOPLAM_BORC             0.602821\n",
       "SERMAYE                 0.402587\n",
       "COGRAFI_BOLGE_I         0.075301\n",
       "COGRAFI_BOLGE_G         0.059222\n",
       "UST_KURUM_NO_B080000    0.057957\n",
       "CINSIYET_K              0.050716\n",
       "dtype: float64"
      ]
     },
     "execution_count": 114,
     "metadata": {},
     "output_type": "execute_result"
    }
   ],
   "source": [
    "# Girdi değişkenlerin hedef değişken ile korelasyonları\n",
    "df.corrwith(df['VADESI_GECEN_BORC']).sort_values(ascending=False)"
   ]
  },
  {
   "cell_type": "markdown",
   "metadata": {},
   "source": [
    "# Veri setini X ve y olarak ayırma (Dikey bölme)"
   ]
  },
  {
   "cell_type": "code",
   "execution_count": 115,
   "metadata": {},
   "outputs": [
    {
     "data": {
      "text/plain": [
       "(211878, 6)"
      ]
     },
     "execution_count": 115,
     "metadata": {},
     "output_type": "execute_result"
    }
   ],
   "source": [
    "# Nitelikler matrisi (feature matrix)\n",
    "X = df.iloc[:,:-1].values\n",
    "X.shape"
   ]
  },
  {
   "cell_type": "code",
   "execution_count": 116,
   "metadata": {},
   "outputs": [
    {
     "data": {
      "text/plain": [
       "array([[69818.71,  1300.  ,     0.  ,     0.  ,     0.  ,     0.  ],\n",
       "       [69818.71,  1300.  ,     0.  ,     0.  ,     0.  ,     0.  ]])"
      ]
     },
     "execution_count": 116,
     "metadata": {},
     "output_type": "execute_result"
    }
   ],
   "source": [
    "X[:2]"
   ]
  },
  {
   "cell_type": "code",
   "execution_count": 117,
   "metadata": {},
   "outputs": [
    {
     "data": {
      "text/plain": [
       "numpy.ndarray"
      ]
     },
     "execution_count": 117,
     "metadata": {},
     "output_type": "execute_result"
    }
   ],
   "source": [
    "type(X)"
   ]
  },
  {
   "cell_type": "code",
   "execution_count": 118,
   "metadata": {},
   "outputs": [
    {
     "data": {
      "text/plain": [
       "(211878,)"
      ]
     },
     "execution_count": 118,
     "metadata": {},
     "output_type": "execute_result"
    }
   ],
   "source": [
    "# VADESI_GECEN_BORC hedef değişken 8. indekste\n",
    "y = df.iloc[:,-1].values\n",
    "y.shape"
   ]
  },
  {
   "cell_type": "code",
   "execution_count": 119,
   "metadata": {},
   "outputs": [
    {
     "data": {
      "text/plain": [
       "numpy.ndarray"
      ]
     },
     "execution_count": 119,
     "metadata": {},
     "output_type": "execute_result"
    }
   ],
   "source": [
    "type(y)"
   ]
  },
  {
   "cell_type": "code",
   "execution_count": 120,
   "metadata": {},
   "outputs": [
    {
     "data": {
      "text/plain": [
       "array([1.05416000e+03, 1.05416000e+03, 7.42749000e+03, 5.61795000e+03,\n",
       "       5.61795000e+03, 5.61795000e+03, 3.30919000e+03, 2.59513010e+05,\n",
       "       2.59513010e+05, 2.59513010e+05, 7.84400000e+01, 4.23130000e+02,\n",
       "       2.82314900e+04, 2.82314900e+04, 2.82314900e+04, 1.64130000e+02,\n",
       "       1.64130000e+02, 4.91143000e+03, 4.91143000e+03, 4.91143000e+03,\n",
       "       1.02123600e+05, 1.02123600e+05, 1.02123600e+05, 1.02123600e+05,\n",
       "       4.85328000e+03, 9.48360000e+02, 9.48360000e+02, 8.84810000e+02,\n",
       "       8.84810000e+02, 2.72974000e+03, 1.14306332e+06, 1.14306332e+06,\n",
       "       1.14306332e+06, 1.14306332e+06, 1.40275840e+05, 1.29504750e+05,\n",
       "       1.29504750e+05, 6.20924000e+03, 6.20924000e+03, 9.32886300e+04])"
      ]
     },
     "execution_count": 120,
     "metadata": {},
     "output_type": "execute_result"
    }
   ],
   "source": [
    "y[:40]"
   ]
  },
  {
   "cell_type": "markdown",
   "metadata": {},
   "source": [
    "# Veri setini train-test olarak ayırma (yatay bölme)"
   ]
  },
  {
   "cell_type": "code",
   "execution_count": 121,
   "metadata": {},
   "outputs": [],
   "source": [
    "from sklearn.model_selection import train_test_split\n",
    "X_train, X_test, y_train, y_test = train_test_split(X, y,\n",
    "            test_size=0.25, random_state = 142)"
   ]
  },
  {
   "cell_type": "code",
   "execution_count": 122,
   "metadata": {},
   "outputs": [
    {
     "name": "stdout",
     "output_type": "stream",
     "text": [
      "(158908, 6)\n",
      "(158908,)\n",
      "(52970, 6)\n",
      "(52970,)\n"
     ]
    }
   ],
   "source": [
    "print(X_train.shape)\n",
    "print(y_train.shape)\n",
    "print(X_test.shape)\n",
    "print(y_test.shape)"
   ]
  },
  {
   "cell_type": "markdown",
   "metadata": {},
   "source": [
    "# Lineer Regresyon Nesnesi Oluşturma (Boş model yaratma)"
   ]
  },
  {
   "cell_type": "code",
   "execution_count": 123,
   "metadata": {},
   "outputs": [],
   "source": [
    "from sklearn.linear_model import LinearRegression"
   ]
  },
  {
   "cell_type": "code",
   "execution_count": 124,
   "metadata": {},
   "outputs": [],
   "source": [
    "regressor = LinearRegression()"
   ]
  },
  {
   "cell_type": "markdown",
   "metadata": {},
   "source": [
    "# Lineer modeli eğitme (modeli şekillendirme - veriye uydurma - eğitme)"
   ]
  },
  {
   "cell_type": "code",
   "execution_count": 125,
   "metadata": {},
   "outputs": [
    {
     "data": {
      "text/plain": [
       "LinearRegression(copy_X=True, fit_intercept=True, n_jobs=None, normalize=False)"
      ]
     },
     "execution_count": 125,
     "metadata": {},
     "output_type": "execute_result"
    }
   ],
   "source": [
    "regressor.fit(X_train, y_train)"
   ]
  },
  {
   "cell_type": "markdown",
   "metadata": {},
   "source": [
    "# Eğitilmiş modelle (makine) test seti kullanarak tahmin "
   ]
  },
  {
   "cell_type": "code",
   "execution_count": 126,
   "metadata": {},
   "outputs": [],
   "source": [
    "y_pred = regressor.predict(X_test)"
   ]
  },
  {
   "cell_type": "markdown",
   "metadata": {},
   "source": [
    "## Tahmin sonuçlarını numpy.ndarray'den dataframe yapma (İncelemek daha Kolay)"
   ]
  },
  {
   "cell_type": "code",
   "execution_count": 127,
   "metadata": {},
   "outputs": [
    {
     "data": {
      "text/html": [
       "<div>\n",
       "<style scoped>\n",
       "    .dataframe tbody tr th:only-of-type {\n",
       "        vertical-align: middle;\n",
       "    }\n",
       "\n",
       "    .dataframe tbody tr th {\n",
       "        vertical-align: top;\n",
       "    }\n",
       "\n",
       "    .dataframe thead th {\n",
       "        text-align: right;\n",
       "    }\n",
       "</style>\n",
       "<table border=\"1\" class=\"dataframe\">\n",
       "  <thead>\n",
       "    <tr style=\"text-align: right;\">\n",
       "      <th></th>\n",
       "      <th>y_pred</th>\n",
       "      <th>y_test</th>\n",
       "    </tr>\n",
       "  </thead>\n",
       "  <tbody>\n",
       "    <tr>\n",
       "      <th>0</th>\n",
       "      <td>19934.498127</td>\n",
       "      <td>1572.85</td>\n",
       "    </tr>\n",
       "    <tr>\n",
       "      <th>1</th>\n",
       "      <td>12256.191851</td>\n",
       "      <td>777.71</td>\n",
       "    </tr>\n",
       "    <tr>\n",
       "      <th>2</th>\n",
       "      <td>144306.374346</td>\n",
       "      <td>11325.65</td>\n",
       "    </tr>\n",
       "    <tr>\n",
       "      <th>3</th>\n",
       "      <td>18675.932099</td>\n",
       "      <td>68517.64</td>\n",
       "    </tr>\n",
       "    <tr>\n",
       "      <th>4</th>\n",
       "      <td>54410.557093</td>\n",
       "      <td>16423.91</td>\n",
       "    </tr>\n",
       "    <tr>\n",
       "      <th>5</th>\n",
       "      <td>2198.713251</td>\n",
       "      <td>1607.51</td>\n",
       "    </tr>\n",
       "    <tr>\n",
       "      <th>6</th>\n",
       "      <td>39085.734789</td>\n",
       "      <td>3450.81</td>\n",
       "    </tr>\n",
       "    <tr>\n",
       "      <th>7</th>\n",
       "      <td>7735.745076</td>\n",
       "      <td>217.58</td>\n",
       "    </tr>\n",
       "    <tr>\n",
       "      <th>8</th>\n",
       "      <td>37957.531664</td>\n",
       "      <td>8194.22</td>\n",
       "    </tr>\n",
       "    <tr>\n",
       "      <th>9</th>\n",
       "      <td>55227.437231</td>\n",
       "      <td>8286.38</td>\n",
       "    </tr>\n",
       "    <tr>\n",
       "      <th>10</th>\n",
       "      <td>10200.840360</td>\n",
       "      <td>651.11</td>\n",
       "    </tr>\n",
       "    <tr>\n",
       "      <th>11</th>\n",
       "      <td>48831.235757</td>\n",
       "      <td>101542.95</td>\n",
       "    </tr>\n",
       "    <tr>\n",
       "      <th>12</th>\n",
       "      <td>-32388.235935</td>\n",
       "      <td>7534.25</td>\n",
       "    </tr>\n",
       "    <tr>\n",
       "      <th>13</th>\n",
       "      <td>31892.764607</td>\n",
       "      <td>1007.46</td>\n",
       "    </tr>\n",
       "    <tr>\n",
       "      <th>14</th>\n",
       "      <td>36629.329455</td>\n",
       "      <td>126995.86</td>\n",
       "    </tr>\n",
       "  </tbody>\n",
       "</table>\n",
       "</div>"
      ],
      "text/plain": [
       "           y_pred     y_test\n",
       "0    19934.498127    1572.85\n",
       "1    12256.191851     777.71\n",
       "2   144306.374346   11325.65\n",
       "3    18675.932099   68517.64\n",
       "4    54410.557093   16423.91\n",
       "5     2198.713251    1607.51\n",
       "6    39085.734789    3450.81\n",
       "7     7735.745076     217.58\n",
       "8    37957.531664    8194.22\n",
       "9    55227.437231    8286.38\n",
       "10   10200.840360     651.11\n",
       "11   48831.235757  101542.95\n",
       "12  -32388.235935    7534.25\n",
       "13   31892.764607    1007.46\n",
       "14   36629.329455  126995.86"
      ]
     },
     "execution_count": 127,
     "metadata": {},
     "output_type": "execute_result"
    }
   ],
   "source": [
    "predictions = pd.DataFrame(data=y_pred,    # values\n",
    "                index=range(len(y_pred)),    # 1st column as index\n",
    "                   columns=['y_pred'])  # 1st row as the column names\n",
    "\n",
    "# Sadece y_pred'den oluşan df'e test(gerçek) y_test'i sütun olarak ekleme\n",
    "predictions['y_test'] = y_test\n",
    "predictions[predictions['y_test']  > 1].head(15)"
   ]
  },
  {
   "cell_type": "markdown",
   "metadata": {},
   "source": [
    "# Regression metrics"
   ]
  },
  {
   "cell_type": "markdown",
   "metadata": {},
   "source": [
    "## explained_variance"
   ]
  },
  {
   "cell_type": "code",
   "execution_count": 128,
   "metadata": {},
   "outputs": [],
   "source": [
    "# The sklearn.metrics module implements several loss, score, and utility functions to measure \n",
    "# regression performance. Some of those have been enhanced to handle the multioutput case: \n",
    "# mean_squared_error, mean_absolute_error, explained_variance_score and r2_score."
   ]
  },
  {
   "cell_type": "code",
   "execution_count": 129,
   "metadata": {},
   "outputs": [],
   "source": [
    "from sklearn.metrics import explained_variance_score"
   ]
  },
  {
   "cell_type": "code",
   "execution_count": 130,
   "metadata": {},
   "outputs": [
    {
     "data": {
      "text/plain": [
       "0.39595023432213494"
      ]
     },
     "execution_count": 130,
     "metadata": {},
     "output_type": "execute_result"
    }
   ],
   "source": [
    "explained_variance_score(y_true=y_test, y_pred=y_pred)"
   ]
  },
  {
   "cell_type": "markdown",
   "metadata": {},
   "source": [
    "## mean_absolute_error"
   ]
  },
  {
   "cell_type": "code",
   "execution_count": 131,
   "metadata": {},
   "outputs": [],
   "source": [
    "from sklearn.metrics import mean_absolute_error"
   ]
  },
  {
   "cell_type": "code",
   "execution_count": 132,
   "metadata": {},
   "outputs": [
    {
     "data": {
      "text/plain": [
       "50576.597106749505"
      ]
     },
     "execution_count": 132,
     "metadata": {},
     "output_type": "execute_result"
    }
   ],
   "source": [
    "mean_absolute_error(y_true=y_test, y_pred=y_pred)"
   ]
  },
  {
   "cell_type": "markdown",
   "metadata": {},
   "source": [
    "## r2_score "
   ]
  },
  {
   "cell_type": "code",
   "execution_count": 133,
   "metadata": {},
   "outputs": [],
   "source": [
    "from sklearn.metrics import r2_score"
   ]
  },
  {
   "cell_type": "code",
   "execution_count": 134,
   "metadata": {},
   "outputs": [
    {
     "data": {
      "text/plain": [
       "0.3957215556808735"
      ]
     },
     "execution_count": 134,
     "metadata": {},
     "output_type": "execute_result"
    }
   ],
   "source": [
    "r2_score(y_test, y_pred)"
   ]
  },
  {
   "cell_type": "markdown",
   "metadata": {},
   "source": [
    "# Model Anlamlılığı "
   ]
  },
  {
   "cell_type": "code",
   "execution_count": 135,
   "metadata": {},
   "outputs": [],
   "source": [
    "# Scikit-learn model anlamlılığı için bir araç sunmuyor. \n",
    "# Bu sebeple statsmodel modülünü kullanacağız"
   ]
  },
  {
   "cell_type": "code",
   "execution_count": 136,
   "metadata": {},
   "outputs": [],
   "source": [
    "# !pip install statsmodels"
   ]
  },
  {
   "cell_type": "code",
   "execution_count": 137,
   "metadata": {},
   "outputs": [],
   "source": [
    "# !pip install patsy"
   ]
  },
  {
   "cell_type": "code",
   "execution_count": 138,
   "metadata": {},
   "outputs": [],
   "source": [
    "# !pip install factorial"
   ]
  },
  {
   "cell_type": "code",
   "execution_count": 139,
   "metadata": {},
   "outputs": [],
   "source": [
    "# factorial hatası alınırsa\n",
    "# !pip install scipy==1.2 --upgrade"
   ]
  },
  {
   "cell_type": "code",
   "execution_count": 140,
   "metadata": {
    "scrolled": true
   },
   "outputs": [],
   "source": [
    "import statsmodels.api as sm"
   ]
  },
  {
   "cell_type": "code",
   "execution_count": 141,
   "metadata": {},
   "outputs": [],
   "source": [
    "# Sabit Ekleme (aslında sabitin önünde bir tane x üzeri 0 var. \n",
    "# Onu temsilen yeni bir sütunu 1'ler ile dolduruyoruz)"
   ]
  },
  {
   "cell_type": "code",
   "execution_count": 142,
   "metadata": {},
   "outputs": [],
   "source": [
    "X = sm.add_constant(X)"
   ]
  },
  {
   "cell_type": "code",
   "execution_count": 143,
   "metadata": {},
   "outputs": [
    {
     "data": {
      "text/plain": [
       "(211878, 7)"
      ]
     },
     "execution_count": 143,
     "metadata": {},
     "output_type": "execute_result"
    }
   ],
   "source": [
    "X.shape"
   ]
  },
  {
   "cell_type": "code",
   "execution_count": 144,
   "metadata": {},
   "outputs": [
    {
     "data": {
      "text/plain": [
       "array([[1.000000e+00, 6.981871e+04, 1.300000e+03, 0.000000e+00,\n",
       "        0.000000e+00, 0.000000e+00, 0.000000e+00],\n",
       "       [1.000000e+00, 6.981871e+04, 1.300000e+03, 0.000000e+00,\n",
       "        0.000000e+00, 0.000000e+00, 0.000000e+00]])"
      ]
     },
     "execution_count": 144,
     "metadata": {},
     "output_type": "execute_result"
    }
   ],
   "source": [
    "X[:2]"
   ]
  },
  {
   "cell_type": "code",
   "execution_count": 145,
   "metadata": {},
   "outputs": [],
   "source": [
    "reg_OLS_model = sm.OLS(endog=y, exog=X).fit()"
   ]
  },
  {
   "cell_type": "code",
   "execution_count": 146,
   "metadata": {
    "scrolled": false
   },
   "outputs": [
    {
     "data": {
      "text/html": [
       "<table class=\"simpletable\">\n",
       "<caption>OLS Regression Results</caption>\n",
       "<tr>\n",
       "  <th>Dep. Variable:</th>            <td>y</td>        <th>  R-squared:         </th>  <td>   0.391</td>  \n",
       "</tr>\n",
       "<tr>\n",
       "  <th>Model:</th>                   <td>OLS</td>       <th>  Adj. R-squared:    </th>  <td>   0.391</td>  \n",
       "</tr>\n",
       "<tr>\n",
       "  <th>Method:</th>             <td>Least Squares</td>  <th>  F-statistic:       </th>  <td>2.269e+04</td> \n",
       "</tr>\n",
       "<tr>\n",
       "  <th>Date:</th>             <td>Thu, 04 Jul 2019</td> <th>  Prob (F-statistic):</th>   <td>  0.00</td>   \n",
       "</tr>\n",
       "<tr>\n",
       "  <th>Time:</th>                 <td>10:40:39</td>     <th>  Log-Likelihood:    </th> <td>-2.7319e+06</td>\n",
       "</tr>\n",
       "<tr>\n",
       "  <th>No. Observations:</th>      <td>211878</td>      <th>  AIC:               </th>  <td>5.464e+06</td> \n",
       "</tr>\n",
       "<tr>\n",
       "  <th>Df Residuals:</th>          <td>211871</td>      <th>  BIC:               </th>  <td>5.464e+06</td> \n",
       "</tr>\n",
       "<tr>\n",
       "  <th>Df Model:</th>              <td>     6</td>      <th>                     </th>      <td> </td>     \n",
       "</tr>\n",
       "<tr>\n",
       "  <th>Covariance Type:</th>      <td>nonrobust</td>    <th>                     </th>      <td> </td>     \n",
       "</tr>\n",
       "</table>\n",
       "<table class=\"simpletable\">\n",
       "<tr>\n",
       "    <td></td>       <th>coef</th>     <th>std err</th>      <th>t</th>      <th>P>|t|</th>  <th>[0.025</th>    <th>0.975]</th>  \n",
       "</tr>\n",
       "<tr>\n",
       "  <th>const</th> <td> 5573.6986</td> <td>  346.153</td> <td>   16.102</td> <td> 0.000</td> <td> 4895.248</td> <td> 6252.149</td>\n",
       "</tr>\n",
       "<tr>\n",
       "  <th>x1</th>    <td>    0.4780</td> <td>    0.002</td> <td>  276.357</td> <td> 0.000</td> <td>    0.475</td> <td>    0.481</td>\n",
       "</tr>\n",
       "<tr>\n",
       "  <th>x2</th>    <td>  -19.6181</td> <td>    0.225</td> <td>  -87.257</td> <td> 0.000</td> <td>  -20.059</td> <td>  -19.177</td>\n",
       "</tr>\n",
       "<tr>\n",
       "  <th>x3</th>    <td> 1.436e+04</td> <td>  631.276</td> <td>   22.749</td> <td> 0.000</td> <td> 1.31e+04</td> <td> 1.56e+04</td>\n",
       "</tr>\n",
       "<tr>\n",
       "  <th>x4</th>    <td>-5202.5999</td> <td> 1178.134</td> <td>   -4.416</td> <td> 0.000</td> <td>-7511.712</td> <td>-2893.487</td>\n",
       "</tr>\n",
       "<tr>\n",
       "  <th>x5</th>    <td> 2.788e+04</td> <td> 1128.121</td> <td>   24.716</td> <td> 0.000</td> <td> 2.57e+04</td> <td> 3.01e+04</td>\n",
       "</tr>\n",
       "<tr>\n",
       "  <th>x6</th>    <td> 1.235e+04</td> <td>  710.941</td> <td>   17.374</td> <td> 0.000</td> <td>  1.1e+04</td> <td> 1.37e+04</td>\n",
       "</tr>\n",
       "</table>\n",
       "<table class=\"simpletable\">\n",
       "<tr>\n",
       "  <th>Omnibus:</th>       <td>149086.875</td> <th>  Durbin-Watson:     </th>   <td>   1.081</td>  \n",
       "</tr>\n",
       "<tr>\n",
       "  <th>Prob(Omnibus):</th>   <td> 0.000</td>   <th>  Jarque-Bera (JB):  </th> <td>23539774.323</td>\n",
       "</tr>\n",
       "<tr>\n",
       "  <th>Skew:</th>            <td> 2.471</td>   <th>  Prob(JB):          </th>   <td>    0.00</td>  \n",
       "</tr>\n",
       "<tr>\n",
       "  <th>Kurtosis:</th>        <td>54.400</td>   <th>  Cond. No.          </th>   <td>1.53e+06</td>  \n",
       "</tr>\n",
       "</table><br/><br/>Warnings:<br/>[1] Standard Errors assume that the covariance matrix of the errors is correctly specified.<br/>[2] The condition number is large, 1.53e+06. This might indicate that there are<br/>strong multicollinearity or other numerical problems."
      ],
      "text/plain": [
       "<class 'statsmodels.iolib.summary.Summary'>\n",
       "\"\"\"\n",
       "                            OLS Regression Results                            \n",
       "==============================================================================\n",
       "Dep. Variable:                      y   R-squared:                       0.391\n",
       "Model:                            OLS   Adj. R-squared:                  0.391\n",
       "Method:                 Least Squares   F-statistic:                 2.269e+04\n",
       "Date:                Thu, 04 Jul 2019   Prob (F-statistic):               0.00\n",
       "Time:                        10:40:39   Log-Likelihood:            -2.7319e+06\n",
       "No. Observations:              211878   AIC:                         5.464e+06\n",
       "Df Residuals:                  211871   BIC:                         5.464e+06\n",
       "Df Model:                           6                                         \n",
       "Covariance Type:            nonrobust                                         \n",
       "==============================================================================\n",
       "                 coef    std err          t      P>|t|      [0.025      0.975]\n",
       "------------------------------------------------------------------------------\n",
       "const       5573.6986    346.153     16.102      0.000    4895.248    6252.149\n",
       "x1             0.4780      0.002    276.357      0.000       0.475       0.481\n",
       "x2           -19.6181      0.225    -87.257      0.000     -20.059     -19.177\n",
       "x3          1.436e+04    631.276     22.749      0.000    1.31e+04    1.56e+04\n",
       "x4         -5202.5999   1178.134     -4.416      0.000   -7511.712   -2893.487\n",
       "x5          2.788e+04   1128.121     24.716      0.000    2.57e+04    3.01e+04\n",
       "x6          1.235e+04    710.941     17.374      0.000     1.1e+04    1.37e+04\n",
       "==============================================================================\n",
       "Omnibus:                   149086.875   Durbin-Watson:                   1.081\n",
       "Prob(Omnibus):                  0.000   Jarque-Bera (JB):         23539774.323\n",
       "Skew:                           2.471   Prob(JB):                         0.00\n",
       "Kurtosis:                      54.400   Cond. No.                     1.53e+06\n",
       "==============================================================================\n",
       "\n",
       "Warnings:\n",
       "[1] Standard Errors assume that the covariance matrix of the errors is correctly specified.\n",
       "[2] The condition number is large, 1.53e+06. This might indicate that there are\n",
       "strong multicollinearity or other numerical problems.\n",
       "\"\"\""
      ]
     },
     "execution_count": 146,
     "metadata": {},
     "output_type": "execute_result"
    }
   ],
   "source": [
    "reg_OLS_model.summary()"
   ]
  },
  {
   "cell_type": "code",
   "execution_count": 333,
   "metadata": {},
   "outputs": [
    {
     "data": {
      "text/plain": [
       "Index(['TOPLAM_BORC', 'BAK_YUK_OLDUGU_KISI_SAYISI', 'YILLIK_MIN_GELIR',\n",
       "       'SERMAYE', 'MEDENI_DURUMU_Boşanmış', 'MEDENI_DURUMU_Dul',\n",
       "       'MEDENI_DURUMU_E', 'MEDENI_DURUMU_Evliliğin İptali',\n",
       "       'UST_KURUM_NO_B020000', 'UST_KURUM_NO_B030000', 'UST_KURUM_NO_B040000',\n",
       "       'UST_KURUM_NO_B050000', 'UST_KURUM_NO_B060000', 'UST_KURUM_NO_B070000',\n",
       "       'UST_KURUM_NO_B080000', 'UST_KURUM_NO_B090000', 'UST_KURUM_NO_B100000',\n",
       "       'UST_KURUM_NO_B110000', 'UST_KURUM_NO_B120000', 'UST_KURUM_NO_B130000',\n",
       "       'UST_KURUM_NO_B140000', 'UST_KURUM_NO_B150000', 'UST_KURUM_NO_B160000',\n",
       "       'UST_KURUM_NO_B170000', 'COGRAFI_BOLGE_D', 'COGRAFI_BOLGE_E',\n",
       "       'COGRAFI_BOLGE_G', 'COGRAFI_BOLGE_I', 'COGRAFI_BOLGE_K',\n",
       "       'COGRAFI_BOLGE_M', 'OGRENIM_DURUMU_L', 'OGRENIM_DURUMU_O',\n",
       "       'OGRENIM_DURUMU_R', 'OGRENIM_DURUMU_T', 'OGRENIM_DURUMU_U',\n",
       "       'OGRENIM_DURUMU_Y', 'CINSIYET_K', 'ASKERLIK_DURUMU_M',\n",
       "       'ASKERLIK_DURUMU_P', 'ASKERLIK_DURUMU_T', 'ASKERLIK_DURUMU_Y',\n",
       "       'VADESI_GECEN_BORC'],\n",
       "      dtype='object')"
      ]
     },
     "execution_count": 333,
     "metadata": {},
     "output_type": "execute_result"
    }
   ],
   "source": [
    "df.columns"
   ]
  }
 ],
 "metadata": {
  "kernelspec": {
   "display_name": "Python 3",
   "language": "python",
   "name": "python3"
  },
  "language_info": {
   "codemirror_mode": {
    "name": "ipython",
    "version": 3
   },
   "file_extension": ".py",
   "mimetype": "text/x-python",
   "name": "python",
   "nbconvert_exporter": "python",
   "pygments_lexer": "ipython3",
   "version": "3.6.5"
  }
 },
 "nbformat": 4,
 "nbformat_minor": 2
}
