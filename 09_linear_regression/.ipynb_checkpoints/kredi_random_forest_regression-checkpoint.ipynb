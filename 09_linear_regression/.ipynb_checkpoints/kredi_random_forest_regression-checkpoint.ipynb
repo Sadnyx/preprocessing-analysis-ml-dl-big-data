{
 "cells": [
  {
   "cell_type": "markdown",
   "metadata": {},
   "source": [
    "## https://scikit-learn.org/stable/user_guide.html"
   ]
  },
  {
   "cell_type": "code",
   "execution_count": 1,
   "metadata": {},
   "outputs": [],
   "source": [
    "import pandas as pd\n",
    "import numpy as np"
   ]
  },
  {
   "cell_type": "code",
   "execution_count": 2,
   "metadata": {},
   "outputs": [],
   "source": [
    "df = pd.read_csv(\"D:/File_Name.csv\")"
   ]
  },
  {
   "cell_type": "markdown",
   "metadata": {},
   "source": [
    "# Veri Keşfi"
   ]
  },
  {
   "cell_type": "code",
   "execution_count": 3,
   "metadata": {
    "scrolled": false
   },
   "outputs": [
    {
     "data": {
      "text/html": [
       "<div>\n",
       "<style scoped>\n",
       "    .dataframe tbody tr th:only-of-type {\n",
       "        vertical-align: middle;\n",
       "    }\n",
       "\n",
       "    .dataframe tbody tr th {\n",
       "        vertical-align: top;\n",
       "    }\n",
       "\n",
       "    .dataframe thead th {\n",
       "        text-align: right;\n",
       "    }\n",
       "</style>\n",
       "<table border=\"1\" class=\"dataframe\">\n",
       "  <thead>\n",
       "    <tr style=\"text-align: right;\">\n",
       "      <th></th>\n",
       "      <th>Unnamed: 0</th>\n",
       "      <th>ORTAK_ID</th>\n",
       "      <th>KURUM_ID</th>\n",
       "      <th>UST_KURUM_NO</th>\n",
       "      <th>YIL</th>\n",
       "      <th>IL_ADI</th>\n",
       "      <th>COGRAFI_BOLGE</th>\n",
       "      <th>SERMAYE</th>\n",
       "      <th>VADESI_GECEN_BORC</th>\n",
       "      <th>TOPLAM_BORC</th>\n",
       "      <th>YILLIK_MIN_GELIR</th>\n",
       "      <th>BAK_YUK_OLDUGU_KISI_SAYISI</th>\n",
       "      <th>CINSIYET</th>\n",
       "      <th>ASKERLIK_DURUMU</th>\n",
       "      <th>OGRENIM_DURUMU</th>\n",
       "      <th>MEDENI_DURUMU</th>\n",
       "      <th>ID</th>\n",
       "    </tr>\n",
       "  </thead>\n",
       "  <tbody>\n",
       "    <tr>\n",
       "      <th>0</th>\n",
       "      <td>0</td>\n",
       "      <td>3101345</td>\n",
       "      <td>1800</td>\n",
       "      <td>B020000</td>\n",
       "      <td>2019</td>\n",
       "      <td>ÇANAKKALE</td>\n",
       "      <td>M</td>\n",
       "      <td>1600.0</td>\n",
       "      <td>NaN</td>\n",
       "      <td>48895.32</td>\n",
       "      <td>29808.0</td>\n",
       "      <td>2.0</td>\n",
       "      <td>E</td>\n",
       "      <td>Y</td>\n",
       "      <td>I</td>\n",
       "      <td>E</td>\n",
       "      <td>898B5BE6802A3D1CE053F20BA8C02872</td>\n",
       "    </tr>\n",
       "    <tr>\n",
       "      <th>1</th>\n",
       "      <td>1</td>\n",
       "      <td>3101345</td>\n",
       "      <td>1800</td>\n",
       "      <td>B020000</td>\n",
       "      <td>2019</td>\n",
       "      <td>ÇANAKKALE</td>\n",
       "      <td>M</td>\n",
       "      <td>1600.0</td>\n",
       "      <td>NaN</td>\n",
       "      <td>48895.32</td>\n",
       "      <td>56432.0</td>\n",
       "      <td>2.0</td>\n",
       "      <td>E</td>\n",
       "      <td>Y</td>\n",
       "      <td>I</td>\n",
       "      <td>E</td>\n",
       "      <td>898B5BE6802C3D1CE053F20BA8C02872</td>\n",
       "    </tr>\n",
       "    <tr>\n",
       "      <th>2</th>\n",
       "      <td>2</td>\n",
       "      <td>3101345</td>\n",
       "      <td>1800</td>\n",
       "      <td>B020000</td>\n",
       "      <td>2019</td>\n",
       "      <td>ÇANAKKALE</td>\n",
       "      <td>M</td>\n",
       "      <td>1600.0</td>\n",
       "      <td>NaN</td>\n",
       "      <td>48895.32</td>\n",
       "      <td>6750.0</td>\n",
       "      <td>2.0</td>\n",
       "      <td>E</td>\n",
       "      <td>Y</td>\n",
       "      <td>I</td>\n",
       "      <td>E</td>\n",
       "      <td>898B5BE6802D3D1CE053F20BA8C02872</td>\n",
       "    </tr>\n",
       "    <tr>\n",
       "      <th>3</th>\n",
       "      <td>3</td>\n",
       "      <td>1414089</td>\n",
       "      <td>516</td>\n",
       "      <td>B070000</td>\n",
       "      <td>2019</td>\n",
       "      <td>AKSARAY</td>\n",
       "      <td>I</td>\n",
       "      <td>1000.0</td>\n",
       "      <td>0.00</td>\n",
       "      <td>23852.07</td>\n",
       "      <td>27000.0</td>\n",
       "      <td>5.0</td>\n",
       "      <td>E</td>\n",
       "      <td>Y</td>\n",
       "      <td>I</td>\n",
       "      <td>E</td>\n",
       "      <td>898B5BE6802F3D1CE053F20BA8C02872</td>\n",
       "    </tr>\n",
       "    <tr>\n",
       "      <th>4</th>\n",
       "      <td>4</td>\n",
       "      <td>3285870</td>\n",
       "      <td>2101</td>\n",
       "      <td>B020000</td>\n",
       "      <td>2019</td>\n",
       "      <td>ÇANAKKALE</td>\n",
       "      <td>M</td>\n",
       "      <td>1300.0</td>\n",
       "      <td>1054.16</td>\n",
       "      <td>69818.71</td>\n",
       "      <td>81552.0</td>\n",
       "      <td>3.0</td>\n",
       "      <td>E</td>\n",
       "      <td>Y</td>\n",
       "      <td>O</td>\n",
       "      <td>E</td>\n",
       "      <td>898B5BE680313D1CE053F20BA8C02872</td>\n",
       "    </tr>\n",
       "  </tbody>\n",
       "</table>\n",
       "</div>"
      ],
      "text/plain": [
       "   Unnamed: 0  ORTAK_ID  KURUM_ID UST_KURUM_NO   YIL     IL_ADI COGRAFI_BOLGE  \\\n",
       "0           0   3101345      1800      B020000  2019  ÇANAKKALE             M   \n",
       "1           1   3101345      1800      B020000  2019  ÇANAKKALE             M   \n",
       "2           2   3101345      1800      B020000  2019  ÇANAKKALE             M   \n",
       "3           3   1414089       516      B070000  2019    AKSARAY             I   \n",
       "4           4   3285870      2101      B020000  2019  ÇANAKKALE             M   \n",
       "\n",
       "   SERMAYE  VADESI_GECEN_BORC  TOPLAM_BORC  YILLIK_MIN_GELIR  \\\n",
       "0   1600.0                NaN     48895.32           29808.0   \n",
       "1   1600.0                NaN     48895.32           56432.0   \n",
       "2   1600.0                NaN     48895.32            6750.0   \n",
       "3   1000.0               0.00     23852.07           27000.0   \n",
       "4   1300.0            1054.16     69818.71           81552.0   \n",
       "\n",
       "   BAK_YUK_OLDUGU_KISI_SAYISI CINSIYET ASKERLIK_DURUMU OGRENIM_DURUMU  \\\n",
       "0                         2.0        E               Y              I   \n",
       "1                         2.0        E               Y              I   \n",
       "2                         2.0        E               Y              I   \n",
       "3                         5.0        E               Y              I   \n",
       "4                         3.0        E               Y              O   \n",
       "\n",
       "  MEDENI_DURUMU                                ID  \n",
       "0             E  898B5BE6802A3D1CE053F20BA8C02872  \n",
       "1             E  898B5BE6802C3D1CE053F20BA8C02872  \n",
       "2             E  898B5BE6802D3D1CE053F20BA8C02872  \n",
       "3             E  898B5BE6802F3D1CE053F20BA8C02872  \n",
       "4             E  898B5BE680313D1CE053F20BA8C02872  "
      ]
     },
     "execution_count": 3,
     "metadata": {},
     "output_type": "execute_result"
    }
   ],
   "source": [
    "df.head()"
   ]
  },
  {
   "cell_type": "code",
   "execution_count": 4,
   "metadata": {},
   "outputs": [
    {
     "data": {
      "text/plain": [
       "1082934"
      ]
     },
     "execution_count": 4,
     "metadata": {},
     "output_type": "execute_result"
    }
   ],
   "source": [
    "len(df)"
   ]
  },
  {
   "cell_type": "code",
   "execution_count": 5,
   "metadata": {},
   "outputs": [
    {
     "name": "stdout",
     "output_type": "stream",
     "text": [
      "<class 'pandas.core.frame.DataFrame'>\n",
      "RangeIndex: 1082934 entries, 0 to 1082933\n",
      "Data columns (total 17 columns):\n",
      "Unnamed: 0                    1082934 non-null int64\n",
      "ORTAK_ID                      1082934 non-null int64\n",
      "KURUM_ID                      1082934 non-null int64\n",
      "UST_KURUM_NO                  1082934 non-null object\n",
      "YIL                           1082934 non-null int64\n",
      "IL_ADI                        1082934 non-null object\n",
      "COGRAFI_BOLGE                 1082934 non-null object\n",
      "SERMAYE                       1082934 non-null float64\n",
      "VADESI_GECEN_BORC             472941 non-null float64\n",
      "TOPLAM_BORC                   1076692 non-null float64\n",
      "YILLIK_MIN_GELIR              1082159 non-null float64\n",
      "BAK_YUK_OLDUGU_KISI_SAYISI    525914 non-null float64\n",
      "CINSIYET                      1082934 non-null object\n",
      "ASKERLIK_DURUMU               1042204 non-null object\n",
      "OGRENIM_DURUMU                1082934 non-null object\n",
      "MEDENI_DURUMU                 1082934 non-null object\n",
      "ID                            1082934 non-null object\n",
      "dtypes: float64(5), int64(4), object(8)\n",
      "memory usage: 140.5+ MB\n"
     ]
    }
   ],
   "source": [
    "df.info()"
   ]
  },
  {
   "cell_type": "code",
   "execution_count": 6,
   "metadata": {},
   "outputs": [],
   "source": [
    "# VADESI_GECEN_BORC boş ( NaN olanlara 0 atadık)\n",
    "# TOPLAM_BORC boş\n",
    "# YILLIK_MIN_GELIR boş\n",
    "# BAK_YUK_OLDUGU_KISI_SAYISI boş\n",
    "# ASKERLIK_DURUMU boş\n",
    "# "
   ]
  },
  {
   "cell_type": "code",
   "execution_count": 7,
   "metadata": {},
   "outputs": [
    {
     "data": {
      "text/html": [
       "<div>\n",
       "<style scoped>\n",
       "    .dataframe tbody tr th:only-of-type {\n",
       "        vertical-align: middle;\n",
       "    }\n",
       "\n",
       "    .dataframe tbody tr th {\n",
       "        vertical-align: top;\n",
       "    }\n",
       "\n",
       "    .dataframe thead th {\n",
       "        text-align: right;\n",
       "    }\n",
       "</style>\n",
       "<table border=\"1\" class=\"dataframe\">\n",
       "  <thead>\n",
       "    <tr style=\"text-align: right;\">\n",
       "      <th></th>\n",
       "      <th>Unnamed: 0</th>\n",
       "      <th>ORTAK_ID</th>\n",
       "      <th>KURUM_ID</th>\n",
       "      <th>YIL</th>\n",
       "      <th>SERMAYE</th>\n",
       "      <th>VADESI_GECEN_BORC</th>\n",
       "      <th>TOPLAM_BORC</th>\n",
       "      <th>YILLIK_MIN_GELIR</th>\n",
       "      <th>BAK_YUK_OLDUGU_KISI_SAYISI</th>\n",
       "    </tr>\n",
       "  </thead>\n",
       "  <tbody>\n",
       "    <tr>\n",
       "      <th>count</th>\n",
       "      <td>1.082934e+06</td>\n",
       "      <td>1.082934e+06</td>\n",
       "      <td>1.082934e+06</td>\n",
       "      <td>1082934.0</td>\n",
       "      <td>1.082934e+06</td>\n",
       "      <td>4.729410e+05</td>\n",
       "      <td>1.076692e+06</td>\n",
       "      <td>1.082159e+06</td>\n",
       "      <td>525914.000000</td>\n",
       "    </tr>\n",
       "    <tr>\n",
       "      <th>mean</th>\n",
       "      <td>5.414665e+05</td>\n",
       "      <td>1.845919e+06</td>\n",
       "      <td>1.306648e+03</td>\n",
       "      <td>2019.0</td>\n",
       "      <td>1.463034e+03</td>\n",
       "      <td>2.474163e+04</td>\n",
       "      <td>1.001674e+05</td>\n",
       "      <td>1.099001e+06</td>\n",
       "      <td>4.257074</td>\n",
       "    </tr>\n",
       "    <tr>\n",
       "      <th>std</th>\n",
       "      <td>3.126163e+05</td>\n",
       "      <td>1.209642e+06</td>\n",
       "      <td>7.713731e+02</td>\n",
       "      <td>0.0</td>\n",
       "      <td>1.239292e+03</td>\n",
       "      <td>8.709293e+04</td>\n",
       "      <td>1.381021e+05</td>\n",
       "      <td>6.138446e+08</td>\n",
       "      <td>1.800734</td>\n",
       "    </tr>\n",
       "    <tr>\n",
       "      <th>min</th>\n",
       "      <td>0.000000e+00</td>\n",
       "      <td>3.879000e+03</td>\n",
       "      <td>1.000000e+00</td>\n",
       "      <td>2019.0</td>\n",
       "      <td>0.000000e+00</td>\n",
       "      <td>-2.097000e+03</td>\n",
       "      <td>-2.097000e+03</td>\n",
       "      <td>0.000000e+00</td>\n",
       "      <td>0.000000</td>\n",
       "    </tr>\n",
       "    <tr>\n",
       "      <th>25%</th>\n",
       "      <td>2.707332e+05</td>\n",
       "      <td>7.595440e+05</td>\n",
       "      <td>6.250000e+02</td>\n",
       "      <td>2019.0</td>\n",
       "      <td>8.000000e+02</td>\n",
       "      <td>0.000000e+00</td>\n",
       "      <td>2.743972e+04</td>\n",
       "      <td>1.579500e+04</td>\n",
       "      <td>3.000000</td>\n",
       "    </tr>\n",
       "    <tr>\n",
       "      <th>50%</th>\n",
       "      <td>5.414665e+05</td>\n",
       "      <td>1.573023e+06</td>\n",
       "      <td>1.362000e+03</td>\n",
       "      <td>2019.0</td>\n",
       "      <td>1.000000e+03</td>\n",
       "      <td>0.000000e+00</td>\n",
       "      <td>5.888711e+04</td>\n",
       "      <td>3.210000e+04</td>\n",
       "      <td>4.000000</td>\n",
       "    </tr>\n",
       "    <tr>\n",
       "      <th>75%</th>\n",
       "      <td>8.121998e+05</td>\n",
       "      <td>3.128753e+06</td>\n",
       "      <td>1.961000e+03</td>\n",
       "      <td>2019.0</td>\n",
       "      <td>1.800000e+03</td>\n",
       "      <td>9.379890e+03</td>\n",
       "      <td>1.198723e+05</td>\n",
       "      <td>6.713600e+04</td>\n",
       "      <td>5.000000</td>\n",
       "    </tr>\n",
       "    <tr>\n",
       "      <th>max</th>\n",
       "      <td>1.082933e+06</td>\n",
       "      <td>3.707331e+06</td>\n",
       "      <td>5.442000e+03</td>\n",
       "      <td>2019.0</td>\n",
       "      <td>5.000000e+04</td>\n",
       "      <td>6.748045e+06</td>\n",
       "      <td>7.607561e+06</td>\n",
       "      <td>6.000001e+11</td>\n",
       "      <td>85.000000</td>\n",
       "    </tr>\n",
       "  </tbody>\n",
       "</table>\n",
       "</div>"
      ],
      "text/plain": [
       "         Unnamed: 0      ORTAK_ID      KURUM_ID        YIL       SERMAYE  \\\n",
       "count  1.082934e+06  1.082934e+06  1.082934e+06  1082934.0  1.082934e+06   \n",
       "mean   5.414665e+05  1.845919e+06  1.306648e+03     2019.0  1.463034e+03   \n",
       "std    3.126163e+05  1.209642e+06  7.713731e+02        0.0  1.239292e+03   \n",
       "min    0.000000e+00  3.879000e+03  1.000000e+00     2019.0  0.000000e+00   \n",
       "25%    2.707332e+05  7.595440e+05  6.250000e+02     2019.0  8.000000e+02   \n",
       "50%    5.414665e+05  1.573023e+06  1.362000e+03     2019.0  1.000000e+03   \n",
       "75%    8.121998e+05  3.128753e+06  1.961000e+03     2019.0  1.800000e+03   \n",
       "max    1.082933e+06  3.707331e+06  5.442000e+03     2019.0  5.000000e+04   \n",
       "\n",
       "       VADESI_GECEN_BORC   TOPLAM_BORC  YILLIK_MIN_GELIR  \\\n",
       "count       4.729410e+05  1.076692e+06      1.082159e+06   \n",
       "mean        2.474163e+04  1.001674e+05      1.099001e+06   \n",
       "std         8.709293e+04  1.381021e+05      6.138446e+08   \n",
       "min        -2.097000e+03 -2.097000e+03      0.000000e+00   \n",
       "25%         0.000000e+00  2.743972e+04      1.579500e+04   \n",
       "50%         0.000000e+00  5.888711e+04      3.210000e+04   \n",
       "75%         9.379890e+03  1.198723e+05      6.713600e+04   \n",
       "max         6.748045e+06  7.607561e+06      6.000001e+11   \n",
       "\n",
       "       BAK_YUK_OLDUGU_KISI_SAYISI  \n",
       "count               525914.000000  \n",
       "mean                     4.257074  \n",
       "std                      1.800734  \n",
       "min                      0.000000  \n",
       "25%                      3.000000  \n",
       "50%                      4.000000  \n",
       "75%                      5.000000  \n",
       "max                     85.000000  "
      ]
     },
     "execution_count": 7,
     "metadata": {},
     "output_type": "execute_result"
    }
   ],
   "source": [
    "df.describe()"
   ]
  },
  {
   "cell_type": "code",
   "execution_count": 8,
   "metadata": {},
   "outputs": [],
   "source": [
    "# TOPLAM_BORC, VADESI_GECEN_BORC içinde eksi değer gördük. İş bilgisine göre bunun olmaması gerekir.\n",
    "# Bu bir satır olduğu için silme kararı aldık."
   ]
  },
  {
   "cell_type": "code",
   "execution_count": 9,
   "metadata": {},
   "outputs": [
    {
     "data": {
      "text/html": [
       "<div>\n",
       "<style scoped>\n",
       "    .dataframe tbody tr th:only-of-type {\n",
       "        vertical-align: middle;\n",
       "    }\n",
       "\n",
       "    .dataframe tbody tr th {\n",
       "        vertical-align: top;\n",
       "    }\n",
       "\n",
       "    .dataframe thead th {\n",
       "        text-align: right;\n",
       "    }\n",
       "</style>\n",
       "<table border=\"1\" class=\"dataframe\">\n",
       "  <thead>\n",
       "    <tr style=\"text-align: right;\">\n",
       "      <th></th>\n",
       "      <th>Unnamed: 0</th>\n",
       "      <th>ORTAK_ID</th>\n",
       "      <th>KURUM_ID</th>\n",
       "      <th>UST_KURUM_NO</th>\n",
       "      <th>YIL</th>\n",
       "      <th>IL_ADI</th>\n",
       "      <th>COGRAFI_BOLGE</th>\n",
       "      <th>SERMAYE</th>\n",
       "      <th>VADESI_GECEN_BORC</th>\n",
       "      <th>TOPLAM_BORC</th>\n",
       "      <th>YILLIK_MIN_GELIR</th>\n",
       "      <th>BAK_YUK_OLDUGU_KISI_SAYISI</th>\n",
       "      <th>CINSIYET</th>\n",
       "      <th>ASKERLIK_DURUMU</th>\n",
       "      <th>OGRENIM_DURUMU</th>\n",
       "      <th>MEDENI_DURUMU</th>\n",
       "      <th>ID</th>\n",
       "    </tr>\n",
       "  </thead>\n",
       "  <tbody>\n",
       "    <tr>\n",
       "      <th>1044672</th>\n",
       "      <td>1044672</td>\n",
       "      <td>1656872</td>\n",
       "      <td>748</td>\n",
       "      <td>B130000</td>\n",
       "      <td>2019</td>\n",
       "      <td>ERZURUM</td>\n",
       "      <td>D</td>\n",
       "      <td>0.0</td>\n",
       "      <td>-2097.0</td>\n",
       "      <td>-2097.0</td>\n",
       "      <td>0.0</td>\n",
       "      <td>NaN</td>\n",
       "      <td>E</td>\n",
       "      <td>M</td>\n",
       "      <td>I</td>\n",
       "      <td>E</td>\n",
       "      <td>898B5C8E8CB73D1CE053F20BA8C02872</td>\n",
       "    </tr>\n",
       "  </tbody>\n",
       "</table>\n",
       "</div>"
      ],
      "text/plain": [
       "         Unnamed: 0  ORTAK_ID  KURUM_ID UST_KURUM_NO   YIL   IL_ADI  \\\n",
       "1044672     1044672   1656872       748      B130000  2019  ERZURUM   \n",
       "\n",
       "        COGRAFI_BOLGE  SERMAYE  VADESI_GECEN_BORC  TOPLAM_BORC  \\\n",
       "1044672             D      0.0            -2097.0      -2097.0   \n",
       "\n",
       "         YILLIK_MIN_GELIR  BAK_YUK_OLDUGU_KISI_SAYISI CINSIYET  \\\n",
       "1044672               0.0                         NaN        E   \n",
       "\n",
       "        ASKERLIK_DURUMU OGRENIM_DURUMU MEDENI_DURUMU  \\\n",
       "1044672               M              I             E   \n",
       "\n",
       "                                       ID  \n",
       "1044672  898B5C8E8CB73D1CE053F20BA8C02872  "
      ]
     },
     "execution_count": 9,
     "metadata": {},
     "output_type": "execute_result"
    }
   ],
   "source": [
    "df[ df['TOPLAM_BORC'] < 0.0 ].head()"
   ]
  },
  {
   "cell_type": "code",
   "execution_count": 10,
   "metadata": {},
   "outputs": [],
   "source": [
    "# 1044672 satır indeksli kaydı silme\n",
    "df.drop([1044672], axis=0, inplace=True)"
   ]
  },
  {
   "cell_type": "code",
   "execution_count": 11,
   "metadata": {},
   "outputs": [
    {
     "data": {
      "text/html": [
       "<div>\n",
       "<style scoped>\n",
       "    .dataframe tbody tr th:only-of-type {\n",
       "        vertical-align: middle;\n",
       "    }\n",
       "\n",
       "    .dataframe tbody tr th {\n",
       "        vertical-align: top;\n",
       "    }\n",
       "\n",
       "    .dataframe thead th {\n",
       "        text-align: right;\n",
       "    }\n",
       "</style>\n",
       "<table border=\"1\" class=\"dataframe\">\n",
       "  <thead>\n",
       "    <tr style=\"text-align: right;\">\n",
       "      <th></th>\n",
       "      <th>Unnamed: 0</th>\n",
       "      <th>ORTAK_ID</th>\n",
       "      <th>KURUM_ID</th>\n",
       "      <th>UST_KURUM_NO</th>\n",
       "      <th>YIL</th>\n",
       "      <th>IL_ADI</th>\n",
       "      <th>COGRAFI_BOLGE</th>\n",
       "      <th>SERMAYE</th>\n",
       "      <th>VADESI_GECEN_BORC</th>\n",
       "      <th>TOPLAM_BORC</th>\n",
       "      <th>YILLIK_MIN_GELIR</th>\n",
       "      <th>BAK_YUK_OLDUGU_KISI_SAYISI</th>\n",
       "      <th>CINSIYET</th>\n",
       "      <th>ASKERLIK_DURUMU</th>\n",
       "      <th>OGRENIM_DURUMU</th>\n",
       "      <th>MEDENI_DURUMU</th>\n",
       "      <th>ID</th>\n",
       "    </tr>\n",
       "  </thead>\n",
       "  <tbody>\n",
       "  </tbody>\n",
       "</table>\n",
       "</div>"
      ],
      "text/plain": [
       "Empty DataFrame\n",
       "Columns: [Unnamed: 0, ORTAK_ID, KURUM_ID, UST_KURUM_NO, YIL, IL_ADI, COGRAFI_BOLGE, SERMAYE, VADESI_GECEN_BORC, TOPLAM_BORC, YILLIK_MIN_GELIR, BAK_YUK_OLDUGU_KISI_SAYISI, CINSIYET, ASKERLIK_DURUMU, OGRENIM_DURUMU, MEDENI_DURUMU, ID]\n",
       "Index: []"
      ]
     },
     "execution_count": 11,
     "metadata": {},
     "output_type": "execute_result"
    }
   ],
   "source": [
    "df[ df['TOPLAM_BORC'] < 0.0 ].head()"
   ]
  },
  {
   "cell_type": "markdown",
   "metadata": {},
   "source": [
    "# 1.VADESI_GECEN_BORC"
   ]
  },
  {
   "cell_type": "code",
   "execution_count": 12,
   "metadata": {},
   "outputs": [],
   "source": [
    "# VADESI_GECEN_BORC NaN  ise bunlara 0 değeri atayalım. "
   ]
  },
  {
   "cell_type": "code",
   "execution_count": 13,
   "metadata": {},
   "outputs": [
    {
     "data": {
      "text/plain": [
       "609993"
      ]
     },
     "execution_count": 13,
     "metadata": {},
     "output_type": "execute_result"
    }
   ],
   "source": [
    "# Acaba ne kadar boş NaN değer var\n",
    "len(df[df['VADESI_GECEN_BORC'].isnull() ])"
   ]
  },
  {
   "cell_type": "code",
   "execution_count": 14,
   "metadata": {},
   "outputs": [],
   "source": [
    "# NaN olanları 0 yapalım (güncelleyelim)\n",
    "df.loc[df['VADESI_GECEN_BORC'].isnull(), 'VADESI_GECEN_BORC'] = 0.0"
   ]
  },
  {
   "cell_type": "code",
   "execution_count": 15,
   "metadata": {},
   "outputs": [
    {
     "data": {
      "text/plain": [
       "0"
      ]
     },
     "execution_count": 15,
     "metadata": {},
     "output_type": "execute_result"
    }
   ],
   "source": [
    "len(df[df['VADESI_GECEN_BORC'].isnull() ])"
   ]
  },
  {
   "cell_type": "code",
   "execution_count": 16,
   "metadata": {},
   "outputs": [
    {
     "data": {
      "text/plain": [
       "870525"
      ]
     },
     "execution_count": 16,
     "metadata": {},
     "output_type": "execute_result"
    }
   ],
   "source": [
    "# Acaba kaç kişi borç takmamış \n",
    "len(df[df['VADESI_GECEN_BORC'] == 0.0 ])"
   ]
  },
  {
   "cell_type": "code",
   "execution_count": 17,
   "metadata": {},
   "outputs": [
    {
     "name": "stdout",
     "output_type": "stream",
     "text": [
      "<class 'pandas.core.frame.DataFrame'>\n",
      "Int64Index: 1082933 entries, 0 to 1082933\n",
      "Data columns (total 17 columns):\n",
      "Unnamed: 0                    1082933 non-null int64\n",
      "ORTAK_ID                      1082933 non-null int64\n",
      "KURUM_ID                      1082933 non-null int64\n",
      "UST_KURUM_NO                  1082933 non-null object\n",
      "YIL                           1082933 non-null int64\n",
      "IL_ADI                        1082933 non-null object\n",
      "COGRAFI_BOLGE                 1082933 non-null object\n",
      "SERMAYE                       1082933 non-null float64\n",
      "VADESI_GECEN_BORC             1082933 non-null float64\n",
      "TOPLAM_BORC                   1076691 non-null float64\n",
      "YILLIK_MIN_GELIR              1082158 non-null float64\n",
      "BAK_YUK_OLDUGU_KISI_SAYISI    525914 non-null float64\n",
      "CINSIYET                      1082933 non-null object\n",
      "ASKERLIK_DURUMU               1042203 non-null object\n",
      "OGRENIM_DURUMU                1082933 non-null object\n",
      "MEDENI_DURUMU                 1082933 non-null object\n",
      "ID                            1082933 non-null object\n",
      "dtypes: float64(5), int64(4), object(8)\n",
      "memory usage: 148.7+ MB\n"
     ]
    }
   ],
   "source": [
    "df.info()"
   ]
  },
  {
   "cell_type": "markdown",
   "metadata": {},
   "source": [
    "# 2. TOPLAM_BORC"
   ]
  },
  {
   "cell_type": "code",
   "execution_count": 18,
   "metadata": {},
   "outputs": [],
   "source": [
    "# NaN olanları 0 yapalım (güncelleyelim)\n",
    "df.loc[df['TOPLAM_BORC'].isnull(), 'TOPLAM_BORC'] = 0.0"
   ]
  },
  {
   "cell_type": "code",
   "execution_count": 19,
   "metadata": {},
   "outputs": [
    {
     "data": {
      "text/plain": [
       "0"
      ]
     },
     "execution_count": 19,
     "metadata": {},
     "output_type": "execute_result"
    }
   ],
   "source": [
    "len(df[df['TOPLAM_BORC'].isnull() ])"
   ]
  },
  {
   "cell_type": "markdown",
   "metadata": {},
   "source": [
    "# 3. YILLIK_MIN_GELIR"
   ]
  },
  {
   "cell_type": "code",
   "execution_count": 20,
   "metadata": {},
   "outputs": [
    {
     "data": {
      "text/plain": [
       "775"
      ]
     },
     "execution_count": 20,
     "metadata": {},
     "output_type": "execute_result"
    }
   ],
   "source": [
    "len(df[df['YILLIK_MIN_GELIR'].isnull() ])"
   ]
  },
  {
   "cell_type": "code",
   "execution_count": 21,
   "metadata": {},
   "outputs": [
    {
     "data": {
      "text/plain": [
       "1703"
      ]
     },
     "execution_count": 21,
     "metadata": {},
     "output_type": "execute_result"
    }
   ],
   "source": [
    "len(df[df['YILLIK_MIN_GELIR'] == 0.0 ])"
   ]
  },
  {
   "cell_type": "code",
   "execution_count": 22,
   "metadata": {},
   "outputs": [],
   "source": [
    "# null ve 0 olanları tamamen silmek gerekir. İş bilgisi bunu söylüyor."
   ]
  },
  {
   "cell_type": "code",
   "execution_count": 23,
   "metadata": {},
   "outputs": [],
   "source": [
    "df = df.loc[ (df['YILLIK_MIN_GELIR'] != 0.0) & (df['YILLIK_MIN_GELIR'].notnull()) ]"
   ]
  },
  {
   "cell_type": "code",
   "execution_count": 24,
   "metadata": {},
   "outputs": [
    {
     "data": {
      "text/plain": [
       "1080455"
      ]
     },
     "execution_count": 24,
     "metadata": {},
     "output_type": "execute_result"
    }
   ],
   "source": [
    "len(df)"
   ]
  },
  {
   "cell_type": "markdown",
   "metadata": {},
   "source": [
    "# 4. BAK_YUK_OLDUGU_KISI_SAYISI"
   ]
  },
  {
   "cell_type": "code",
   "execution_count": 25,
   "metadata": {},
   "outputs": [
    {
     "data": {
      "text/plain": [
       "554926"
      ]
     },
     "execution_count": 25,
     "metadata": {},
     "output_type": "execute_result"
    }
   ],
   "source": [
    "len(df[df['BAK_YUK_OLDUGU_KISI_SAYISI'].isnull() ])"
   ]
  },
  {
   "cell_type": "code",
   "execution_count": 26,
   "metadata": {},
   "outputs": [],
   "source": [
    "# NaN olanları 0 yapalım (güncelleyelim)\n",
    "df.loc[df['BAK_YUK_OLDUGU_KISI_SAYISI'].isnull(), 'BAK_YUK_OLDUGU_KISI_SAYISI'] = 0.0"
   ]
  },
  {
   "cell_type": "markdown",
   "metadata": {},
   "source": [
    "# 5. ASKERLIK_DURUMU"
   ]
  },
  {
   "cell_type": "code",
   "execution_count": 27,
   "metadata": {},
   "outputs": [
    {
     "data": {
      "text/html": [
       "<div>\n",
       "<style scoped>\n",
       "    .dataframe tbody tr th:only-of-type {\n",
       "        vertical-align: middle;\n",
       "    }\n",
       "\n",
       "    .dataframe tbody tr th {\n",
       "        vertical-align: top;\n",
       "    }\n",
       "\n",
       "    .dataframe thead th {\n",
       "        text-align: right;\n",
       "    }\n",
       "</style>\n",
       "<table border=\"1\" class=\"dataframe\">\n",
       "  <thead>\n",
       "    <tr style=\"text-align: right;\">\n",
       "      <th></th>\n",
       "      <th>count</th>\n",
       "    </tr>\n",
       "    <tr>\n",
       "      <th>ASKERLIK_DURUMU</th>\n",
       "      <th></th>\n",
       "    </tr>\n",
       "  </thead>\n",
       "  <tbody>\n",
       "    <tr>\n",
       "      <th>M</th>\n",
       "      <td>39092</td>\n",
       "    </tr>\n",
       "    <tr>\n",
       "      <th>P</th>\n",
       "      <td>6812</td>\n",
       "    </tr>\n",
       "    <tr>\n",
       "      <th>R</th>\n",
       "      <td>60</td>\n",
       "    </tr>\n",
       "    <tr>\n",
       "      <th>T</th>\n",
       "      <td>1268</td>\n",
       "    </tr>\n",
       "    <tr>\n",
       "      <th>Y</th>\n",
       "      <td>992670</td>\n",
       "    </tr>\n",
       "  </tbody>\n",
       "</table>\n",
       "</div>"
      ],
      "text/plain": [
       "                  count\n",
       "ASKERLIK_DURUMU        \n",
       "M                 39092\n",
       "P                  6812\n",
       "R                    60\n",
       "T                  1268\n",
       "Y                992670"
      ]
     },
     "execution_count": 27,
     "metadata": {},
     "output_type": "execute_result"
    }
   ],
   "source": [
    "df.groupby(['ASKERLIK_DURUMU']).ID \\\n",
    ".agg(['count']) \\\n",
    ".head(10)"
   ]
  },
  {
   "cell_type": "code",
   "execution_count": 28,
   "metadata": {},
   "outputs": [
    {
     "data": {
      "text/plain": [
       "40553"
      ]
     },
     "execution_count": 28,
     "metadata": {},
     "output_type": "execute_result"
    }
   ],
   "source": [
    "len(df[df['ASKERLIK_DURUMU'].isnull() ])"
   ]
  },
  {
   "cell_type": "code",
   "execution_count": 29,
   "metadata": {},
   "outputs": [],
   "source": [
    "# NaN olanları Bilinmiyor anlamında 'B' yapalım (güncelleyelim)\n",
    "df.loc[ df['ASKERLIK_DURUMU'].isnull(), 'ASKERLIK_DURUMU' ] = 'B'"
   ]
  },
  {
   "cell_type": "markdown",
   "metadata": {},
   "source": [
    "# Analize dahil edilmeyecek nitelikleri çıkaralım"
   ]
  },
  {
   "cell_type": "code",
   "execution_count": 30,
   "metadata": {},
   "outputs": [
    {
     "data": {
      "text/plain": [
       "Index(['Unnamed: 0', 'ORTAK_ID', 'KURUM_ID', 'UST_KURUM_NO', 'YIL', 'IL_ADI',\n",
       "       'COGRAFI_BOLGE', 'SERMAYE', 'VADESI_GECEN_BORC', 'TOPLAM_BORC',\n",
       "       'YILLIK_MIN_GELIR', 'BAK_YUK_OLDUGU_KISI_SAYISI', 'CINSIYET',\n",
       "       'ASKERLIK_DURUMU', 'OGRENIM_DURUMU', 'MEDENI_DURUMU', 'ID'],\n",
       "      dtype='object')"
      ]
     },
     "execution_count": 30,
     "metadata": {},
     "output_type": "execute_result"
    }
   ],
   "source": [
    "df.columns"
   ]
  },
  {
   "cell_type": "code",
   "execution_count": 31,
   "metadata": {},
   "outputs": [
    {
     "data": {
      "text/plain": [
       "['YILLIK_MIN_GELIR',\n",
       " 'BAK_YUK_OLDUGU_KISI_SAYISI',\n",
       " 'SERMAYE',\n",
       " 'MEDENI_DURUMU',\n",
       " 'UST_KURUM_NO',\n",
       " 'ASKERLIK_DURUMU',\n",
       " 'COGRAFI_BOLGE',\n",
       " 'CINSIYET',\n",
       " 'VADESI_GECEN_BORC',\n",
       " 'OGRENIM_DURUMU',\n",
       " 'TOPLAM_BORC']"
      ]
     },
     "execution_count": 31,
     "metadata": {},
     "output_type": "execute_result"
    }
   ],
   "source": [
    "analize_girmeyecekler = ['Unnamed: 0', 'ORTAK_ID', 'KURUM_ID', 'YIL', 'IL_ADI', 'ID']\n",
    "analize_girecekler = list(  set(df.columns).difference(set(analize_girmeyecekler))   )\n",
    "analize_girecekler"
   ]
  },
  {
   "cell_type": "code",
   "execution_count": 32,
   "metadata": {},
   "outputs": [
    {
     "data": {
      "text/html": [
       "<div>\n",
       "<style scoped>\n",
       "    .dataframe tbody tr th:only-of-type {\n",
       "        vertical-align: middle;\n",
       "    }\n",
       "\n",
       "    .dataframe tbody tr th {\n",
       "        vertical-align: top;\n",
       "    }\n",
       "\n",
       "    .dataframe thead th {\n",
       "        text-align: right;\n",
       "    }\n",
       "</style>\n",
       "<table border=\"1\" class=\"dataframe\">\n",
       "  <thead>\n",
       "    <tr style=\"text-align: right;\">\n",
       "      <th></th>\n",
       "      <th>YILLIK_MIN_GELIR</th>\n",
       "      <th>BAK_YUK_OLDUGU_KISI_SAYISI</th>\n",
       "      <th>SERMAYE</th>\n",
       "      <th>MEDENI_DURUMU</th>\n",
       "      <th>UST_KURUM_NO</th>\n",
       "      <th>ASKERLIK_DURUMU</th>\n",
       "      <th>COGRAFI_BOLGE</th>\n",
       "      <th>CINSIYET</th>\n",
       "      <th>VADESI_GECEN_BORC</th>\n",
       "      <th>OGRENIM_DURUMU</th>\n",
       "      <th>TOPLAM_BORC</th>\n",
       "    </tr>\n",
       "  </thead>\n",
       "  <tbody>\n",
       "    <tr>\n",
       "      <th>0</th>\n",
       "      <td>29808.0</td>\n",
       "      <td>2.0</td>\n",
       "      <td>1600.0</td>\n",
       "      <td>E</td>\n",
       "      <td>B020000</td>\n",
       "      <td>Y</td>\n",
       "      <td>M</td>\n",
       "      <td>E</td>\n",
       "      <td>0.00</td>\n",
       "      <td>I</td>\n",
       "      <td>48895.32</td>\n",
       "    </tr>\n",
       "    <tr>\n",
       "      <th>1</th>\n",
       "      <td>56432.0</td>\n",
       "      <td>2.0</td>\n",
       "      <td>1600.0</td>\n",
       "      <td>E</td>\n",
       "      <td>B020000</td>\n",
       "      <td>Y</td>\n",
       "      <td>M</td>\n",
       "      <td>E</td>\n",
       "      <td>0.00</td>\n",
       "      <td>I</td>\n",
       "      <td>48895.32</td>\n",
       "    </tr>\n",
       "    <tr>\n",
       "      <th>2</th>\n",
       "      <td>6750.0</td>\n",
       "      <td>2.0</td>\n",
       "      <td>1600.0</td>\n",
       "      <td>E</td>\n",
       "      <td>B020000</td>\n",
       "      <td>Y</td>\n",
       "      <td>M</td>\n",
       "      <td>E</td>\n",
       "      <td>0.00</td>\n",
       "      <td>I</td>\n",
       "      <td>48895.32</td>\n",
       "    </tr>\n",
       "    <tr>\n",
       "      <th>3</th>\n",
       "      <td>27000.0</td>\n",
       "      <td>5.0</td>\n",
       "      <td>1000.0</td>\n",
       "      <td>E</td>\n",
       "      <td>B070000</td>\n",
       "      <td>Y</td>\n",
       "      <td>I</td>\n",
       "      <td>E</td>\n",
       "      <td>0.00</td>\n",
       "      <td>I</td>\n",
       "      <td>23852.07</td>\n",
       "    </tr>\n",
       "    <tr>\n",
       "      <th>4</th>\n",
       "      <td>81552.0</td>\n",
       "      <td>3.0</td>\n",
       "      <td>1300.0</td>\n",
       "      <td>E</td>\n",
       "      <td>B020000</td>\n",
       "      <td>Y</td>\n",
       "      <td>M</td>\n",
       "      <td>E</td>\n",
       "      <td>1054.16</td>\n",
       "      <td>O</td>\n",
       "      <td>69818.71</td>\n",
       "    </tr>\n",
       "  </tbody>\n",
       "</table>\n",
       "</div>"
      ],
      "text/plain": [
       "   YILLIK_MIN_GELIR  BAK_YUK_OLDUGU_KISI_SAYISI  SERMAYE MEDENI_DURUMU  \\\n",
       "0           29808.0                         2.0   1600.0             E   \n",
       "1           56432.0                         2.0   1600.0             E   \n",
       "2            6750.0                         2.0   1600.0             E   \n",
       "3           27000.0                         5.0   1000.0             E   \n",
       "4           81552.0                         3.0   1300.0             E   \n",
       "\n",
       "  UST_KURUM_NO ASKERLIK_DURUMU COGRAFI_BOLGE CINSIYET  VADESI_GECEN_BORC  \\\n",
       "0      B020000               Y             M        E               0.00   \n",
       "1      B020000               Y             M        E               0.00   \n",
       "2      B020000               Y             M        E               0.00   \n",
       "3      B070000               Y             I        E               0.00   \n",
       "4      B020000               Y             M        E            1054.16   \n",
       "\n",
       "  OGRENIM_DURUMU  TOPLAM_BORC  \n",
       "0              I     48895.32  \n",
       "1              I     48895.32  \n",
       "2              I     48895.32  \n",
       "3              I     23852.07  \n",
       "4              O     69818.71  "
      ]
     },
     "execution_count": 32,
     "metadata": {},
     "output_type": "execute_result"
    }
   ],
   "source": [
    "df[analize_girecekler].head()"
   ]
  },
  {
   "cell_type": "markdown",
   "metadata": {},
   "source": [
    "# Analize girecek kategorik değişkenlerimiz"
   ]
  },
  {
   "cell_type": "code",
   "execution_count": 33,
   "metadata": {},
   "outputs": [
    {
     "name": "stdout",
     "output_type": "stream",
     "text": [
      "MEDENI_DURUMU\n",
      "UST_KURUM_NO\n",
      "ASKERLIK_DURUMU\n",
      "COGRAFI_BOLGE\n",
      "CINSIYET\n",
      "OGRENIM_DURUMU\n"
     ]
    },
    {
     "data": {
      "text/plain": [
       "['MEDENI_DURUMU',\n",
       " 'UST_KURUM_NO',\n",
       " 'ASKERLIK_DURUMU',\n",
       " 'COGRAFI_BOLGE',\n",
       " 'CINSIYET',\n",
       " 'OGRENIM_DURUMU']"
      ]
     },
     "execution_count": 33,
     "metadata": {},
     "output_type": "execute_result"
    }
   ],
   "source": [
    "analize_girecek_kategorikler = []\n",
    "for i in analize_girecekler:\n",
    "    if (df[i].dtypes == 'object'):\n",
    "        print(i)\n",
    "        analize_girecek_kategorikler.append(i)\n",
    "analize_girecek_kategorikler"
   ]
  },
  {
   "cell_type": "code",
   "execution_count": 34,
   "metadata": {},
   "outputs": [
    {
     "name": "stdout",
     "output_type": "stream",
     "text": [
      "UST_KURUM_NO: 17\n",
      "COGRAFI_BOLGE: 7\n",
      "CINSIYET: 2\n",
      "ASKERLIK_DURUMU: 6\n",
      "OGRENIM_DURUMU: 7\n",
      "MEDENI_DURUMU: 6\n"
     ]
    }
   ],
   "source": [
    "# Her kategorik değişken için kaç farklı tekil kategori var \n",
    "print(\"UST_KURUM_NO:\",len(df['UST_KURUM_NO'].unique()))\n",
    "print(\"COGRAFI_BOLGE:\",len(df['COGRAFI_BOLGE'].unique()))\n",
    "print(\"CINSIYET:\",len(df['CINSIYET'].unique()))\n",
    "print(\"ASKERLIK_DURUMU:\",len(df['ASKERLIK_DURUMU'].unique()))\n",
    "print(\"OGRENIM_DURUMU:\",len(df['OGRENIM_DURUMU'].unique()))\n",
    "print(\"MEDENI_DURUMU:\",len(df['MEDENI_DURUMU'].unique()))\n",
    "# Aşırı kategori istenmez mümkünse her bir kategorik nitelik 10-15 ten fazla "
   ]
  },
  {
   "cell_type": "code",
   "execution_count": 35,
   "metadata": {},
   "outputs": [
    {
     "data": {
      "text/html": [
       "<div>\n",
       "<style scoped>\n",
       "    .dataframe tbody tr th:only-of-type {\n",
       "        vertical-align: middle;\n",
       "    }\n",
       "\n",
       "    .dataframe tbody tr th {\n",
       "        vertical-align: top;\n",
       "    }\n",
       "\n",
       "    .dataframe thead th {\n",
       "        text-align: right;\n",
       "    }\n",
       "</style>\n",
       "<table border=\"1\" class=\"dataframe\">\n",
       "  <thead>\n",
       "    <tr style=\"text-align: right;\">\n",
       "      <th></th>\n",
       "      <th>YILLIK_MIN_GELIR</th>\n",
       "      <th>BAK_YUK_OLDUGU_KISI_SAYISI</th>\n",
       "      <th>SERMAYE</th>\n",
       "      <th>MEDENI_DURUMU</th>\n",
       "      <th>UST_KURUM_NO</th>\n",
       "      <th>ASKERLIK_DURUMU</th>\n",
       "      <th>COGRAFI_BOLGE</th>\n",
       "      <th>CINSIYET</th>\n",
       "      <th>VADESI_GECEN_BORC</th>\n",
       "      <th>OGRENIM_DURUMU</th>\n",
       "      <th>TOPLAM_BORC</th>\n",
       "    </tr>\n",
       "  </thead>\n",
       "  <tbody>\n",
       "    <tr>\n",
       "      <th>0</th>\n",
       "      <td>29808.0</td>\n",
       "      <td>2.0</td>\n",
       "      <td>1600.0</td>\n",
       "      <td>E</td>\n",
       "      <td>B020000</td>\n",
       "      <td>Y</td>\n",
       "      <td>M</td>\n",
       "      <td>E</td>\n",
       "      <td>0.00</td>\n",
       "      <td>I</td>\n",
       "      <td>48895.32</td>\n",
       "    </tr>\n",
       "    <tr>\n",
       "      <th>1</th>\n",
       "      <td>56432.0</td>\n",
       "      <td>2.0</td>\n",
       "      <td>1600.0</td>\n",
       "      <td>E</td>\n",
       "      <td>B020000</td>\n",
       "      <td>Y</td>\n",
       "      <td>M</td>\n",
       "      <td>E</td>\n",
       "      <td>0.00</td>\n",
       "      <td>I</td>\n",
       "      <td>48895.32</td>\n",
       "    </tr>\n",
       "    <tr>\n",
       "      <th>2</th>\n",
       "      <td>6750.0</td>\n",
       "      <td>2.0</td>\n",
       "      <td>1600.0</td>\n",
       "      <td>E</td>\n",
       "      <td>B020000</td>\n",
       "      <td>Y</td>\n",
       "      <td>M</td>\n",
       "      <td>E</td>\n",
       "      <td>0.00</td>\n",
       "      <td>I</td>\n",
       "      <td>48895.32</td>\n",
       "    </tr>\n",
       "    <tr>\n",
       "      <th>3</th>\n",
       "      <td>27000.0</td>\n",
       "      <td>5.0</td>\n",
       "      <td>1000.0</td>\n",
       "      <td>E</td>\n",
       "      <td>B070000</td>\n",
       "      <td>Y</td>\n",
       "      <td>I</td>\n",
       "      <td>E</td>\n",
       "      <td>0.00</td>\n",
       "      <td>I</td>\n",
       "      <td>23852.07</td>\n",
       "    </tr>\n",
       "    <tr>\n",
       "      <th>4</th>\n",
       "      <td>81552.0</td>\n",
       "      <td>3.0</td>\n",
       "      <td>1300.0</td>\n",
       "      <td>E</td>\n",
       "      <td>B020000</td>\n",
       "      <td>Y</td>\n",
       "      <td>M</td>\n",
       "      <td>E</td>\n",
       "      <td>1054.16</td>\n",
       "      <td>O</td>\n",
       "      <td>69818.71</td>\n",
       "    </tr>\n",
       "  </tbody>\n",
       "</table>\n",
       "</div>"
      ],
      "text/plain": [
       "   YILLIK_MIN_GELIR  BAK_YUK_OLDUGU_KISI_SAYISI  SERMAYE MEDENI_DURUMU  \\\n",
       "0           29808.0                         2.0   1600.0             E   \n",
       "1           56432.0                         2.0   1600.0             E   \n",
       "2            6750.0                         2.0   1600.0             E   \n",
       "3           27000.0                         5.0   1000.0             E   \n",
       "4           81552.0                         3.0   1300.0             E   \n",
       "\n",
       "  UST_KURUM_NO ASKERLIK_DURUMU COGRAFI_BOLGE CINSIYET  VADESI_GECEN_BORC  \\\n",
       "0      B020000               Y             M        E               0.00   \n",
       "1      B020000               Y             M        E               0.00   \n",
       "2      B020000               Y             M        E               0.00   \n",
       "3      B070000               Y             I        E               0.00   \n",
       "4      B020000               Y             M        E            1054.16   \n",
       "\n",
       "  OGRENIM_DURUMU  TOPLAM_BORC  \n",
       "0              I     48895.32  \n",
       "1              I     48895.32  \n",
       "2              I     48895.32  \n",
       "3              I     23852.07  \n",
       "4              O     69818.71  "
      ]
     },
     "execution_count": 35,
     "metadata": {},
     "output_type": "execute_result"
    }
   ],
   "source": [
    "df[analize_girecekler].head()"
   ]
  },
  {
   "cell_type": "markdown",
   "metadata": {},
   "source": [
    "## LabelEncoder ve OneHotEncoder kullanmadan ve gölge değişken tuzağından kurtularak\n",
    "## kategorik nitelikleri işleme yöntemi"
   ]
  },
  {
   "cell_type": "code",
   "execution_count": 291,
   "metadata": {},
   "outputs": [
    {
     "data": {
      "text/html": [
       "<div>\n",
       "<style scoped>\n",
       "    .dataframe tbody tr th:only-of-type {\n",
       "        vertical-align: middle;\n",
       "    }\n",
       "\n",
       "    .dataframe tbody tr th {\n",
       "        vertical-align: top;\n",
       "    }\n",
       "\n",
       "    .dataframe thead th {\n",
       "        text-align: right;\n",
       "    }\n",
       "</style>\n",
       "<table border=\"1\" class=\"dataframe\">\n",
       "  <thead>\n",
       "    <tr style=\"text-align: right;\">\n",
       "      <th></th>\n",
       "      <th>A</th>\n",
       "      <th>B</th>\n",
       "      <th>C</th>\n",
       "    </tr>\n",
       "  </thead>\n",
       "  <tbody>\n",
       "    <tr>\n",
       "      <th>0</th>\n",
       "      <td>a</td>\n",
       "      <td>b</td>\n",
       "      <td>1</td>\n",
       "    </tr>\n",
       "    <tr>\n",
       "      <th>1</th>\n",
       "      <td>b</td>\n",
       "      <td>a</td>\n",
       "      <td>2</td>\n",
       "    </tr>\n",
       "    <tr>\n",
       "      <th>2</th>\n",
       "      <td>a</td>\n",
       "      <td>c</td>\n",
       "      <td>3</td>\n",
       "    </tr>\n",
       "  </tbody>\n",
       "</table>\n",
       "</div>"
      ],
      "text/plain": [
       "   A  B  C\n",
       "0  a  b  1\n",
       "1  b  a  2\n",
       "2  a  c  3"
      ]
     },
     "execution_count": 291,
     "metadata": {},
     "output_type": "execute_result"
    }
   ],
   "source": [
    "df_ornek = pd.DataFrame({'A': ['a', 'b', 'a'], 'B': ['b', 'a', 'c'],\n",
    "                 'C': [1, 2, 3]})\n",
    "df_ornek.head()"
   ]
  },
  {
   "cell_type": "code",
   "execution_count": 292,
   "metadata": {},
   "outputs": [
    {
     "data": {
      "text/html": [
       "<div>\n",
       "<style scoped>\n",
       "    .dataframe tbody tr th:only-of-type {\n",
       "        vertical-align: middle;\n",
       "    }\n",
       "\n",
       "    .dataframe tbody tr th {\n",
       "        vertical-align: top;\n",
       "    }\n",
       "\n",
       "    .dataframe thead th {\n",
       "        text-align: right;\n",
       "    }\n",
       "</style>\n",
       "<table border=\"1\" class=\"dataframe\">\n",
       "  <thead>\n",
       "    <tr style=\"text-align: right;\">\n",
       "      <th></th>\n",
       "      <th>C</th>\n",
       "      <th>A_a</th>\n",
       "      <th>A_b</th>\n",
       "      <th>B_a</th>\n",
       "      <th>B_b</th>\n",
       "      <th>B_c</th>\n",
       "    </tr>\n",
       "  </thead>\n",
       "  <tbody>\n",
       "    <tr>\n",
       "      <th>0</th>\n",
       "      <td>1</td>\n",
       "      <td>1</td>\n",
       "      <td>0</td>\n",
       "      <td>0</td>\n",
       "      <td>1</td>\n",
       "      <td>0</td>\n",
       "    </tr>\n",
       "    <tr>\n",
       "      <th>1</th>\n",
       "      <td>2</td>\n",
       "      <td>0</td>\n",
       "      <td>1</td>\n",
       "      <td>1</td>\n",
       "      <td>0</td>\n",
       "      <td>0</td>\n",
       "    </tr>\n",
       "    <tr>\n",
       "      <th>2</th>\n",
       "      <td>3</td>\n",
       "      <td>1</td>\n",
       "      <td>0</td>\n",
       "      <td>0</td>\n",
       "      <td>0</td>\n",
       "      <td>1</td>\n",
       "    </tr>\n",
       "  </tbody>\n",
       "</table>\n",
       "</div>"
      ],
      "text/plain": [
       "   C  A_a  A_b  B_a  B_b  B_c\n",
       "0  1    1    0    0    1    0\n",
       "1  2    0    1    1    0    0\n",
       "2  3    1    0    0    0    1"
      ]
     },
     "execution_count": 292,
     "metadata": {},
     "output_type": "execute_result"
    }
   ],
   "source": [
    "df_ornek2 = pd.get_dummies(df_ornek, prefix=['A', 'B'], drop_first=False)\n",
    "df_ornek2.head()"
   ]
  },
  {
   "cell_type": "code",
   "execution_count": 293,
   "metadata": {},
   "outputs": [
    {
     "data": {
      "text/html": [
       "<div>\n",
       "<style scoped>\n",
       "    .dataframe tbody tr th:only-of-type {\n",
       "        vertical-align: middle;\n",
       "    }\n",
       "\n",
       "    .dataframe tbody tr th {\n",
       "        vertical-align: top;\n",
       "    }\n",
       "\n",
       "    .dataframe thead th {\n",
       "        text-align: right;\n",
       "    }\n",
       "</style>\n",
       "<table border=\"1\" class=\"dataframe\">\n",
       "  <thead>\n",
       "    <tr style=\"text-align: right;\">\n",
       "      <th></th>\n",
       "      <th>C</th>\n",
       "      <th>A_b</th>\n",
       "      <th>B_b</th>\n",
       "      <th>B_c</th>\n",
       "    </tr>\n",
       "  </thead>\n",
       "  <tbody>\n",
       "    <tr>\n",
       "      <th>0</th>\n",
       "      <td>1</td>\n",
       "      <td>0</td>\n",
       "      <td>1</td>\n",
       "      <td>0</td>\n",
       "    </tr>\n",
       "    <tr>\n",
       "      <th>1</th>\n",
       "      <td>2</td>\n",
       "      <td>1</td>\n",
       "      <td>0</td>\n",
       "      <td>0</td>\n",
       "    </tr>\n",
       "    <tr>\n",
       "      <th>2</th>\n",
       "      <td>3</td>\n",
       "      <td>0</td>\n",
       "      <td>0</td>\n",
       "      <td>1</td>\n",
       "    </tr>\n",
       "  </tbody>\n",
       "</table>\n",
       "</div>"
      ],
      "text/plain": [
       "   C  A_b  B_b  B_c\n",
       "0  1    0    1    0\n",
       "1  2    1    0    0\n",
       "2  3    0    0    1"
      ]
     },
     "execution_count": 293,
     "metadata": {},
     "output_type": "execute_result"
    }
   ],
   "source": [
    "df_ornek2 = pd.get_dummies(df_ornek, prefix=['A', 'B'], drop_first=True)\n",
    "df_ornek2.head()"
   ]
  },
  {
   "cell_type": "markdown",
   "metadata": {},
   "source": [
    "## Yukarıdaki örnekten sonra kendi verimize dönelim"
   ]
  },
  {
   "cell_type": "code",
   "execution_count": 294,
   "metadata": {},
   "outputs": [],
   "source": [
    "# analize girecek dataframe içinden kategorik (string) \n",
    "# drop_first gölge değişkenleri düşür\n",
    "\n",
    "df_dummy = pd.get_dummies(df[analize_girecekler], \n",
    "                          drop_first=True,\n",
    "                          prefix=analize_girecek_kategorikler)"
   ]
  },
  {
   "cell_type": "code",
   "execution_count": 295,
   "metadata": {},
   "outputs": [],
   "source": [
    "df_dummy.drop('ASKERLIK_DURUMU_R', axis=1, inplace=True)"
   ]
  },
  {
   "cell_type": "code",
   "execution_count": 296,
   "metadata": {},
   "outputs": [
    {
     "data": {
      "text/html": [
       "<div>\n",
       "<style scoped>\n",
       "    .dataframe tbody tr th:only-of-type {\n",
       "        vertical-align: middle;\n",
       "    }\n",
       "\n",
       "    .dataframe tbody tr th {\n",
       "        vertical-align: top;\n",
       "    }\n",
       "\n",
       "    .dataframe thead th {\n",
       "        text-align: right;\n",
       "    }\n",
       "</style>\n",
       "<table border=\"1\" class=\"dataframe\">\n",
       "  <thead>\n",
       "    <tr style=\"text-align: right;\">\n",
       "      <th></th>\n",
       "      <th>VADESI_GECEN_BORC</th>\n",
       "      <th>TOPLAM_BORC</th>\n",
       "      <th>BAK_YUK_OLDUGU_KISI_SAYISI</th>\n",
       "      <th>YILLIK_MIN_GELIR</th>\n",
       "      <th>SERMAYE</th>\n",
       "      <th>MEDENI_DURUMU_Boşanmış</th>\n",
       "      <th>MEDENI_DURUMU_Dul</th>\n",
       "      <th>MEDENI_DURUMU_E</th>\n",
       "      <th>MEDENI_DURUMU_Evliliğin Feshi</th>\n",
       "      <th>MEDENI_DURUMU_Evliliğin İptali</th>\n",
       "      <th>...</th>\n",
       "      <th>OGRENIM_DURUMU_O</th>\n",
       "      <th>OGRENIM_DURUMU_R</th>\n",
       "      <th>OGRENIM_DURUMU_T</th>\n",
       "      <th>OGRENIM_DURUMU_U</th>\n",
       "      <th>OGRENIM_DURUMU_Y</th>\n",
       "      <th>CINSIYET_K</th>\n",
       "      <th>ASKERLIK_DURUMU_M</th>\n",
       "      <th>ASKERLIK_DURUMU_P</th>\n",
       "      <th>ASKERLIK_DURUMU_T</th>\n",
       "      <th>ASKERLIK_DURUMU_Y</th>\n",
       "    </tr>\n",
       "  </thead>\n",
       "  <tbody>\n",
       "    <tr>\n",
       "      <th>0</th>\n",
       "      <td>0.00</td>\n",
       "      <td>48895.32</td>\n",
       "      <td>2.0</td>\n",
       "      <td>29808.0</td>\n",
       "      <td>1600.0</td>\n",
       "      <td>0</td>\n",
       "      <td>0</td>\n",
       "      <td>1</td>\n",
       "      <td>0</td>\n",
       "      <td>0</td>\n",
       "      <td>...</td>\n",
       "      <td>0</td>\n",
       "      <td>0</td>\n",
       "      <td>0</td>\n",
       "      <td>0</td>\n",
       "      <td>0</td>\n",
       "      <td>0</td>\n",
       "      <td>0</td>\n",
       "      <td>0</td>\n",
       "      <td>0</td>\n",
       "      <td>1</td>\n",
       "    </tr>\n",
       "    <tr>\n",
       "      <th>1</th>\n",
       "      <td>0.00</td>\n",
       "      <td>48895.32</td>\n",
       "      <td>2.0</td>\n",
       "      <td>56432.0</td>\n",
       "      <td>1600.0</td>\n",
       "      <td>0</td>\n",
       "      <td>0</td>\n",
       "      <td>1</td>\n",
       "      <td>0</td>\n",
       "      <td>0</td>\n",
       "      <td>...</td>\n",
       "      <td>0</td>\n",
       "      <td>0</td>\n",
       "      <td>0</td>\n",
       "      <td>0</td>\n",
       "      <td>0</td>\n",
       "      <td>0</td>\n",
       "      <td>0</td>\n",
       "      <td>0</td>\n",
       "      <td>0</td>\n",
       "      <td>1</td>\n",
       "    </tr>\n",
       "    <tr>\n",
       "      <th>2</th>\n",
       "      <td>0.00</td>\n",
       "      <td>48895.32</td>\n",
       "      <td>2.0</td>\n",
       "      <td>6750.0</td>\n",
       "      <td>1600.0</td>\n",
       "      <td>0</td>\n",
       "      <td>0</td>\n",
       "      <td>1</td>\n",
       "      <td>0</td>\n",
       "      <td>0</td>\n",
       "      <td>...</td>\n",
       "      <td>0</td>\n",
       "      <td>0</td>\n",
       "      <td>0</td>\n",
       "      <td>0</td>\n",
       "      <td>0</td>\n",
       "      <td>0</td>\n",
       "      <td>0</td>\n",
       "      <td>0</td>\n",
       "      <td>0</td>\n",
       "      <td>1</td>\n",
       "    </tr>\n",
       "    <tr>\n",
       "      <th>3</th>\n",
       "      <td>0.00</td>\n",
       "      <td>23852.07</td>\n",
       "      <td>5.0</td>\n",
       "      <td>27000.0</td>\n",
       "      <td>1000.0</td>\n",
       "      <td>0</td>\n",
       "      <td>0</td>\n",
       "      <td>1</td>\n",
       "      <td>0</td>\n",
       "      <td>0</td>\n",
       "      <td>...</td>\n",
       "      <td>0</td>\n",
       "      <td>0</td>\n",
       "      <td>0</td>\n",
       "      <td>0</td>\n",
       "      <td>0</td>\n",
       "      <td>0</td>\n",
       "      <td>0</td>\n",
       "      <td>0</td>\n",
       "      <td>0</td>\n",
       "      <td>1</td>\n",
       "    </tr>\n",
       "    <tr>\n",
       "      <th>4</th>\n",
       "      <td>1054.16</td>\n",
       "      <td>69818.71</td>\n",
       "      <td>3.0</td>\n",
       "      <td>81552.0</td>\n",
       "      <td>1300.0</td>\n",
       "      <td>0</td>\n",
       "      <td>0</td>\n",
       "      <td>1</td>\n",
       "      <td>0</td>\n",
       "      <td>0</td>\n",
       "      <td>...</td>\n",
       "      <td>1</td>\n",
       "      <td>0</td>\n",
       "      <td>0</td>\n",
       "      <td>0</td>\n",
       "      <td>0</td>\n",
       "      <td>0</td>\n",
       "      <td>0</td>\n",
       "      <td>0</td>\n",
       "      <td>0</td>\n",
       "      <td>1</td>\n",
       "    </tr>\n",
       "  </tbody>\n",
       "</table>\n",
       "<p>5 rows × 43 columns</p>\n",
       "</div>"
      ],
      "text/plain": [
       "   VADESI_GECEN_BORC  TOPLAM_BORC  BAK_YUK_OLDUGU_KISI_SAYISI  \\\n",
       "0               0.00     48895.32                         2.0   \n",
       "1               0.00     48895.32                         2.0   \n",
       "2               0.00     48895.32                         2.0   \n",
       "3               0.00     23852.07                         5.0   \n",
       "4            1054.16     69818.71                         3.0   \n",
       "\n",
       "   YILLIK_MIN_GELIR  SERMAYE  MEDENI_DURUMU_Boşanmış  MEDENI_DURUMU_Dul  \\\n",
       "0           29808.0   1600.0                       0                  0   \n",
       "1           56432.0   1600.0                       0                  0   \n",
       "2            6750.0   1600.0                       0                  0   \n",
       "3           27000.0   1000.0                       0                  0   \n",
       "4           81552.0   1300.0                       0                  0   \n",
       "\n",
       "   MEDENI_DURUMU_E  MEDENI_DURUMU_Evliliğin Feshi  \\\n",
       "0                1                              0   \n",
       "1                1                              0   \n",
       "2                1                              0   \n",
       "3                1                              0   \n",
       "4                1                              0   \n",
       "\n",
       "   MEDENI_DURUMU_Evliliğin İptali  ...  OGRENIM_DURUMU_O  OGRENIM_DURUMU_R  \\\n",
       "0                               0  ...                 0                 0   \n",
       "1                               0  ...                 0                 0   \n",
       "2                               0  ...                 0                 0   \n",
       "3                               0  ...                 0                 0   \n",
       "4                               0  ...                 1                 0   \n",
       "\n",
       "   OGRENIM_DURUMU_T  OGRENIM_DURUMU_U  OGRENIM_DURUMU_Y  CINSIYET_K  \\\n",
       "0                 0                 0                 0           0   \n",
       "1                 0                 0                 0           0   \n",
       "2                 0                 0                 0           0   \n",
       "3                 0                 0                 0           0   \n",
       "4                 0                 0                 0           0   \n",
       "\n",
       "   ASKERLIK_DURUMU_M  ASKERLIK_DURUMU_P  ASKERLIK_DURUMU_T  ASKERLIK_DURUMU_Y  \n",
       "0                  0                  0                  0                  1  \n",
       "1                  0                  0                  0                  1  \n",
       "2                  0                  0                  0                  1  \n",
       "3                  0                  0                  0                  1  \n",
       "4                  0                  0                  0                  1  \n",
       "\n",
       "[5 rows x 43 columns]"
      ]
     },
     "execution_count": 296,
     "metadata": {},
     "output_type": "execute_result"
    }
   ],
   "source": [
    "df_dummy.head()"
   ]
  },
  {
   "cell_type": "code",
   "execution_count": 297,
   "metadata": {
    "scrolled": true
   },
   "outputs": [
    {
     "data": {
      "text/plain": [
       "Index(['VADESI_GECEN_BORC', 'TOPLAM_BORC', 'BAK_YUK_OLDUGU_KISI_SAYISI',\n",
       "       'YILLIK_MIN_GELIR', 'SERMAYE', 'MEDENI_DURUMU_Boşanmış',\n",
       "       'MEDENI_DURUMU_Dul', 'MEDENI_DURUMU_E', 'MEDENI_DURUMU_Evliliğin Feshi',\n",
       "       'MEDENI_DURUMU_Evliliğin İptali', 'UST_KURUM_NO_B020000',\n",
       "       'UST_KURUM_NO_B030000', 'UST_KURUM_NO_B040000', 'UST_KURUM_NO_B050000',\n",
       "       'UST_KURUM_NO_B060000', 'UST_KURUM_NO_B070000', 'UST_KURUM_NO_B080000',\n",
       "       'UST_KURUM_NO_B090000', 'UST_KURUM_NO_B100000', 'UST_KURUM_NO_B110000',\n",
       "       'UST_KURUM_NO_B120000', 'UST_KURUM_NO_B130000', 'UST_KURUM_NO_B140000',\n",
       "       'UST_KURUM_NO_B150000', 'UST_KURUM_NO_B160000', 'UST_KURUM_NO_B170000',\n",
       "       'COGRAFI_BOLGE_D', 'COGRAFI_BOLGE_E', 'COGRAFI_BOLGE_G',\n",
       "       'COGRAFI_BOLGE_I', 'COGRAFI_BOLGE_K', 'COGRAFI_BOLGE_M',\n",
       "       'OGRENIM_DURUMU_L', 'OGRENIM_DURUMU_O', 'OGRENIM_DURUMU_R',\n",
       "       'OGRENIM_DURUMU_T', 'OGRENIM_DURUMU_U', 'OGRENIM_DURUMU_Y',\n",
       "       'CINSIYET_K', 'ASKERLIK_DURUMU_M', 'ASKERLIK_DURUMU_P',\n",
       "       'ASKERLIK_DURUMU_T', 'ASKERLIK_DURUMU_Y'],\n",
       "      dtype='object')"
      ]
     },
     "execution_count": 297,
     "metadata": {},
     "output_type": "execute_result"
    }
   ],
   "source": [
    "df_dummy.columns"
   ]
  },
  {
   "cell_type": "markdown",
   "metadata": {},
   "source": [
    "# Nitelikleri yeniden sırala"
   ]
  },
  {
   "cell_type": "code",
   "execution_count": 298,
   "metadata": {},
   "outputs": [],
   "source": [
    "df = df_dummy[[ 'TOPLAM_BORC', 'BAK_YUK_OLDUGU_KISI_SAYISI',\n",
    "       'YILLIK_MIN_GELIR', 'SERMAYE', 'MEDENI_DURUMU_Boşanmış',\n",
    "       'MEDENI_DURUMU_Dul', 'MEDENI_DURUMU_E',\n",
    "       'MEDENI_DURUMU_Evliliğin İptali', 'UST_KURUM_NO_B020000',\n",
    "       'UST_KURUM_NO_B030000', 'UST_KURUM_NO_B040000', 'UST_KURUM_NO_B050000',\n",
    "       'UST_KURUM_NO_B060000', 'UST_KURUM_NO_B070000', 'UST_KURUM_NO_B080000',\n",
    "       'UST_KURUM_NO_B090000', 'UST_KURUM_NO_B100000', 'UST_KURUM_NO_B110000',\n",
    "       'UST_KURUM_NO_B120000', 'UST_KURUM_NO_B130000', 'UST_KURUM_NO_B140000',\n",
    "       'UST_KURUM_NO_B150000', 'UST_KURUM_NO_B160000', 'UST_KURUM_NO_B170000',\n",
    "       'COGRAFI_BOLGE_D', 'COGRAFI_BOLGE_E', 'COGRAFI_BOLGE_G',\n",
    "       'COGRAFI_BOLGE_I', 'COGRAFI_BOLGE_K', 'COGRAFI_BOLGE_M',\n",
    "       'OGRENIM_DURUMU_L', 'OGRENIM_DURUMU_O', 'OGRENIM_DURUMU_R',\n",
    "       'OGRENIM_DURUMU_T', 'OGRENIM_DURUMU_U', 'OGRENIM_DURUMU_Y',\n",
    "       'CINSIYET_K', 'ASKERLIK_DURUMU_M', 'ASKERLIK_DURUMU_P',\n",
    "       'ASKERLIK_DURUMU_T', 'ASKERLIK_DURUMU_Y', 'VADESI_GECEN_BORC']]"
   ]
  },
  {
   "cell_type": "code",
   "execution_count": 299,
   "metadata": {
    "scrolled": true
   },
   "outputs": [
    {
     "data": {
      "text/html": [
       "<div>\n",
       "<style scoped>\n",
       "    .dataframe tbody tr th:only-of-type {\n",
       "        vertical-align: middle;\n",
       "    }\n",
       "\n",
       "    .dataframe tbody tr th {\n",
       "        vertical-align: top;\n",
       "    }\n",
       "\n",
       "    .dataframe thead th {\n",
       "        text-align: right;\n",
       "    }\n",
       "</style>\n",
       "<table border=\"1\" class=\"dataframe\">\n",
       "  <thead>\n",
       "    <tr style=\"text-align: right;\">\n",
       "      <th></th>\n",
       "      <th>TOPLAM_BORC</th>\n",
       "      <th>BAK_YUK_OLDUGU_KISI_SAYISI</th>\n",
       "      <th>YILLIK_MIN_GELIR</th>\n",
       "      <th>SERMAYE</th>\n",
       "      <th>MEDENI_DURUMU_Boşanmış</th>\n",
       "      <th>MEDENI_DURUMU_Dul</th>\n",
       "      <th>MEDENI_DURUMU_E</th>\n",
       "      <th>MEDENI_DURUMU_Evliliğin İptali</th>\n",
       "      <th>UST_KURUM_NO_B020000</th>\n",
       "      <th>UST_KURUM_NO_B030000</th>\n",
       "      <th>...</th>\n",
       "      <th>OGRENIM_DURUMU_R</th>\n",
       "      <th>OGRENIM_DURUMU_T</th>\n",
       "      <th>OGRENIM_DURUMU_U</th>\n",
       "      <th>OGRENIM_DURUMU_Y</th>\n",
       "      <th>CINSIYET_K</th>\n",
       "      <th>ASKERLIK_DURUMU_M</th>\n",
       "      <th>ASKERLIK_DURUMU_P</th>\n",
       "      <th>ASKERLIK_DURUMU_T</th>\n",
       "      <th>ASKERLIK_DURUMU_Y</th>\n",
       "      <th>VADESI_GECEN_BORC</th>\n",
       "    </tr>\n",
       "  </thead>\n",
       "  <tbody>\n",
       "    <tr>\n",
       "      <th>0</th>\n",
       "      <td>48895.32</td>\n",
       "      <td>2.0</td>\n",
       "      <td>29808.0</td>\n",
       "      <td>1600.0</td>\n",
       "      <td>0</td>\n",
       "      <td>0</td>\n",
       "      <td>1</td>\n",
       "      <td>0</td>\n",
       "      <td>1</td>\n",
       "      <td>0</td>\n",
       "      <td>...</td>\n",
       "      <td>0</td>\n",
       "      <td>0</td>\n",
       "      <td>0</td>\n",
       "      <td>0</td>\n",
       "      <td>0</td>\n",
       "      <td>0</td>\n",
       "      <td>0</td>\n",
       "      <td>0</td>\n",
       "      <td>1</td>\n",
       "      <td>0.00</td>\n",
       "    </tr>\n",
       "    <tr>\n",
       "      <th>1</th>\n",
       "      <td>48895.32</td>\n",
       "      <td>2.0</td>\n",
       "      <td>56432.0</td>\n",
       "      <td>1600.0</td>\n",
       "      <td>0</td>\n",
       "      <td>0</td>\n",
       "      <td>1</td>\n",
       "      <td>0</td>\n",
       "      <td>1</td>\n",
       "      <td>0</td>\n",
       "      <td>...</td>\n",
       "      <td>0</td>\n",
       "      <td>0</td>\n",
       "      <td>0</td>\n",
       "      <td>0</td>\n",
       "      <td>0</td>\n",
       "      <td>0</td>\n",
       "      <td>0</td>\n",
       "      <td>0</td>\n",
       "      <td>1</td>\n",
       "      <td>0.00</td>\n",
       "    </tr>\n",
       "    <tr>\n",
       "      <th>2</th>\n",
       "      <td>48895.32</td>\n",
       "      <td>2.0</td>\n",
       "      <td>6750.0</td>\n",
       "      <td>1600.0</td>\n",
       "      <td>0</td>\n",
       "      <td>0</td>\n",
       "      <td>1</td>\n",
       "      <td>0</td>\n",
       "      <td>1</td>\n",
       "      <td>0</td>\n",
       "      <td>...</td>\n",
       "      <td>0</td>\n",
       "      <td>0</td>\n",
       "      <td>0</td>\n",
       "      <td>0</td>\n",
       "      <td>0</td>\n",
       "      <td>0</td>\n",
       "      <td>0</td>\n",
       "      <td>0</td>\n",
       "      <td>1</td>\n",
       "      <td>0.00</td>\n",
       "    </tr>\n",
       "    <tr>\n",
       "      <th>3</th>\n",
       "      <td>23852.07</td>\n",
       "      <td>5.0</td>\n",
       "      <td>27000.0</td>\n",
       "      <td>1000.0</td>\n",
       "      <td>0</td>\n",
       "      <td>0</td>\n",
       "      <td>1</td>\n",
       "      <td>0</td>\n",
       "      <td>0</td>\n",
       "      <td>0</td>\n",
       "      <td>...</td>\n",
       "      <td>0</td>\n",
       "      <td>0</td>\n",
       "      <td>0</td>\n",
       "      <td>0</td>\n",
       "      <td>0</td>\n",
       "      <td>0</td>\n",
       "      <td>0</td>\n",
       "      <td>0</td>\n",
       "      <td>1</td>\n",
       "      <td>0.00</td>\n",
       "    </tr>\n",
       "    <tr>\n",
       "      <th>4</th>\n",
       "      <td>69818.71</td>\n",
       "      <td>3.0</td>\n",
       "      <td>81552.0</td>\n",
       "      <td>1300.0</td>\n",
       "      <td>0</td>\n",
       "      <td>0</td>\n",
       "      <td>1</td>\n",
       "      <td>0</td>\n",
       "      <td>1</td>\n",
       "      <td>0</td>\n",
       "      <td>...</td>\n",
       "      <td>0</td>\n",
       "      <td>0</td>\n",
       "      <td>0</td>\n",
       "      <td>0</td>\n",
       "      <td>0</td>\n",
       "      <td>0</td>\n",
       "      <td>0</td>\n",
       "      <td>0</td>\n",
       "      <td>1</td>\n",
       "      <td>1054.16</td>\n",
       "    </tr>\n",
       "  </tbody>\n",
       "</table>\n",
       "<p>5 rows × 42 columns</p>\n",
       "</div>"
      ],
      "text/plain": [
       "   TOPLAM_BORC  BAK_YUK_OLDUGU_KISI_SAYISI  YILLIK_MIN_GELIR  SERMAYE  \\\n",
       "0     48895.32                         2.0           29808.0   1600.0   \n",
       "1     48895.32                         2.0           56432.0   1600.0   \n",
       "2     48895.32                         2.0            6750.0   1600.0   \n",
       "3     23852.07                         5.0           27000.0   1000.0   \n",
       "4     69818.71                         3.0           81552.0   1300.0   \n",
       "\n",
       "   MEDENI_DURUMU_Boşanmış  MEDENI_DURUMU_Dul  MEDENI_DURUMU_E  \\\n",
       "0                       0                  0                1   \n",
       "1                       0                  0                1   \n",
       "2                       0                  0                1   \n",
       "3                       0                  0                1   \n",
       "4                       0                  0                1   \n",
       "\n",
       "   MEDENI_DURUMU_Evliliğin İptali  UST_KURUM_NO_B020000  UST_KURUM_NO_B030000  \\\n",
       "0                               0                     1                     0   \n",
       "1                               0                     1                     0   \n",
       "2                               0                     1                     0   \n",
       "3                               0                     0                     0   \n",
       "4                               0                     1                     0   \n",
       "\n",
       "   ...  OGRENIM_DURUMU_R  OGRENIM_DURUMU_T  OGRENIM_DURUMU_U  \\\n",
       "0  ...                 0                 0                 0   \n",
       "1  ...                 0                 0                 0   \n",
       "2  ...                 0                 0                 0   \n",
       "3  ...                 0                 0                 0   \n",
       "4  ...                 0                 0                 0   \n",
       "\n",
       "   OGRENIM_DURUMU_Y  CINSIYET_K  ASKERLIK_DURUMU_M  ASKERLIK_DURUMU_P  \\\n",
       "0                 0           0                  0                  0   \n",
       "1                 0           0                  0                  0   \n",
       "2                 0           0                  0                  0   \n",
       "3                 0           0                  0                  0   \n",
       "4                 0           0                  0                  0   \n",
       "\n",
       "   ASKERLIK_DURUMU_T  ASKERLIK_DURUMU_Y  VADESI_GECEN_BORC  \n",
       "0                  0                  1               0.00  \n",
       "1                  0                  1               0.00  \n",
       "2                  0                  1               0.00  \n",
       "3                  0                  1               0.00  \n",
       "4                  0                  1            1054.16  \n",
       "\n",
       "[5 rows x 42 columns]"
      ]
     },
     "execution_count": 299,
     "metadata": {},
     "output_type": "execute_result"
    }
   ],
   "source": [
    "df.head()"
   ]
  },
  {
   "cell_type": "code",
   "execution_count": 300,
   "metadata": {},
   "outputs": [
    {
     "data": {
      "text/plain": [
       "VADESI_GECEN_BORC                 1.000000\n",
       "TOPLAM_BORC                       0.472540\n",
       "SERMAYE                           0.278305\n",
       "CINSIYET_K                        0.040652\n",
       "COGRAFI_BOLGE_G                   0.037079\n",
       "UST_KURUM_NO_B160000              0.028288\n",
       "UST_KURUM_NO_B170000              0.025839\n",
       "UST_KURUM_NO_B070000              0.024855\n",
       "MEDENI_DURUMU_Boşanmış            0.024780\n",
       "OGRENIM_DURUMU_L                  0.024697\n",
       "OGRENIM_DURUMU_U                  0.023206\n",
       "UST_KURUM_NO_B030000              0.021018\n",
       "ASKERLIK_DURUMU_M                 0.015285\n",
       "ASKERLIK_DURUMU_P                 0.014890\n",
       "UST_KURUM_NO_B040000              0.014328\n",
       "COGRAFI_BOLGE_M                   0.011354\n",
       "ASKERLIK_DURUMU_T                 0.011167\n",
       "UST_KURUM_NO_B110000              0.008065\n",
       "UST_KURUM_NO_B150000              0.006977\n",
       "UST_KURUM_NO_B020000              0.006332\n",
       "MEDENI_DURUMU_Dul                 0.003580\n",
       "OGRENIM_DURUMU_Y                  0.003532\n",
       "OGRENIM_DURUMU_O                  0.003494\n",
       "YILLIK_MIN_GELIR                  0.003173\n",
       "OGRENIM_DURUMU_T                  0.002954\n",
       "MEDENI_DURUMU_Evliliğin İptali    0.001462\n",
       "UST_KURUM_NO_B140000              0.001394\n",
       "UST_KURUM_NO_B130000             -0.003028\n",
       "OGRENIM_DURUMU_R                 -0.004393\n",
       "COGRAFI_BOLGE_E                  -0.005318\n",
       "COGRAFI_BOLGE_I                  -0.006719\n",
       "UST_KURUM_NO_B080000             -0.007879\n",
       "COGRAFI_BOLGE_K                  -0.011444\n",
       "COGRAFI_BOLGE_D                  -0.012694\n",
       "UST_KURUM_NO_B120000             -0.016268\n",
       "UST_KURUM_NO_B100000             -0.016315\n",
       "UST_KURUM_NO_B060000             -0.020585\n",
       "BAK_YUK_OLDUGU_KISI_SAYISI       -0.021589\n",
       "UST_KURUM_NO_B090000             -0.023377\n",
       "UST_KURUM_NO_B050000             -0.033255\n",
       "ASKERLIK_DURUMU_Y                -0.043042\n",
       "MEDENI_DURUMU_E                  -0.043059\n",
       "dtype: float64"
      ]
     },
     "execution_count": 300,
     "metadata": {},
     "output_type": "execute_result"
    }
   ],
   "source": [
    "# Girdi değişkenlerin hedef değişken ile korelasyonları\n",
    "df.corrwith(df['VADESI_GECEN_BORC']).sort_values(ascending=False)"
   ]
  },
  {
   "cell_type": "markdown",
   "metadata": {},
   "source": [
    "# Veri setini X ve y olarak ayırma (Dikey bölme)"
   ]
  },
  {
   "cell_type": "code",
   "execution_count": 301,
   "metadata": {},
   "outputs": [
    {
     "data": {
      "text/plain": [
       "(1080455, 41)"
      ]
     },
     "execution_count": 301,
     "metadata": {},
     "output_type": "execute_result"
    }
   ],
   "source": [
    "# Nitelikler matrisi (feature matrix)\n",
    "X = df.iloc[:,:-1].values\n",
    "X.shape"
   ]
  },
  {
   "cell_type": "code",
   "execution_count": 302,
   "metadata": {},
   "outputs": [
    {
     "data": {
      "text/plain": [
       "array([[4.889532e+04, 2.000000e+00, 2.980800e+04, 1.600000e+03,\n",
       "        0.000000e+00, 0.000000e+00, 1.000000e+00, 0.000000e+00,\n",
       "        1.000000e+00, 0.000000e+00, 0.000000e+00, 0.000000e+00,\n",
       "        0.000000e+00, 0.000000e+00, 0.000000e+00, 0.000000e+00,\n",
       "        0.000000e+00, 0.000000e+00, 0.000000e+00, 0.000000e+00,\n",
       "        0.000000e+00, 0.000000e+00, 0.000000e+00, 0.000000e+00,\n",
       "        0.000000e+00, 0.000000e+00, 0.000000e+00, 0.000000e+00,\n",
       "        0.000000e+00, 1.000000e+00, 0.000000e+00, 0.000000e+00,\n",
       "        0.000000e+00, 0.000000e+00, 0.000000e+00, 0.000000e+00,\n",
       "        0.000000e+00, 0.000000e+00, 0.000000e+00, 0.000000e+00,\n",
       "        1.000000e+00],\n",
       "       [4.889532e+04, 2.000000e+00, 5.643200e+04, 1.600000e+03,\n",
       "        0.000000e+00, 0.000000e+00, 1.000000e+00, 0.000000e+00,\n",
       "        1.000000e+00, 0.000000e+00, 0.000000e+00, 0.000000e+00,\n",
       "        0.000000e+00, 0.000000e+00, 0.000000e+00, 0.000000e+00,\n",
       "        0.000000e+00, 0.000000e+00, 0.000000e+00, 0.000000e+00,\n",
       "        0.000000e+00, 0.000000e+00, 0.000000e+00, 0.000000e+00,\n",
       "        0.000000e+00, 0.000000e+00, 0.000000e+00, 0.000000e+00,\n",
       "        0.000000e+00, 1.000000e+00, 0.000000e+00, 0.000000e+00,\n",
       "        0.000000e+00, 0.000000e+00, 0.000000e+00, 0.000000e+00,\n",
       "        0.000000e+00, 0.000000e+00, 0.000000e+00, 0.000000e+00,\n",
       "        1.000000e+00]])"
      ]
     },
     "execution_count": 302,
     "metadata": {},
     "output_type": "execute_result"
    }
   ],
   "source": [
    "X[:2]"
   ]
  },
  {
   "cell_type": "code",
   "execution_count": 303,
   "metadata": {},
   "outputs": [
    {
     "data": {
      "text/plain": [
       "numpy.ndarray"
      ]
     },
     "execution_count": 303,
     "metadata": {},
     "output_type": "execute_result"
    }
   ],
   "source": [
    "type(X)"
   ]
  },
  {
   "cell_type": "code",
   "execution_count": 304,
   "metadata": {},
   "outputs": [
    {
     "data": {
      "text/plain": [
       "(1080455,)"
      ]
     },
     "execution_count": 304,
     "metadata": {},
     "output_type": "execute_result"
    }
   ],
   "source": [
    "# VADESI_GECEN_BORC hedef değişken 8. indekste\n",
    "y = df.iloc[:,-1].values\n",
    "y.shape"
   ]
  },
  {
   "cell_type": "code",
   "execution_count": 305,
   "metadata": {},
   "outputs": [
    {
     "data": {
      "text/plain": [
       "numpy.ndarray"
      ]
     },
     "execution_count": 305,
     "metadata": {},
     "output_type": "execute_result"
    }
   ],
   "source": [
    "type(y)"
   ]
  },
  {
   "cell_type": "code",
   "execution_count": 306,
   "metadata": {},
   "outputs": [
    {
     "data": {
      "text/plain": [
       "array([   0.  ,    0.  ,    0.  ,    0.  , 1054.16, 1054.16,    0.  ,\n",
       "          0.  ,    0.  ,    0.  ,    0.  ,    0.  ,    0.  ,    0.  ,\n",
       "          0.  , 7427.49,    0.  ,    0.  ,    0.  ,    0.  ,    0.  ,\n",
       "          0.  ,    0.  ,    0.  ,    0.  ,    0.  ,    0.  ,    0.  ,\n",
       "          0.  ,    0.  ,    0.  ,    0.  ,    0.  ,    0.  ,    0.  ,\n",
       "          0.  ,    0.  ,    0.  ,    0.  ,    0.  ])"
      ]
     },
     "execution_count": 306,
     "metadata": {},
     "output_type": "execute_result"
    }
   ],
   "source": [
    "y[:40]"
   ]
  },
  {
   "cell_type": "markdown",
   "metadata": {},
   "source": [
    "# Veri setini train-test olarak ayırma (yatay bölme)"
   ]
  },
  {
   "cell_type": "code",
   "execution_count": 307,
   "metadata": {},
   "outputs": [],
   "source": [
    "from sklearn.model_selection import train_test_split\n",
    "X_train, X_test, y_train, y_test = train_test_split(X, y,\n",
    "            test_size=0.25, random_state = 142)"
   ]
  },
  {
   "cell_type": "code",
   "execution_count": 308,
   "metadata": {},
   "outputs": [
    {
     "name": "stdout",
     "output_type": "stream",
     "text": [
      "(810341, 41)\n",
      "(810341,)\n",
      "(270114, 41)\n",
      "(270114,)\n"
     ]
    }
   ],
   "source": [
    "print(X_train.shape)\n",
    "print(y_train.shape)\n",
    "print(X_test.shape)\n",
    "print(y_test.shape)"
   ]
  },
  {
   "cell_type": "markdown",
   "metadata": {},
   "source": [
    "# Lineer Regresyon Nesnesi Oluşturma (Boş model yaratma)"
   ]
  },
  {
   "cell_type": "code",
   "execution_count": 309,
   "metadata": {},
   "outputs": [],
   "source": [
    "from sklearn.linear_model import LinearRegression"
   ]
  },
  {
   "cell_type": "code",
   "execution_count": 310,
   "metadata": {},
   "outputs": [],
   "source": [
    "regressor = LinearRegression()"
   ]
  },
  {
   "cell_type": "markdown",
   "metadata": {},
   "source": [
    "# Lineer modeli eğitme (modeli şekillendirme - veriye uydurma - eğitme)"
   ]
  },
  {
   "cell_type": "code",
   "execution_count": 311,
   "metadata": {},
   "outputs": [
    {
     "data": {
      "text/plain": [
       "LinearRegression(copy_X=True, fit_intercept=True, n_jobs=None, normalize=False)"
      ]
     },
     "execution_count": 311,
     "metadata": {},
     "output_type": "execute_result"
    }
   ],
   "source": [
    "regressor.fit(X_train, y_train)"
   ]
  },
  {
   "cell_type": "markdown",
   "metadata": {},
   "source": [
    "# Eğitilmiş modelle (makine) test seti kullanarak tahmin "
   ]
  },
  {
   "cell_type": "code",
   "execution_count": 312,
   "metadata": {},
   "outputs": [],
   "source": [
    "y_pred = regressor.predict(X_test)"
   ]
  },
  {
   "cell_type": "markdown",
   "metadata": {},
   "source": [
    "## Tahmin sonuçlarını numpy.ndarray'den dataframe yapma (İncelemek daha Kolay)"
   ]
  },
  {
   "cell_type": "code",
   "execution_count": 313,
   "metadata": {},
   "outputs": [
    {
     "data": {
      "text/html": [
       "<div>\n",
       "<style scoped>\n",
       "    .dataframe tbody tr th:only-of-type {\n",
       "        vertical-align: middle;\n",
       "    }\n",
       "\n",
       "    .dataframe tbody tr th {\n",
       "        vertical-align: top;\n",
       "    }\n",
       "\n",
       "    .dataframe thead th {\n",
       "        text-align: right;\n",
       "    }\n",
       "</style>\n",
       "<table border=\"1\" class=\"dataframe\">\n",
       "  <thead>\n",
       "    <tr style=\"text-align: right;\">\n",
       "      <th></th>\n",
       "      <th>y_pred</th>\n",
       "      <th>y_test</th>\n",
       "    </tr>\n",
       "  </thead>\n",
       "  <tbody>\n",
       "    <tr>\n",
       "      <th>2</th>\n",
       "      <td>2755.507115</td>\n",
       "      <td>2071.51</td>\n",
       "    </tr>\n",
       "    <tr>\n",
       "      <th>5</th>\n",
       "      <td>27162.589089</td>\n",
       "      <td>227067.95</td>\n",
       "    </tr>\n",
       "    <tr>\n",
       "      <th>13</th>\n",
       "      <td>-628.976252</td>\n",
       "      <td>4598.06</td>\n",
       "    </tr>\n",
       "    <tr>\n",
       "      <th>14</th>\n",
       "      <td>27773.002159</td>\n",
       "      <td>2843.48</td>\n",
       "    </tr>\n",
       "    <tr>\n",
       "      <th>17</th>\n",
       "      <td>13256.802619</td>\n",
       "      <td>3429.06</td>\n",
       "    </tr>\n",
       "    <tr>\n",
       "      <th>24</th>\n",
       "      <td>20404.339520</td>\n",
       "      <td>24671.77</td>\n",
       "    </tr>\n",
       "    <tr>\n",
       "      <th>27</th>\n",
       "      <td>13410.620019</td>\n",
       "      <td>1779.33</td>\n",
       "    </tr>\n",
       "    <tr>\n",
       "      <th>28</th>\n",
       "      <td>4918.411812</td>\n",
       "      <td>24538.57</td>\n",
       "    </tr>\n",
       "    <tr>\n",
       "      <th>30</th>\n",
       "      <td>-11644.767613</td>\n",
       "      <td>518.23</td>\n",
       "    </tr>\n",
       "    <tr>\n",
       "      <th>36</th>\n",
       "      <td>2072.721799</td>\n",
       "      <td>1262.58</td>\n",
       "    </tr>\n",
       "    <tr>\n",
       "      <th>39</th>\n",
       "      <td>11630.498431</td>\n",
       "      <td>18710.23</td>\n",
       "    </tr>\n",
       "    <tr>\n",
       "      <th>42</th>\n",
       "      <td>7127.596909</td>\n",
       "      <td>1593.27</td>\n",
       "    </tr>\n",
       "    <tr>\n",
       "      <th>45</th>\n",
       "      <td>-7810.121884</td>\n",
       "      <td>62.87</td>\n",
       "    </tr>\n",
       "    <tr>\n",
       "      <th>46</th>\n",
       "      <td>42742.582283</td>\n",
       "      <td>302344.09</td>\n",
       "    </tr>\n",
       "    <tr>\n",
       "      <th>47</th>\n",
       "      <td>1917.775300</td>\n",
       "      <td>7378.68</td>\n",
       "    </tr>\n",
       "  </tbody>\n",
       "</table>\n",
       "</div>"
      ],
      "text/plain": [
       "          y_pred     y_test\n",
       "2    2755.507115    2071.51\n",
       "5   27162.589089  227067.95\n",
       "13   -628.976252    4598.06\n",
       "14  27773.002159    2843.48\n",
       "17  13256.802619    3429.06\n",
       "24  20404.339520   24671.77\n",
       "27  13410.620019    1779.33\n",
       "28   4918.411812   24538.57\n",
       "30 -11644.767613     518.23\n",
       "36   2072.721799    1262.58\n",
       "39  11630.498431   18710.23\n",
       "42   7127.596909    1593.27\n",
       "45  -7810.121884      62.87\n",
       "46  42742.582283  302344.09\n",
       "47   1917.775300    7378.68"
      ]
     },
     "execution_count": 313,
     "metadata": {},
     "output_type": "execute_result"
    }
   ],
   "source": [
    "predictions = pd.DataFrame(data=y_pred,    # values\n",
    "                index=range(len(y_pred)),    # 1st column as index\n",
    "                   columns=['y_pred'])  # 1st row as the column names\n",
    "\n",
    "# Sadece y_pred'den oluşan df'e test(gerçek) y_test'i sütun olarak ekleme\n",
    "predictions['y_test'] = y_test\n",
    "predictions[predictions['y_test']  > 1].head(15)"
   ]
  },
  {
   "cell_type": "markdown",
   "metadata": {},
   "source": [
    "# Regression metrics"
   ]
  },
  {
   "cell_type": "markdown",
   "metadata": {},
   "source": [
    "## explained_variance"
   ]
  },
  {
   "cell_type": "code",
   "execution_count": 314,
   "metadata": {},
   "outputs": [],
   "source": [
    "# The sklearn.metrics module implements several loss, score, and utility functions to measure \n",
    "# regression performance. Some of those have been enhanced to handle the multioutput case: \n",
    "# mean_squared_error, mean_absolute_error, explained_variance_score and r2_score."
   ]
  },
  {
   "cell_type": "code",
   "execution_count": 315,
   "metadata": {},
   "outputs": [],
   "source": [
    "from sklearn.metrics import explained_variance_score"
   ]
  },
  {
   "cell_type": "code",
   "execution_count": 316,
   "metadata": {},
   "outputs": [
    {
     "data": {
      "text/plain": [
       "0.24993458492350118"
      ]
     },
     "execution_count": 316,
     "metadata": {},
     "output_type": "execute_result"
    }
   ],
   "source": [
    "explained_variance_score(y_true=y_test, y_pred=y_pred)"
   ]
  },
  {
   "cell_type": "markdown",
   "metadata": {},
   "source": [
    "## mean_absolute_error"
   ]
  },
  {
   "cell_type": "code",
   "execution_count": 317,
   "metadata": {},
   "outputs": [],
   "source": [
    "from sklearn.metrics import mean_absolute_error"
   ]
  },
  {
   "cell_type": "code",
   "execution_count": 318,
   "metadata": {},
   "outputs": [
    {
     "data": {
      "text/plain": [
       "18784.97286668461"
      ]
     },
     "execution_count": 318,
     "metadata": {},
     "output_type": "execute_result"
    }
   ],
   "source": [
    "mean_absolute_error(y_true=y_test, y_pred=y_pred)"
   ]
  },
  {
   "cell_type": "markdown",
   "metadata": {},
   "source": [
    "## r2_score "
   ]
  },
  {
   "cell_type": "code",
   "execution_count": 319,
   "metadata": {},
   "outputs": [],
   "source": [
    "from sklearn.metrics import r2_score"
   ]
  },
  {
   "cell_type": "code",
   "execution_count": 320,
   "metadata": {},
   "outputs": [
    {
     "data": {
      "text/plain": [
       "0.24993391748310356"
      ]
     },
     "execution_count": 320,
     "metadata": {},
     "output_type": "execute_result"
    }
   ],
   "source": [
    "r2_score(y_test, y_pred)"
   ]
  },
  {
   "cell_type": "markdown",
   "metadata": {},
   "source": [
    "# Model Anlamlılığı "
   ]
  },
  {
   "cell_type": "code",
   "execution_count": 321,
   "metadata": {},
   "outputs": [],
   "source": [
    "# Scikit-learn model anlamlılığı için bir araç sunmuyor. \n",
    "# Bu sebeple statsmodel modülünü kullanacağız"
   ]
  },
  {
   "cell_type": "code",
   "execution_count": 322,
   "metadata": {},
   "outputs": [],
   "source": [
    "# !pip install statsmodels"
   ]
  },
  {
   "cell_type": "code",
   "execution_count": 323,
   "metadata": {},
   "outputs": [],
   "source": [
    "# !pip install patsy"
   ]
  },
  {
   "cell_type": "code",
   "execution_count": 324,
   "metadata": {},
   "outputs": [],
   "source": [
    "# !pip install factorial"
   ]
  },
  {
   "cell_type": "code",
   "execution_count": 325,
   "metadata": {},
   "outputs": [],
   "source": [
    "# factorial hatası alınırsa\n",
    "# !pip install scipy==1.2 --upgrade"
   ]
  },
  {
   "cell_type": "code",
   "execution_count": 326,
   "metadata": {
    "scrolled": true
   },
   "outputs": [],
   "source": [
    "import statsmodels.api as sm"
   ]
  },
  {
   "cell_type": "code",
   "execution_count": 327,
   "metadata": {},
   "outputs": [],
   "source": [
    "# Sabit Ekleme (aslında sabitin önünde bir tane x üzeri 0 var. \n",
    "# Onu temsilen yeni bir sütunu 1'ler ile dolduruyoruz)"
   ]
  },
  {
   "cell_type": "code",
   "execution_count": 328,
   "metadata": {},
   "outputs": [],
   "source": [
    "X = sm.add_constant(X)"
   ]
  },
  {
   "cell_type": "code",
   "execution_count": 329,
   "metadata": {},
   "outputs": [
    {
     "data": {
      "text/plain": [
       "(1080455, 42)"
      ]
     },
     "execution_count": 329,
     "metadata": {},
     "output_type": "execute_result"
    }
   ],
   "source": [
    "X.shape"
   ]
  },
  {
   "cell_type": "code",
   "execution_count": 335,
   "metadata": {},
   "outputs": [
    {
     "data": {
      "text/plain": [
       "array([[1.000000e+00, 4.889532e+04, 2.000000e+00, 2.980800e+04,\n",
       "        1.600000e+03, 0.000000e+00, 0.000000e+00, 1.000000e+00,\n",
       "        0.000000e+00, 1.000000e+00, 0.000000e+00, 0.000000e+00,\n",
       "        0.000000e+00, 0.000000e+00, 0.000000e+00, 0.000000e+00,\n",
       "        0.000000e+00, 0.000000e+00, 0.000000e+00, 0.000000e+00,\n",
       "        0.000000e+00, 0.000000e+00, 0.000000e+00, 0.000000e+00,\n",
       "        0.000000e+00, 0.000000e+00, 0.000000e+00, 0.000000e+00,\n",
       "        0.000000e+00, 0.000000e+00, 1.000000e+00, 0.000000e+00,\n",
       "        0.000000e+00, 0.000000e+00, 0.000000e+00, 0.000000e+00,\n",
       "        0.000000e+00, 0.000000e+00, 0.000000e+00, 0.000000e+00,\n",
       "        0.000000e+00, 1.000000e+00],\n",
       "       [1.000000e+00, 4.889532e+04, 2.000000e+00, 5.643200e+04,\n",
       "        1.600000e+03, 0.000000e+00, 0.000000e+00, 1.000000e+00,\n",
       "        0.000000e+00, 1.000000e+00, 0.000000e+00, 0.000000e+00,\n",
       "        0.000000e+00, 0.000000e+00, 0.000000e+00, 0.000000e+00,\n",
       "        0.000000e+00, 0.000000e+00, 0.000000e+00, 0.000000e+00,\n",
       "        0.000000e+00, 0.000000e+00, 0.000000e+00, 0.000000e+00,\n",
       "        0.000000e+00, 0.000000e+00, 0.000000e+00, 0.000000e+00,\n",
       "        0.000000e+00, 0.000000e+00, 1.000000e+00, 0.000000e+00,\n",
       "        0.000000e+00, 0.000000e+00, 0.000000e+00, 0.000000e+00,\n",
       "        0.000000e+00, 0.000000e+00, 0.000000e+00, 0.000000e+00,\n",
       "        0.000000e+00, 1.000000e+00]])"
      ]
     },
     "execution_count": 335,
     "metadata": {},
     "output_type": "execute_result"
    }
   ],
   "source": [
    "X[:2]"
   ]
  },
  {
   "cell_type": "code",
   "execution_count": 331,
   "metadata": {},
   "outputs": [],
   "source": [
    "reg_OLS_model = sm.OLS(endog=y, exog=X).fit()"
   ]
  },
  {
   "cell_type": "code",
   "execution_count": 332,
   "metadata": {
    "scrolled": false
   },
   "outputs": [
    {
     "data": {
      "text/html": [
       "<table class=\"simpletable\">\n",
       "<caption>OLS Regression Results</caption>\n",
       "<tr>\n",
       "  <th>Dep. Variable:</th>            <td>y</td>        <th>  R-squared:         </th>  <td>   0.250</td>  \n",
       "</tr>\n",
       "<tr>\n",
       "  <th>Model:</th>                   <td>OLS</td>       <th>  Adj. R-squared:    </th>  <td>   0.250</td>  \n",
       "</tr>\n",
       "<tr>\n",
       "  <th>Method:</th>             <td>Least Squares</td>  <th>  F-statistic:       </th>  <td>   8769.</td>  \n",
       "</tr>\n",
       "<tr>\n",
       "  <th>Date:</th>             <td>Thu, 04 Jul 2019</td> <th>  Prob (F-statistic):</th>   <td>  0.00</td>   \n",
       "</tr>\n",
       "<tr>\n",
       "  <th>Time:</th>                 <td>10:25:45</td>     <th>  Log-Likelihood:    </th> <td>-1.3244e+07</td>\n",
       "</tr>\n",
       "<tr>\n",
       "  <th>No. Observations:</th>      <td>1080455</td>     <th>  AIC:               </th>  <td>2.649e+07</td> \n",
       "</tr>\n",
       "<tr>\n",
       "  <th>Df Residuals:</th>          <td>1080413</td>     <th>  BIC:               </th>  <td>2.649e+07</td> \n",
       "</tr>\n",
       "<tr>\n",
       "  <th>Df Model:</th>              <td>    41</td>      <th>                     </th>      <td> </td>     \n",
       "</tr>\n",
       "<tr>\n",
       "  <th>Covariance Type:</th>      <td>nonrobust</td>    <th>                     </th>      <td> </td>     \n",
       "</tr>\n",
       "</table>\n",
       "<table class=\"simpletable\">\n",
       "<tr>\n",
       "    <td></td>       <th>coef</th>     <th>std err</th>      <th>t</th>      <th>P>|t|</th>  <th>[0.025</th>    <th>0.975]</th>  \n",
       "</tr>\n",
       "<tr>\n",
       "  <th>const</th> <td> 6620.3364</td> <td> 1592.997</td> <td>    4.156</td> <td> 0.000</td> <td> 3498.115</td> <td> 9742.557</td>\n",
       "</tr>\n",
       "<tr>\n",
       "  <th>x1</th>    <td>    0.2776</td> <td>    0.001</td> <td>  486.397</td> <td> 0.000</td> <td>    0.276</td> <td>    0.279</td>\n",
       "</tr>\n",
       "<tr>\n",
       "  <th>x2</th>    <td> -100.1202</td> <td>   20.775</td> <td>   -4.819</td> <td> 0.000</td> <td> -140.839</td> <td>  -59.402</td>\n",
       "</tr>\n",
       "<tr>\n",
       "  <th>x3</th>    <td> 2.054e-07</td> <td> 7.98e-08</td> <td>    2.573</td> <td> 0.010</td> <td> 4.89e-08</td> <td> 3.62e-07</td>\n",
       "</tr>\n",
       "<tr>\n",
       "  <th>x4</th>    <td>  -10.6186</td> <td>    0.065</td> <td> -163.337</td> <td> 0.000</td> <td>  -10.746</td> <td>  -10.491</td>\n",
       "</tr>\n",
       "<tr>\n",
       "  <th>x5</th>    <td> 5269.0003</td> <td>  507.946</td> <td>   10.373</td> <td> 0.000</td> <td> 4273.444</td> <td> 6264.557</td>\n",
       "</tr>\n",
       "<tr>\n",
       "  <th>x6</th>    <td> 1.488e+04</td> <td> 4657.596</td> <td>    3.195</td> <td> 0.001</td> <td> 5751.171</td> <td>  2.4e+04</td>\n",
       "</tr>\n",
       "<tr>\n",
       "  <th>x7</th>    <td>-4568.0567</td> <td>  207.002</td> <td>  -22.068</td> <td> 0.000</td> <td>-4973.774</td> <td>-4162.339</td>\n",
       "</tr>\n",
       "<tr>\n",
       "  <th>x8</th>    <td> 1.115e+04</td> <td> 9998.337</td> <td>    1.115</td> <td> 0.265</td> <td>-8444.431</td> <td> 3.07e+04</td>\n",
       "</tr>\n",
       "<tr>\n",
       "  <th>x9</th>    <td> 7799.0340</td> <td>  240.228</td> <td>   32.465</td> <td> 0.000</td> <td> 7328.195</td> <td> 8269.873</td>\n",
       "</tr>\n",
       "<tr>\n",
       "  <th>x10</th>   <td> 1.355e+04</td> <td>  305.512</td> <td>   44.349</td> <td> 0.000</td> <td>  1.3e+04</td> <td> 1.41e+04</td>\n",
       "</tr>\n",
       "<tr>\n",
       "  <th>x11</th>   <td> 1.096e+04</td> <td>  536.642</td> <td>   20.428</td> <td> 0.000</td> <td> 9910.712</td> <td>  1.2e+04</td>\n",
       "</tr>\n",
       "<tr>\n",
       "  <th>x12</th>   <td> 5533.9304</td> <td>  485.034</td> <td>   11.409</td> <td> 0.000</td> <td> 4583.280</td> <td> 6484.581</td>\n",
       "</tr>\n",
       "<tr>\n",
       "  <th>x13</th>   <td> -810.2387</td> <td> 1450.538</td> <td>   -0.559</td> <td> 0.576</td> <td>-3653.245</td> <td> 2032.767</td>\n",
       "</tr>\n",
       "<tr>\n",
       "  <th>x14</th>   <td> 1.554e+04</td> <td>  492.135</td> <td>   31.573</td> <td> 0.000</td> <td> 1.46e+04</td> <td> 1.65e+04</td>\n",
       "</tr>\n",
       "<tr>\n",
       "  <th>x15</th>   <td> 9503.3323</td> <td>  444.909</td> <td>   21.360</td> <td> 0.000</td> <td> 8631.326</td> <td> 1.04e+04</td>\n",
       "</tr>\n",
       "<tr>\n",
       "  <th>x16</th>   <td> 6678.7653</td> <td>  487.864</td> <td>   13.690</td> <td> 0.000</td> <td> 5722.569</td> <td> 7634.962</td>\n",
       "</tr>\n",
       "<tr>\n",
       "  <th>x17</th>   <td> 9435.8148</td> <td>  470.533</td> <td>   20.053</td> <td> 0.000</td> <td> 8513.586</td> <td> 1.04e+04</td>\n",
       "</tr>\n",
       "<tr>\n",
       "  <th>x18</th>   <td> 1.255e+04</td> <td>  444.722</td> <td>   28.219</td> <td> 0.000</td> <td> 1.17e+04</td> <td> 1.34e+04</td>\n",
       "</tr>\n",
       "<tr>\n",
       "  <th>x19</th>   <td> 1.261e+04</td> <td>  473.836</td> <td>   26.615</td> <td> 0.000</td> <td> 1.17e+04</td> <td> 1.35e+04</td>\n",
       "</tr>\n",
       "<tr>\n",
       "  <th>x20</th>   <td> 1.412e+04</td> <td>  970.623</td> <td>   14.552</td> <td> 0.000</td> <td> 1.22e+04</td> <td>  1.6e+04</td>\n",
       "</tr>\n",
       "<tr>\n",
       "  <th>x21</th>   <td> 7683.9333</td> <td>  976.790</td> <td>    7.867</td> <td> 0.000</td> <td> 5769.458</td> <td> 9598.409</td>\n",
       "</tr>\n",
       "<tr>\n",
       "  <th>x22</th>   <td>-7937.0415</td> <td> 1350.904</td> <td>   -5.875</td> <td> 0.000</td> <td>-1.06e+04</td> <td>-5289.316</td>\n",
       "</tr>\n",
       "<tr>\n",
       "  <th>x23</th>   <td> 1412.1577</td> <td> 1451.436</td> <td>    0.973</td> <td> 0.331</td> <td>-1432.608</td> <td> 4256.923</td>\n",
       "</tr>\n",
       "<tr>\n",
       "  <th>x24</th>   <td> 6701.4997</td> <td> 1291.208</td> <td>    5.190</td> <td> 0.000</td> <td> 4170.776</td> <td> 9232.223</td>\n",
       "</tr>\n",
       "<tr>\n",
       "  <th>x25</th>   <td>-1.315e+04</td> <td> 1104.043</td> <td>  -11.910</td> <td> 0.000</td> <td>-1.53e+04</td> <td> -1.1e+04</td>\n",
       "</tr>\n",
       "<tr>\n",
       "  <th>x26</th>   <td>-9483.5164</td> <td> 1438.276</td> <td>   -6.594</td> <td> 0.000</td> <td>-1.23e+04</td> <td>-6664.544</td>\n",
       "</tr>\n",
       "<tr>\n",
       "  <th>x27</th>   <td>-7133.3874</td> <td>  754.324</td> <td>   -9.457</td> <td> 0.000</td> <td>-8611.836</td> <td>-5654.939</td>\n",
       "</tr>\n",
       "<tr>\n",
       "  <th>x28</th>   <td>-1.409e+04</td> <td> 1386.526</td> <td>  -10.162</td> <td> 0.000</td> <td>-1.68e+04</td> <td>-1.14e+04</td>\n",
       "</tr>\n",
       "<tr>\n",
       "  <th>x29</th>   <td>-9643.5443</td> <td> 1385.688</td> <td>   -6.959</td> <td> 0.000</td> <td>-1.24e+04</td> <td>-6927.643</td>\n",
       "</tr>\n",
       "<tr>\n",
       "  <th>x30</th>   <td>-6844.8699</td> <td> 1424.736</td> <td>   -4.804</td> <td> 0.000</td> <td>-9637.305</td> <td>-4052.435</td>\n",
       "</tr>\n",
       "<tr>\n",
       "  <th>x31</th>   <td>-1582.3219</td> <td>  181.747</td> <td>   -8.706</td> <td> 0.000</td> <td>-1938.539</td> <td>-1226.105</td>\n",
       "</tr>\n",
       "<tr>\n",
       "  <th>x32</th>   <td>-1467.2960</td> <td>  185.558</td> <td>   -7.907</td> <td> 0.000</td> <td>-1830.984</td> <td>-1103.608</td>\n",
       "</tr>\n",
       "<tr>\n",
       "  <th>x33</th>   <td> 1841.5207</td> <td>  219.423</td> <td>    8.393</td> <td> 0.000</td> <td> 1411.460</td> <td> 2271.582</td>\n",
       "</tr>\n",
       "<tr>\n",
       "  <th>x34</th>   <td> 2157.8322</td> <td> 2939.504</td> <td>    0.734</td> <td> 0.463</td> <td>-3603.497</td> <td> 7919.161</td>\n",
       "</tr>\n",
       "<tr>\n",
       "  <th>x35</th>   <td>-1517.1842</td> <td>  513.014</td> <td>   -2.957</td> <td> 0.003</td> <td>-2522.674</td> <td> -511.694</td>\n",
       "</tr>\n",
       "<tr>\n",
       "  <th>x36</th>   <td>-3270.0328</td> <td>  489.336</td> <td>   -6.683</td> <td> 0.000</td> <td>-4229.114</td> <td>-2310.951</td>\n",
       "</tr>\n",
       "<tr>\n",
       "  <th>x37</th>   <td> 1972.4452</td> <td>  598.435</td> <td>    3.296</td> <td> 0.001</td> <td>  799.532</td> <td> 3145.359</td>\n",
       "</tr>\n",
       "<tr>\n",
       "  <th>x38</th>   <td>-1480.9341</td> <td>  374.726</td> <td>   -3.952</td> <td> 0.000</td> <td>-2215.385</td> <td> -746.483</td>\n",
       "</tr>\n",
       "<tr>\n",
       "  <th>x39</th>   <td>-1719.6524</td> <td>  888.370</td> <td>   -1.936</td> <td> 0.053</td> <td>-3460.828</td> <td>   21.523</td>\n",
       "</tr>\n",
       "<tr>\n",
       "  <th>x40</th>   <td> 3090.7429</td> <td> 1585.414</td> <td>    1.949</td> <td> 0.051</td> <td>  -16.614</td> <td> 6198.100</td>\n",
       "</tr>\n",
       "<tr>\n",
       "  <th>x41</th>   <td>-2707.2905</td> <td>  649.192</td> <td>   -4.170</td> <td> 0.000</td> <td>-3979.684</td> <td>-1434.897</td>\n",
       "</tr>\n",
       "</table>\n",
       "<table class=\"simpletable\">\n",
       "<tr>\n",
       "  <th>Omnibus:</th>       <td>1702417.245</td> <th>  Durbin-Watson:     </th>    <td>   1.109</td>   \n",
       "</tr>\n",
       "<tr>\n",
       "  <th>Prob(Omnibus):</th>   <td> 0.000</td>    <th>  Jarque-Bera (JB):  </th> <td>4393893298.298</td>\n",
       "</tr>\n",
       "<tr>\n",
       "  <th>Skew:</th>            <td> 9.578</td>    <th>  Prob(JB):          </th>    <td>    0.00</td>   \n",
       "</tr>\n",
       "<tr>\n",
       "  <th>Kurtosis:</th>        <td>314.824</td>   <th>  Cond. No.          </th>    <td>1.25e+11</td>   \n",
       "</tr>\n",
       "</table><br/><br/>Warnings:<br/>[1] Standard Errors assume that the covariance matrix of the errors is correctly specified.<br/>[2] The condition number is large, 1.25e+11. This might indicate that there are<br/>strong multicollinearity or other numerical problems."
      ],
      "text/plain": [
       "<class 'statsmodels.iolib.summary.Summary'>\n",
       "\"\"\"\n",
       "                            OLS Regression Results                            \n",
       "==============================================================================\n",
       "Dep. Variable:                      y   R-squared:                       0.250\n",
       "Model:                            OLS   Adj. R-squared:                  0.250\n",
       "Method:                 Least Squares   F-statistic:                     8769.\n",
       "Date:                Thu, 04 Jul 2019   Prob (F-statistic):               0.00\n",
       "Time:                        10:25:45   Log-Likelihood:            -1.3244e+07\n",
       "No. Observations:             1080455   AIC:                         2.649e+07\n",
       "Df Residuals:                 1080413   BIC:                         2.649e+07\n",
       "Df Model:                          41                                         \n",
       "Covariance Type:            nonrobust                                         \n",
       "==============================================================================\n",
       "                 coef    std err          t      P>|t|      [0.025      0.975]\n",
       "------------------------------------------------------------------------------\n",
       "const       6620.3364   1592.997      4.156      0.000    3498.115    9742.557\n",
       "x1             0.2776      0.001    486.397      0.000       0.276       0.279\n",
       "x2          -100.1202     20.775     -4.819      0.000    -140.839     -59.402\n",
       "x3          2.054e-07   7.98e-08      2.573      0.010    4.89e-08    3.62e-07\n",
       "x4           -10.6186      0.065   -163.337      0.000     -10.746     -10.491\n",
       "x5          5269.0003    507.946     10.373      0.000    4273.444    6264.557\n",
       "x6          1.488e+04   4657.596      3.195      0.001    5751.171     2.4e+04\n",
       "x7         -4568.0567    207.002    -22.068      0.000   -4973.774   -4162.339\n",
       "x8          1.115e+04   9998.337      1.115      0.265   -8444.431    3.07e+04\n",
       "x9          7799.0340    240.228     32.465      0.000    7328.195    8269.873\n",
       "x10         1.355e+04    305.512     44.349      0.000     1.3e+04    1.41e+04\n",
       "x11         1.096e+04    536.642     20.428      0.000    9910.712     1.2e+04\n",
       "x12         5533.9304    485.034     11.409      0.000    4583.280    6484.581\n",
       "x13         -810.2387   1450.538     -0.559      0.576   -3653.245    2032.767\n",
       "x14         1.554e+04    492.135     31.573      0.000    1.46e+04    1.65e+04\n",
       "x15         9503.3323    444.909     21.360      0.000    8631.326    1.04e+04\n",
       "x16         6678.7653    487.864     13.690      0.000    5722.569    7634.962\n",
       "x17         9435.8148    470.533     20.053      0.000    8513.586    1.04e+04\n",
       "x18         1.255e+04    444.722     28.219      0.000    1.17e+04    1.34e+04\n",
       "x19         1.261e+04    473.836     26.615      0.000    1.17e+04    1.35e+04\n",
       "x20         1.412e+04    970.623     14.552      0.000    1.22e+04     1.6e+04\n",
       "x21         7683.9333    976.790      7.867      0.000    5769.458    9598.409\n",
       "x22        -7937.0415   1350.904     -5.875      0.000   -1.06e+04   -5289.316\n",
       "x23         1412.1577   1451.436      0.973      0.331   -1432.608    4256.923\n",
       "x24         6701.4997   1291.208      5.190      0.000    4170.776    9232.223\n",
       "x25        -1.315e+04   1104.043    -11.910      0.000   -1.53e+04    -1.1e+04\n",
       "x26        -9483.5164   1438.276     -6.594      0.000   -1.23e+04   -6664.544\n",
       "x27        -7133.3874    754.324     -9.457      0.000   -8611.836   -5654.939\n",
       "x28        -1.409e+04   1386.526    -10.162      0.000   -1.68e+04   -1.14e+04\n",
       "x29        -9643.5443   1385.688     -6.959      0.000   -1.24e+04   -6927.643\n",
       "x30        -6844.8699   1424.736     -4.804      0.000   -9637.305   -4052.435\n",
       "x31        -1582.3219    181.747     -8.706      0.000   -1938.539   -1226.105\n",
       "x32        -1467.2960    185.558     -7.907      0.000   -1830.984   -1103.608\n",
       "x33         1841.5207    219.423      8.393      0.000    1411.460    2271.582\n",
       "x34         2157.8322   2939.504      0.734      0.463   -3603.497    7919.161\n",
       "x35        -1517.1842    513.014     -2.957      0.003   -2522.674    -511.694\n",
       "x36        -3270.0328    489.336     -6.683      0.000   -4229.114   -2310.951\n",
       "x37         1972.4452    598.435      3.296      0.001     799.532    3145.359\n",
       "x38        -1480.9341    374.726     -3.952      0.000   -2215.385    -746.483\n",
       "x39        -1719.6524    888.370     -1.936      0.053   -3460.828      21.523\n",
       "x40         3090.7429   1585.414      1.949      0.051     -16.614    6198.100\n",
       "x41        -2707.2905    649.192     -4.170      0.000   -3979.684   -1434.897\n",
       "==============================================================================\n",
       "Omnibus:                  1702417.245   Durbin-Watson:                   1.109\n",
       "Prob(Omnibus):                  0.000   Jarque-Bera (JB):       4393893298.298\n",
       "Skew:                           9.578   Prob(JB):                         0.00\n",
       "Kurtosis:                     314.824   Cond. No.                     1.25e+11\n",
       "==============================================================================\n",
       "\n",
       "Warnings:\n",
       "[1] Standard Errors assume that the covariance matrix of the errors is correctly specified.\n",
       "[2] The condition number is large, 1.25e+11. This might indicate that there are\n",
       "strong multicollinearity or other numerical problems.\n",
       "\"\"\""
      ]
     },
     "execution_count": 332,
     "metadata": {},
     "output_type": "execute_result"
    }
   ],
   "source": [
    "reg_OLS_model.summary()"
   ]
  },
  {
   "cell_type": "code",
   "execution_count": 333,
   "metadata": {},
   "outputs": [
    {
     "data": {
      "text/plain": [
       "Index(['TOPLAM_BORC', 'BAK_YUK_OLDUGU_KISI_SAYISI', 'YILLIK_MIN_GELIR',\n",
       "       'SERMAYE', 'MEDENI_DURUMU_Boşanmış', 'MEDENI_DURUMU_Dul',\n",
       "       'MEDENI_DURUMU_E', 'MEDENI_DURUMU_Evliliğin İptali',\n",
       "       'UST_KURUM_NO_B020000', 'UST_KURUM_NO_B030000', 'UST_KURUM_NO_B040000',\n",
       "       'UST_KURUM_NO_B050000', 'UST_KURUM_NO_B060000', 'UST_KURUM_NO_B070000',\n",
       "       'UST_KURUM_NO_B080000', 'UST_KURUM_NO_B090000', 'UST_KURUM_NO_B100000',\n",
       "       'UST_KURUM_NO_B110000', 'UST_KURUM_NO_B120000', 'UST_KURUM_NO_B130000',\n",
       "       'UST_KURUM_NO_B140000', 'UST_KURUM_NO_B150000', 'UST_KURUM_NO_B160000',\n",
       "       'UST_KURUM_NO_B170000', 'COGRAFI_BOLGE_D', 'COGRAFI_BOLGE_E',\n",
       "       'COGRAFI_BOLGE_G', 'COGRAFI_BOLGE_I', 'COGRAFI_BOLGE_K',\n",
       "       'COGRAFI_BOLGE_M', 'OGRENIM_DURUMU_L', 'OGRENIM_DURUMU_O',\n",
       "       'OGRENIM_DURUMU_R', 'OGRENIM_DURUMU_T', 'OGRENIM_DURUMU_U',\n",
       "       'OGRENIM_DURUMU_Y', 'CINSIYET_K', 'ASKERLIK_DURUMU_M',\n",
       "       'ASKERLIK_DURUMU_P', 'ASKERLIK_DURUMU_T', 'ASKERLIK_DURUMU_Y',\n",
       "       'VADESI_GECEN_BORC'],\n",
       "      dtype='object')"
      ]
     },
     "execution_count": 333,
     "metadata": {},
     "output_type": "execute_result"
    }
   ],
   "source": [
    "df.columns"
   ]
  }
 ],
 "metadata": {
  "kernelspec": {
   "display_name": "Python 3",
   "language": "python",
   "name": "python3"
  },
  "language_info": {
   "codemirror_mode": {
    "name": "ipython",
    "version": 3
   },
   "file_extension": ".py",
   "mimetype": "text/x-python",
   "name": "python",
   "nbconvert_exporter": "python",
   "pygments_lexer": "ipython3",
   "version": "3.6.5"
  }
 },
 "nbformat": 4,
 "nbformat_minor": 2
}
